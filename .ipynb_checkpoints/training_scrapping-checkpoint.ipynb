{
 "cells": [
  {
   "cell_type": "code",
   "execution_count": 18,
   "id": "48b77653-b693-4ca4-8a96-9cec98f462f5",
   "metadata": {},
   "outputs": [
    {
     "name": "stdout",
     "output_type": "stream",
     "text": [
      "<Response [200]>\n",
      "['catalogue/category/books_1/index.html', 'catalogue/category/books/travel_2/index.html', 'catalogue/category/books/mystery_3/index.html', 'catalogue/category/books/historical-fiction_4/index.html', 'catalogue/category/books/sequential-art_5/index.html', 'catalogue/category/books/classics_6/index.html', 'catalogue/category/books/philosophy_7/index.html', 'catalogue/category/books/romance_8/index.html', 'catalogue/category/books/womens-fiction_9/index.html', 'catalogue/category/books/fiction_10/index.html', 'catalogue/category/books/childrens_11/index.html', 'catalogue/category/books/religion_12/index.html', 'catalogue/category/books/nonfiction_13/index.html', 'catalogue/category/books/music_14/index.html', 'catalogue/category/books/default_15/index.html', 'catalogue/category/books/science-fiction_16/index.html', 'catalogue/category/books/sports-and-games_17/index.html', 'catalogue/category/books/add-a-comment_18/index.html', 'catalogue/category/books/fantasy_19/index.html', 'catalogue/category/books/new-adult_20/index.html', 'catalogue/category/books/young-adult_21/index.html', 'catalogue/category/books/science_22/index.html', 'catalogue/category/books/poetry_23/index.html', 'catalogue/category/books/paranormal_24/index.html', 'catalogue/category/books/art_25/index.html', 'catalogue/category/books/psychology_26/index.html', 'catalogue/category/books/autobiography_27/index.html', 'catalogue/category/books/parenting_28/index.html', 'catalogue/category/books/adult-fiction_29/index.html', 'catalogue/category/books/humor_30/index.html', 'catalogue/category/books/horror_31/index.html', 'catalogue/category/books/history_32/index.html', 'catalogue/category/books/food-and-drink_33/index.html', 'catalogue/category/books/christian-fiction_34/index.html', 'catalogue/category/books/business_35/index.html', 'catalogue/category/books/biography_36/index.html', 'catalogue/category/books/thriller_37/index.html', 'catalogue/category/books/contemporary_38/index.html', 'catalogue/category/books/spirituality_39/index.html', 'catalogue/category/books/academic_40/index.html', 'catalogue/category/books/self-help_41/index.html', 'catalogue/category/books/historical_42/index.html', 'catalogue/category/books/christian_43/index.html', 'catalogue/category/books/suspense_44/index.html', 'catalogue/category/books/short-stories_45/index.html', 'catalogue/category/books/novels_46/index.html', 'catalogue/category/books/health_47/index.html', 'catalogue/category/books/politics_48/index.html', 'catalogue/category/books/cultural_49/index.html', 'catalogue/category/books/erotica_50/index.html', 'catalogue/category/books/crime_51/index.html']\n"
     ]
    }
   ],
   "source": [
    "import requests\n",
    "from bs4 import BeautifulSoup\n",
    "import pandas as pd\n",
    "url=\"https://books.toscrape.com/index.html\"\n",
    "response=requests.get(url)\n",
    "soup = BeautifulSoup(response.text, \"html.parser\")\n",
    "#response.encoding=response.apparent-encoding\n",
    "if response.status_code == 200:\n",
    "    html=response.text\n",
    "    file=open(\"Books.html\", \"w\")\n",
    "    file.write(html)\n",
    "    file.close()\n",
    "    print(response)\n",
    "else:\n",
    "    print(\"Error:\", response.status_code)\n",
    "\n",
    "#Find the attribute 'a' inside the \"side categories\" class\n",
    "categories = soup.find(\"div\", class_=\"side_categories\")\n",
    "#find all the links in the categories beginning by 'a'\n",
    "links=categories.find_all(\"a\")\n",
    "#Extract the href attribute for each link and display\n",
    "urls=[link[\"href\"] for link in links]\n",
    "print(urls)"
   ]
  },
  {
   "cell_type": "code",
   "execution_count": 35,
   "id": "d1df9bcb-e131-4c7f-b57b-45bb3fc6f5aa",
   "metadata": {},
   "outputs": [
    {
     "name": "stdout",
     "output_type": "stream",
     "text": [
      "['https://books.toscrape.com/catalogue/a-light-in-the-attic_1000/index.html', 'https://books.toscrape.com/catalogue/tipping-the-velvet_999/index.html', 'https://books.toscrape.com/catalogue/soumission_998/index.html', 'https://books.toscrape.com/catalogue/sharp-objects_997/index.html', 'https://books.toscrape.com/catalogue/sapiens-a-brief-history-of-humankind_996/index.html', 'https://books.toscrape.com/catalogue/the-requiem-red_995/index.html', 'https://books.toscrape.com/catalogue/the-dirty-little-secrets-of-getting-your-dream-job_994/index.html', 'https://books.toscrape.com/catalogue/the-coming-woman-a-novel-based-on-the-life-of-the-infamous-feminist-victoria-woodhull_993/index.html', 'https://books.toscrape.com/catalogue/the-boys-in-the-boat-nine-americans-and-their-epic-quest-for-gold-at-the-1936-berlin-olympics_992/index.html', 'https://books.toscrape.com/catalogue/the-black-maria_991/index.html', 'https://books.toscrape.com/catalogue/starving-hearts-triangular-trade-trilogy-1_990/index.html', 'https://books.toscrape.com/catalogue/shakespeares-sonnets_989/index.html', 'https://books.toscrape.com/catalogue/set-me-free_988/index.html', 'https://books.toscrape.com/catalogue/scott-pilgrims-precious-little-life-scott-pilgrim-1_987/index.html', 'https://books.toscrape.com/catalogue/rip-it-up-and-start-again_986/index.html', 'https://books.toscrape.com/catalogue/our-band-could-be-your-life-scenes-from-the-american-indie-underground-1981-1991_985/index.html', 'https://books.toscrape.com/catalogue/olio_984/index.html', 'https://books.toscrape.com/catalogue/mesaerion-the-best-science-fiction-stories-1800-1849_983/index.html', 'https://books.toscrape.com/catalogue/libertarianism-for-beginners_982/index.html', 'https://books.toscrape.com/catalogue/its-only-the-himalayas_981/index.html']\n"
     ]
    }
   ],
   "source": [
    "#requests and BeautifulSoup already imported in the first exercice.\n",
    "##Find the attribute 'article' inside the \"product_pod\" class for all books\n",
    "books = soup.find_all(\"article\", class_=\"product_pod\")\n",
    "\n",
    "urls = [\"https://books.toscrape.com/\" + book.h3.a[\"href\"] for book in books]\n",
    "print(urls)"
   ]
  },
  {
   "cell_type": "code",
   "execution_count": null,
   "id": "729b42bd-628c-412a-9f7c-fffa1a92bce9",
   "metadata": {},
   "outputs": [],
   "source": []
  }
 ],
 "metadata": {
  "kernelspec": {
   "display_name": "Python 3 (ipykernel)",
   "language": "python",
   "name": "python3"
  },
  "language_info": {
   "codemirror_mode": {
    "name": "ipython",
    "version": 3
   },
   "file_extension": ".py",
   "mimetype": "text/x-python",
   "name": "python",
   "nbconvert_exporter": "python",
   "pygments_lexer": "ipython3",
   "version": "3.11.7"
  }
 },
 "nbformat": 4,
 "nbformat_minor": 5
}
