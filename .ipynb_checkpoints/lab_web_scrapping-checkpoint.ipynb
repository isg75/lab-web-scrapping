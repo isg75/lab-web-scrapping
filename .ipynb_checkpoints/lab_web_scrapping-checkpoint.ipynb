{
 "cells": [
  {
   "cell_type": "markdown",
   "metadata": {
    "id": "Rq7Fx0T_DPsE"
   },
   "source": [
    "# Web Scrapping lab"
   ]
  },
  {
   "cell_type": "markdown",
   "metadata": {
    "id": "K3n7CJfCD2pK"
   },
   "source": [
    "In this lab you will scrappe this [website](https://books.toscrape.com/) of books.\n",
    "\n",
    "You have to create a Pandas DataFrame with all the books listed in the page. Each row of the DataFrame should contain information of each book. In particular, the DataFrmae must contain:\n",
    "\n",
    "* category\n",
    "* title\n",
    "* price\n",
    "* stock availability\n",
    "* star rating (number of stars)\n",
    "* description\n",
    "* UPC\n",
    "\n",
    "Happy scrapping!\n",
    "\n"
   ]
  },
  {
   "cell_type": "markdown",
   "metadata": {
    "id": "IaqLnJRLBqMS"
   },
   "source": [
    "# Server verification"
   ]
  },
  {
   "cell_type": "markdown",
   "metadata": {
    "id": "QNXuRli_BvJp"
   },
   "source": [
    "Load the needed libraries, and make sure thar you can obtain the correct status code."
   ]
  },
  {
   "cell_type": "code",
   "execution_count": 2,
   "metadata": {
    "colab": {
     "base_uri": "https://localhost:8080/"
    },
    "id": "szKOZm99Frlf",
    "outputId": "184b2f54-7eaa-4d31-b66f-f3f8311e80e6"
   },
   "outputs": [
    {
     "name": "stdout",
     "output_type": "stream",
     "text": [
      "Success! Status Code: 200\n"
     ]
    }
   ],
   "source": [
    "# Your code here\n",
    "# Step 1: Load the needed libraries\n",
    "import requests\n",
    "from bs4 import BeautifulSoup\n",
    "\n",
    "# Make sure you can obtain the correct status code\n",
    "url = 'http://books.toscrape.com/'  # Replace with the website you are scraping from \n",
    "response = requests.get(url)\n",
    "\n",
    "# Check the status code\n",
    "if response.status_code == 200:\n",
    "    print(f\"Success! Status Code: {response.status_code}\")\n",
    "else:\n",
    "    print(f\"Failed to access site, Status Code: {response.status_code}\")\n"
   ]
  },
  {
   "cell_type": "markdown",
   "metadata": {
    "id": "SSrTPTKnCD-N"
   },
   "source": [
    "# Book categories"
   ]
  },
  {
   "cell_type": "markdown",
   "metadata": {
    "id": "Yu5FjaMECISF"
   },
   "source": [
    "Create the code to collect the **relative urls** from the left panel to obtain a list with all the book categories."
   ]
  },
  {
   "cell_type": "code",
   "execution_count": 4,
   "metadata": {
    "colab": {
     "base_uri": "https://localhost:8080/"
    },
    "id": "Y12krHNrGPsu",
    "outputId": "8e1a4907-1b82-4f2d-f8a9-c7c10b6e6bed"
   },
   "outputs": [
    {
     "name": "stdout",
     "output_type": "stream",
     "text": [
      "['catalogue/category/books_1/index.html', 'catalogue/category/books/travel_2/index.html', 'catalogue/category/books/mystery_3/index.html', 'catalogue/category/books/historical-fiction_4/index.html', 'catalogue/category/books/sequential-art_5/index.html', 'catalogue/category/books/classics_6/index.html', 'catalogue/category/books/philosophy_7/index.html', 'catalogue/category/books/romance_8/index.html', 'catalogue/category/books/womens-fiction_9/index.html', 'catalogue/category/books/fiction_10/index.html', 'catalogue/category/books/childrens_11/index.html', 'catalogue/category/books/religion_12/index.html', 'catalogue/category/books/nonfiction_13/index.html', 'catalogue/category/books/music_14/index.html', 'catalogue/category/books/default_15/index.html', 'catalogue/category/books/science-fiction_16/index.html', 'catalogue/category/books/sports-and-games_17/index.html', 'catalogue/category/books/add-a-comment_18/index.html', 'catalogue/category/books/fantasy_19/index.html', 'catalogue/category/books/new-adult_20/index.html', 'catalogue/category/books/young-adult_21/index.html', 'catalogue/category/books/science_22/index.html', 'catalogue/category/books/poetry_23/index.html', 'catalogue/category/books/paranormal_24/index.html', 'catalogue/category/books/art_25/index.html', 'catalogue/category/books/psychology_26/index.html', 'catalogue/category/books/autobiography_27/index.html', 'catalogue/category/books/parenting_28/index.html', 'catalogue/category/books/adult-fiction_29/index.html', 'catalogue/category/books/humor_30/index.html', 'catalogue/category/books/horror_31/index.html', 'catalogue/category/books/history_32/index.html', 'catalogue/category/books/food-and-drink_33/index.html', 'catalogue/category/books/christian-fiction_34/index.html', 'catalogue/category/books/business_35/index.html', 'catalogue/category/books/biography_36/index.html', 'catalogue/category/books/thriller_37/index.html', 'catalogue/category/books/contemporary_38/index.html', 'catalogue/category/books/spirituality_39/index.html', 'catalogue/category/books/academic_40/index.html', 'catalogue/category/books/self-help_41/index.html', 'catalogue/category/books/historical_42/index.html', 'catalogue/category/books/christian_43/index.html', 'catalogue/category/books/suspense_44/index.html', 'catalogue/category/books/short-stories_45/index.html', 'catalogue/category/books/novels_46/index.html', 'catalogue/category/books/health_47/index.html', 'catalogue/category/books/politics_48/index.html', 'catalogue/category/books/cultural_49/index.html', 'catalogue/category/books/erotica_50/index.html', 'catalogue/category/books/crime_51/index.html']\n"
     ]
    }
   ],
   "source": [
    "# Your code here\n",
    "\n",
    "#Collect all book category URLs\n",
    "response = requests.get(url)\n",
    "soup = BeautifulSoup(response.content, 'html.parser')\n",
    "\n",
    "# Find the left panel with all categories (adjust the class or tag to match the HTML structure)\n",
    "categories_panel = soup.find('ul', class_='nav-list')\n",
    "\n",
    "# Extract the relative URLs for each category\n",
    "category_links = [a['href'] for a in categories_panel.find_all('a') if 'href' in a.attrs]\n",
    "\n",
    "# Print the collected category links\n",
    "print(category_links)\n"
   ]
  },
  {
   "cell_type": "markdown",
   "metadata": {
    "id": "tAq9izU8Cpyx"
   },
   "source": [
    "# Books in a given category\n",
    "\n",
    "Use. web scrapping and list comprehension to obtain the **absolute** url of each book to be scraped"
   ]
  },
  {
   "cell_type": "code",
   "execution_count": 6,
   "metadata": {
    "id": "gC6uP76bHwNv"
   },
   "outputs": [
    {
     "name": "stdout",
     "output_type": "stream",
     "text": [
      "['http://books.toscrape.com/catalogue/category/books_1/index.html', 'http://books.toscrape.com/catalogue/category/books/travel_2/index.html', 'http://books.toscrape.com/catalogue/category/books/mystery_3/index.html', 'http://books.toscrape.com/catalogue/category/books/historical-fiction_4/index.html', 'http://books.toscrape.com/catalogue/category/books/sequential-art_5/index.html', 'http://books.toscrape.com/catalogue/category/books/classics_6/index.html', 'http://books.toscrape.com/catalogue/category/books/philosophy_7/index.html', 'http://books.toscrape.com/catalogue/category/books/romance_8/index.html', 'http://books.toscrape.com/catalogue/category/books/womens-fiction_9/index.html', 'http://books.toscrape.com/catalogue/category/books/fiction_10/index.html', 'http://books.toscrape.com/catalogue/category/books/childrens_11/index.html', 'http://books.toscrape.com/catalogue/category/books/religion_12/index.html', 'http://books.toscrape.com/catalogue/category/books/nonfiction_13/index.html', 'http://books.toscrape.com/catalogue/category/books/music_14/index.html', 'http://books.toscrape.com/catalogue/category/books/default_15/index.html', 'http://books.toscrape.com/catalogue/category/books/science-fiction_16/index.html', 'http://books.toscrape.com/catalogue/category/books/sports-and-games_17/index.html', 'http://books.toscrape.com/catalogue/category/books/add-a-comment_18/index.html', 'http://books.toscrape.com/catalogue/category/books/fantasy_19/index.html', 'http://books.toscrape.com/catalogue/category/books/new-adult_20/index.html', 'http://books.toscrape.com/catalogue/category/books/young-adult_21/index.html', 'http://books.toscrape.com/catalogue/category/books/science_22/index.html', 'http://books.toscrape.com/catalogue/category/books/poetry_23/index.html', 'http://books.toscrape.com/catalogue/category/books/paranormal_24/index.html', 'http://books.toscrape.com/catalogue/category/books/art_25/index.html', 'http://books.toscrape.com/catalogue/category/books/psychology_26/index.html', 'http://books.toscrape.com/catalogue/category/books/autobiography_27/index.html', 'http://books.toscrape.com/catalogue/category/books/parenting_28/index.html', 'http://books.toscrape.com/catalogue/category/books/adult-fiction_29/index.html', 'http://books.toscrape.com/catalogue/category/books/humor_30/index.html', 'http://books.toscrape.com/catalogue/category/books/horror_31/index.html', 'http://books.toscrape.com/catalogue/category/books/history_32/index.html', 'http://books.toscrape.com/catalogue/category/books/food-and-drink_33/index.html', 'http://books.toscrape.com/catalogue/category/books/christian-fiction_34/index.html', 'http://books.toscrape.com/catalogue/category/books/business_35/index.html', 'http://books.toscrape.com/catalogue/category/books/biography_36/index.html', 'http://books.toscrape.com/catalogue/category/books/thriller_37/index.html', 'http://books.toscrape.com/catalogue/category/books/contemporary_38/index.html', 'http://books.toscrape.com/catalogue/category/books/spirituality_39/index.html', 'http://books.toscrape.com/catalogue/category/books/academic_40/index.html', 'http://books.toscrape.com/catalogue/category/books/self-help_41/index.html', 'http://books.toscrape.com/catalogue/category/books/historical_42/index.html', 'http://books.toscrape.com/catalogue/category/books/christian_43/index.html', 'http://books.toscrape.com/catalogue/category/books/suspense_44/index.html', 'http://books.toscrape.com/catalogue/category/books/short-stories_45/index.html', 'http://books.toscrape.com/catalogue/category/books/novels_46/index.html', 'http://books.toscrape.com/catalogue/category/books/health_47/index.html', 'http://books.toscrape.com/catalogue/category/books/politics_48/index.html', 'http://books.toscrape.com/catalogue/category/books/cultural_49/index.html', 'http://books.toscrape.com/catalogue/category/books/erotica_50/index.html', 'http://books.toscrape.com/catalogue/category/books/crime_51/index.html']\n"
     ]
    }
   ],
   "source": [
    "# Your code here\n",
    "# Get absolute URLs for each book\n",
    "absolute_category_urls = [url + link for link in category_links]\n",
    "\n",
    "# Print to verify the absolute URLs\n",
    "print(absolute_category_urls)\n"
   ]
  },
  {
   "cell_type": "markdown",
   "metadata": {
    "id": "wLIh0a_LDJMo"
   },
   "source": [
    "# Book details\n",
    "\n",
    "Create a Python function that given a book_url as an input returns a dictionary with the following structure:\n",
    "\n",
    "```Python\n",
    "{\"Title\": title, \"Price\": price, \"Availability\": availability, \"Rating\": rating, \"Description\": description, \"UPC\": upc}\n",
    "```\n",
    "\n",
    "where `description` should contain the book's summary given in the Product description, and the values are the book's associated information."
   ]
  },
  {
   "cell_type": "code",
   "execution_count": 8,
   "metadata": {
    "id": "5-uC7hz1LxCd"
   },
   "outputs": [],
   "source": [
    "# Your code here\n",
    "# Function to scrape book information\n",
    "def scrape_book_info(book_url):\n",
    "    response = requests.get(book_url)\n",
    "    soup = BeautifulSoup(response.content, 'html.parser')\n",
    "\n",
    "    # Extract book details\n",
    "    title = soup.find('h1').text\n",
    "    price = soup.find('p', class_='price_color').text\n",
    "    availability = soup.find('p', class_='instock availability').text.strip()\n",
    "    rating = soup.find('p', class_='star-rating')['class'][1]  # The second class contains the rating (e.g., \"Three\")\n",
    "    description = soup.find('meta', {'name': 'description'})['content'].strip()\n",
    "    upc = soup.find('table').find('td').text  # First row in the table is usually the UPC\n",
    "\n",
    "    # Return the dictionary\n",
    "    return {\"Title\": title, \"Price\": price, \"Availability\": availability, \"Rating\": rating, \n",
    "            \"Description\": description, \"UPC\": upc}\n"
   ]
  },
  {
   "cell_type": "markdown",
   "metadata": {
    "id": "GvSqhX4UDxbb"
   },
   "source": [
    "# Collect and store all the information from the books in a Pandas DataFrame\n",
    "\n",
    "Start with the following dictionary:\n",
    "\n",
    "```python\n",
    "books_dict = {\"Title\": [], \"Price\": [], \"Availability\": [], \"Rating\": [], \"Description\": [], \"UPC\": [], \"Category\": [] }\n",
    "```\n",
    "\n",
    "Then, iterate over all the categories and all the books in a given category to collect any book information using the previous function. Fill the previous dictionary with the information about each book.\n",
    "\n",
    "Show the first five rows of the previous final Pandas DataFrame.\n",
    "\n",
    "Tip: You can use the function `tqdm` from the library `tqdm` to show a progress bar if in iterable of a for loop as shown below :wink: :\n",
    "\n",
    "```python\n",
    "from tqdm import tqdm\n",
    "\n",
    "for elem in tqdm(iterable):\n",
    "    # some code\n",
    "```\n",
    "\n",
    "\n",
    "\n"
   ]
  },
  {
   "cell_type": "code",
   "execution_count": 10,
   "metadata": {
    "colab": {
     "base_uri": "https://localhost:8080/",
     "height": 1000
    },
    "id": "apeImoCxStA5",
    "outputId": "20d2d37c-5cbe-4062-e407-80f77955a8d3"
   },
   "outputs": [
    {
     "name": "stderr",
     "output_type": "stream",
     "text": [
      "100%|███████████████████████████████████████████| 51/51 [00:18<00:00,  2.75it/s]"
     ]
    },
    {
     "name": "stdout",
     "output_type": "stream",
     "text": [
      "Empty DataFrame\n",
      "Columns: [Title, Price, Availability, Rating, Description, UPC, Category]\n",
      "Index: []\n"
     ]
    },
    {
     "name": "stderr",
     "output_type": "stream",
     "text": [
      "\n"
     ]
    }
   ],
   "source": [
    "from tqdm import tqdm\n",
    "\n",
    "# Your code here\n",
    "\n",
    "# Start scraping all books\n",
    "books_dict = {\"Title\": [], \"Price\": [], \"Availability\": [], \"Rating\": [], \"Description\": [], \"UPC\": [], \"Category\": [] }\n",
    "\n",
    "# Iterate over each category\n",
    "for category_url in tqdm(absolute_category_urls):\n",
    "    category_response = requests.get(category_url)\n",
    "    category_soup = BeautifulSoup(category_response.content, 'html.parser')\n",
    "\n",
    "    # Find all book links in the current category\n",
    "    book_links = [a['href'] for a in category_soup.find_all('a', href=True) if 'catalogue' in a['href']]\n",
    "\n",
    "    # Iterate over each book in the category\n",
    "    for book_link in book_links:\n",
    "        book_url = url + book_link  # Form the complete URL for each book\n",
    "        book_info = scrape_book_info(book_url)  # Get book info using the function from Step 4\n",
    "\n",
    "        # Fill the dictionary with the book's information\n",
    "        for key, value in book_info.items():\n",
    "            books_dict[key].append(value)\n",
    "        books_dict['Category'].append(category_url.split('/')[-2])  # Append the category name\n",
    "\n",
    "# Convert the dictionary to a DataFrame\n",
    "import pandas as pd\n",
    "books_df = pd.DataFrame(books_dict)\n",
    "\n",
    "# First 5 rows of the DataFrame\n",
    "print(books_df.head())\n"
   ]
  },
  {
   "cell_type": "code",
   "execution_count": null,
   "metadata": {},
   "outputs": [],
   "source": []
  }
 ],
 "metadata": {
  "colab": {
   "provenance": []
  },
  "kernelspec": {
   "display_name": "Python 3 (ipykernel)",
   "language": "python",
   "name": "python3"
  },
  "language_info": {
   "codemirror_mode": {
    "name": "ipython",
    "version": 3
   },
   "file_extension": ".py",
   "mimetype": "text/x-python",
   "name": "python",
   "nbconvert_exporter": "python",
   "pygments_lexer": "ipython3",
   "version": "3.12.4"
  }
 },
 "nbformat": 4,
 "nbformat_minor": 4
}
