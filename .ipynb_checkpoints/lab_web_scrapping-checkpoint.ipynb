{
 "cells": [
  {
   "cell_type": "markdown",
   "metadata": {
    "id": "Rq7Fx0T_DPsE"
   },
   "source": [
    "# Web Scrapping lab"
   ]
  },
  {
   "cell_type": "markdown",
   "metadata": {
    "id": "K3n7CJfCD2pK"
   },
   "source": [
    "In this lab you will scrappe this [website](https://books.toscrape.com/) of books.\n",
    "\n",
    "You have to create a Pandas DataFrame with all the books listed in the page. Each row of the DataFrame should contain information of each book. In particular, the DataFrmae must contain:\n",
    "\n",
    "* category\n",
    "* title\n",
    "* price\n",
    "* stock availability\n",
    "* star rating (number of stars)\n",
    "* description\n",
    "* UPC\n",
    "\n",
    "Happy scrapping!\n",
    "\n"
   ]
  },
  {
   "cell_type": "markdown",
   "metadata": {
    "id": "IaqLnJRLBqMS"
   },
   "source": [
    "# Server verification"
   ]
  },
  {
   "cell_type": "markdown",
   "metadata": {
    "id": "QNXuRli_BvJp"
   },
   "source": [
    "Load the needed libraries, and make sure thar you can obtain the correct status code."
   ]
  },
  {
   "cell_type": "code",
   "execution_count": 23,
   "metadata": {
    "colab": {
     "base_uri": "https://localhost:8080/"
    },
    "id": "szKOZm99Frlf",
    "outputId": "184b2f54-7eaa-4d31-b66f-f3f8311e80e6"
   },
   "outputs": [],
   "source": [
    "\n",
    "import requests\n",
    "from bs4 import BeautifulSoup\n",
    "import pandas as pd\n",
    "\n",
    "url = \"http://books.toscrape.com/\"\n",
    "response = requests.get(url)\n"
   ]
  },
  {
   "cell_type": "markdown",
   "metadata": {
    "id": "SSrTPTKnCD-N"
   },
   "source": [
    "# Book categories"
   ]
  },
  {
   "cell_type": "markdown",
   "metadata": {
    "id": "Yu5FjaMECISF"
   },
   "source": [
    "Create the code to collect the **relative urls** from the left panel to obtain a list with all the book categories."
   ]
  },
  {
   "cell_type": "code",
   "execution_count": 24,
   "metadata": {
    "colab": {
     "base_uri": "https://localhost:8080/"
    },
    "id": "Y12krHNrGPsu",
    "outputId": "8e1a4907-1b82-4f2d-f8a9-c7c10b6e6bed"
   },
   "outputs": [],
   "source": [
    "soup = BeautifulSoup(response.content, \"html.parser\")\n",
    "categories = soup.select('.nav-list a')\n",
    "\n",
    "cat_urls = []\n",
    "cat_names = []\n",
    "for category in categories:\n",
    "    cat_urls.append(category[\"href\"])\n",
    "    cat_names.append(category.text.strip())"
   ]
  },
  {
   "cell_type": "markdown",
   "metadata": {
    "id": "tAq9izU8Cpyx"
   },
   "source": [
    "# Books in a given category\n",
    "\n",
    "Use. web scrapping and list comprehension to obtain the **absolute** url of each book to be scraped"
   ]
  },
  {
   "cell_type": "code",
   "execution_count": 25,
   "metadata": {},
   "outputs": [],
   "source": [
    "def get_book_urls(category_url):\n",
    "    response = requests.get(url + category_url)\n",
    "    soup = BeautifulSoup(response.text, 'html.parser')\n",
    "    book_links = soup.select('h3 a')\n",
    "    book_urls = [url + 'catalogue/' + link.get('href') for link in book_links]\n",
    "    return book_urls\n"
   ]
  },
  {
   "cell_type": "markdown",
   "metadata": {
    "id": "wLIh0a_LDJMo"
   },
   "source": [
    "# Book details\n",
    "\n",
    "Create a Python function that given a book_url as an input returns a dictionary with the following structure:\n",
    "\n",
    "```Python\n",
    "{\"Title\": title, \"Price\": price, \"Availability\": availability, \"Rating\": rating, \"Description\": description, \"UPC\": upc}\n",
    "```\n",
    "\n",
    "where `description` should contain the book's summary given in the Product description, and the values are the book's associated information."
   ]
  },
  {
   "cell_type": "code",
   "execution_count": 26,
   "metadata": {
    "id": "5-uC7hz1LxCd"
   },
   "outputs": [],
   "source": [
    "\n",
    "\n",
    "def book_details(url):\n",
    "    response = requests.get(url)\n",
    "    soup = BeautifulSoup(response.content, \"html.parser\")\n",
    "    \n",
    "    title = soup.h1.text\n",
    "    price = soup.select_one('.price_color').text\n",
    "    availability = soup.select_one('.instock.availability').text.strip()\n",
    "    rating = soup.select_one('p.star-rating').get('class')[1]\n",
    "    rating = {'One': 1, 'Two': 2, 'Three': 3, 'Four': 4, 'Five': 5}[rating]\n",
    "    description = soup.select_one('#product_description + p').text if soup.select_one('#product_description + p') else 'No description available'\n",
    "    upc = soup.select_one('th:contains(\"UPC\") + td').text\n",
    "\n",
    "    dic = {\n",
    "        \"Title\": title,\n",
    "        \"Price\": price,\n",
    "        \"Availability\": availability,\n",
    "        \"Rating\": rating,\n",
    "        \"Description\": description,\n",
    "        \"UPC\": upc\n",
    "    }\n",
    "    return dic\n",
    "\n"
   ]
  },
  {
   "cell_type": "markdown",
   "metadata": {
    "id": "GvSqhX4UDxbb"
   },
   "source": [
    "# Collect and store all the information from the books in a Pandas DataFrame\n",
    "\n",
    "Start with the following dictionary:\n",
    "\n",
    "```python\n",
    "books_dict = {\"Title\": [], \"Price\": [], \"Availability\": [], \"Rating\": [], \"Description\": [], \"UPC\": [], \"Category\": [] }\n",
    "```\n",
    "\n",
    "Then, iterate over all the categories and all the books in a given category to collect any book information using the previous function. Fill the previous dictionary with the information about each book.\n",
    "\n",
    "Show the first five rows of the previous final Pandas DataFrame.\n",
    "\n",
    "Tip: You can use the function `tqdm` from the library `tqdm` to show a progress bar if in iterable of a for loop as shown below :wink: :\n",
    "\n",
    "```python\n",
    "from tqdm import tqdm\n",
    "\n",
    "for elem in tqdm(iterable):\n",
    "    # some code\n",
    "```\n",
    "\n",
    "\n",
    "\n"
   ]
  },
  {
   "cell_type": "code",
   "execution_count": null,
   "metadata": {
    "colab": {
     "base_uri": "https://localhost:8080/",
     "height": 1000
    },
    "id": "apeImoCxStA5",
    "outputId": "20d2d37c-5cbe-4062-e407-80f77955a8d3"
   },
   "outputs": [
    {
     "name": "stderr",
     "output_type": "stream",
     "text": [
      "0it [00:00, ?it/s]"
     ]
    },
    {
     "name": "stdout",
     "output_type": "stream",
     "text": [
      "Failed to process http://books.toscrape.com/catalogue/../../a-light-in-the-attic_1000/index.html: 'NoneType' object has no attribute 'text'\n",
      "Failed to process http://books.toscrape.com/catalogue/../../tipping-the-velvet_999/index.html: 'NoneType' object has no attribute 'text'\n",
      "Failed to process http://books.toscrape.com/catalogue/../../soumission_998/index.html: 'NoneType' object has no attribute 'text'\n",
      "Failed to process http://books.toscrape.com/catalogue/../../sharp-objects_997/index.html: 'NoneType' object has no attribute 'text'\n",
      "Failed to process http://books.toscrape.com/catalogue/../../sapiens-a-brief-history-of-humankind_996/index.html: 'NoneType' object has no attribute 'text'\n",
      "Failed to process http://books.toscrape.com/catalogue/../../the-requiem-red_995/index.html: 'NoneType' object has no attribute 'text'\n",
      "Failed to process http://books.toscrape.com/catalogue/../../the-dirty-little-secrets-of-getting-your-dream-job_994/index.html: 'NoneType' object has no attribute 'text'\n",
      "Failed to process http://books.toscrape.com/catalogue/../../the-coming-woman-a-novel-based-on-the-life-of-the-infamous-feminist-victoria-woodhull_993/index.html: 'NoneType' object has no attribute 'text'\n",
      "Failed to process http://books.toscrape.com/catalogue/../../the-boys-in-the-boat-nine-americans-and-their-epic-quest-for-gold-at-the-1936-berlin-olympics_992/index.html: 'NoneType' object has no attribute 'text'\n",
      "Failed to process http://books.toscrape.com/catalogue/../../the-black-maria_991/index.html: 'NoneType' object has no attribute 'text'\n",
      "Failed to process http://books.toscrape.com/catalogue/../../starving-hearts-triangular-trade-trilogy-1_990/index.html: 'NoneType' object has no attribute 'text'\n",
      "Failed to process http://books.toscrape.com/catalogue/../../shakespeares-sonnets_989/index.html: 'NoneType' object has no attribute 'text'\n",
      "Failed to process http://books.toscrape.com/catalogue/../../set-me-free_988/index.html: 'NoneType' object has no attribute 'text'\n",
      "Failed to process http://books.toscrape.com/catalogue/../../scott-pilgrims-precious-little-life-scott-pilgrim-1_987/index.html: 'NoneType' object has no attribute 'text'\n",
      "Failed to process http://books.toscrape.com/catalogue/../../rip-it-up-and-start-again_986/index.html: 'NoneType' object has no attribute 'text'\n",
      "Failed to process http://books.toscrape.com/catalogue/../../our-band-could-be-your-life-scenes-from-the-american-indie-underground-1981-1991_985/index.html: 'NoneType' object has no attribute 'text'\n",
      "Failed to process http://books.toscrape.com/catalogue/../../olio_984/index.html: 'NoneType' object has no attribute 'text'\n",
      "Failed to process http://books.toscrape.com/catalogue/../../mesaerion-the-best-science-fiction-stories-1800-1849_983/index.html: 'NoneType' object has no attribute 'text'\n",
      "Failed to process http://books.toscrape.com/catalogue/../../libertarianism-for-beginners_982/index.html: 'NoneType' object has no attribute 'text'\n"
     ]
    },
    {
     "name": "stderr",
     "output_type": "stream",
     "text": [
      "1it [00:05,  5.39s/it]"
     ]
    },
    {
     "name": "stdout",
     "output_type": "stream",
     "text": [
      "Failed to process http://books.toscrape.com/catalogue/../../its-only-the-himalayas_981/index.html: 'NoneType' object has no attribute 'text'\n",
      "Failed to process http://books.toscrape.com/catalogue/../../../its-only-the-himalayas_981/index.html: 'NoneType' object has no attribute 'text'\n",
      "Failed to process http://books.toscrape.com/catalogue/../../../full-moon-over-noahs-ark-an-odyssey-to-mount-ararat-and-beyond_811/index.html: 'NoneType' object has no attribute 'text'\n",
      "Failed to process http://books.toscrape.com/catalogue/../../../see-america-a-celebration-of-our-national-parks-treasured-sites_732/index.html: 'NoneType' object has no attribute 'text'\n",
      "Failed to process http://books.toscrape.com/catalogue/../../../vagabonding-an-uncommon-guide-to-the-art-of-long-term-world-travel_552/index.html: 'NoneType' object has no attribute 'text'\n",
      "Failed to process http://books.toscrape.com/catalogue/../../../under-the-tuscan-sun_504/index.html: 'NoneType' object has no attribute 'text'\n",
      "Failed to process http://books.toscrape.com/catalogue/../../../a-summer-in-europe_458/index.html: 'NoneType' object has no attribute 'text'\n",
      "Failed to process http://books.toscrape.com/catalogue/../../../the-great-railway-bazaar_446/index.html: 'NoneType' object has no attribute 'text'\n",
      "Failed to process http://books.toscrape.com/catalogue/../../../a-year-in-provence-provence-1_421/index.html: 'NoneType' object has no attribute 'text'\n",
      "Failed to process http://books.toscrape.com/catalogue/../../../the-road-to-little-dribbling-adventures-of-an-american-in-britain-notes-from-a-small-island-2_277/index.html: 'NoneType' object has no attribute 'text'\n",
      "Failed to process http://books.toscrape.com/catalogue/../../../neither-here-nor-there-travels-in-europe_198/index.html: 'NoneType' object has no attribute 'text'\n"
     ]
    },
    {
     "name": "stderr",
     "output_type": "stream",
     "text": [
      "2it [00:08,  4.06s/it]"
     ]
    },
    {
     "name": "stdout",
     "output_type": "stream",
     "text": [
      "Failed to process http://books.toscrape.com/catalogue/../../../1000-places-to-see-before-you-die_1/index.html: 'NoneType' object has no attribute 'text'\n",
      "Failed to process http://books.toscrape.com/catalogue/../../../sharp-objects_997/index.html: 'NoneType' object has no attribute 'text'\n",
      "Failed to process http://books.toscrape.com/catalogue/../../../in-a-dark-dark-wood_963/index.html: 'NoneType' object has no attribute 'text'\n",
      "Failed to process http://books.toscrape.com/catalogue/../../../the-past-never-ends_942/index.html: 'NoneType' object has no attribute 'text'\n",
      "Failed to process http://books.toscrape.com/catalogue/../../../a-murder-in-time_877/index.html: 'NoneType' object has no attribute 'text'\n",
      "Failed to process http://books.toscrape.com/catalogue/../../../the-murder-of-roger-ackroyd-hercule-poirot-4_852/index.html: 'NoneType' object has no attribute 'text'\n",
      "Failed to process http://books.toscrape.com/catalogue/../../../the-last-mile-amos-decker-2_754/index.html: 'NoneType' object has no attribute 'text'\n",
      "Failed to process http://books.toscrape.com/catalogue/../../../that-darkness-gardiner-and-renner-1_743/index.html: 'NoneType' object has no attribute 'text'\n",
      "Failed to process http://books.toscrape.com/catalogue/../../../tastes-like-fear-di-marnie-rome-3_742/index.html: 'NoneType' object has no attribute 'text'\n",
      "Failed to process http://books.toscrape.com/catalogue/../../../a-time-of-torment-charlie-parker-14_657/index.html: 'NoneType' object has no attribute 'text'\n",
      "Failed to process http://books.toscrape.com/catalogue/../../../a-study-in-scarlet-sherlock-holmes-1_656/index.html: 'NoneType' object has no attribute 'text'\n",
      "Failed to process http://books.toscrape.com/catalogue/../../../poisonous-max-revere-novels-3_627/index.html: 'NoneType' object has no attribute 'text'\n",
      "Failed to process http://books.toscrape.com/catalogue/../../../murder-at-the-42nd-street-library-raymond-ambler-1_624/index.html: 'NoneType' object has no attribute 'text'\n",
      "Failed to process http://books.toscrape.com/catalogue/../../../most-wanted_623/index.html: 'NoneType' object has no attribute 'text'\n",
      "Failed to process http://books.toscrape.com/catalogue/../../../hide-away-eve-duncan-20_620/index.html: 'NoneType' object has no attribute 'text'\n",
      "Failed to process http://books.toscrape.com/catalogue/../../../boar-island-anna-pigeon-19_613/index.html: 'NoneType' object has no attribute 'text'\n",
      "Failed to process http://books.toscrape.com/catalogue/../../../the-widow_609/index.html: 'NoneType' object has no attribute 'text'\n",
      "Failed to process http://books.toscrape.com/catalogue/../../../playing-with-fire_602/index.html: 'NoneType' object has no attribute 'text'\n",
      "Failed to process http://books.toscrape.com/catalogue/../../../what-happened-on-beale-street-secrets-of-the-south-mysteries-2_506/index.html: 'NoneType' object has no attribute 'text'\n",
      "Failed to process http://books.toscrape.com/catalogue/../../../the-bachelor-girls-guide-to-murder-herringford-and-watts-mysteries-1_491/index.html: 'NoneType' object has no attribute 'text'\n"
     ]
    },
    {
     "name": "stderr",
     "output_type": "stream",
     "text": [
      "3it [00:13,  4.67s/it]"
     ]
    },
    {
     "name": "stdout",
     "output_type": "stream",
     "text": [
      "Failed to process http://books.toscrape.com/catalogue/../../../delivering-the-truth-quaker-midwife-mystery-1_464/index.html: 'NoneType' object has no attribute 'text'\n",
      "Failed to process http://books.toscrape.com/catalogue/../../../tipping-the-velvet_999/index.html: 'NoneType' object has no attribute 'text'\n",
      "Failed to process http://books.toscrape.com/catalogue/../../../forever-and-forever-the-courtship-of-henry-longfellow-and-fanny-appleton_894/index.html: 'NoneType' object has no attribute 'text'\n",
      "Failed to process http://books.toscrape.com/catalogue/../../../a-flight-of-arrows-the-pathfinders-2_876/index.html: 'NoneType' object has no attribute 'text'\n",
      "Failed to process http://books.toscrape.com/catalogue/../../../the-house-by-the-lake_846/index.html: 'NoneType' object has no attribute 'text'\n",
      "Failed to process http://books.toscrape.com/catalogue/../../../mrs-houdini_821/index.html: 'NoneType' object has no attribute 'text'\n",
      "Failed to process http://books.toscrape.com/catalogue/../../../the-marriage-of-opposites_759/index.html: 'NoneType' object has no attribute 'text'\n",
      "Failed to process http://books.toscrape.com/catalogue/../../../glory-over-everything-beyond-the-kitchen-house_696/index.html: 'NoneType' object has no attribute 'text'\n",
      "Failed to process http://books.toscrape.com/catalogue/../../../love-lies-and-spies_622/index.html: 'NoneType' object has no attribute 'text'\n",
      "Failed to process http://books.toscrape.com/catalogue/../../../a-paris-apartment_612/index.html: 'NoneType' object has no attribute 'text'\n"
     ]
    }
   ],
   "source": [
    "from tqdm import tqdm\n",
    "\n",
    "books_dict = {\"Title\": [], \"Price\": [], \"Availability\": [], \"Rating\": [], \"Description\": [], \"UPC\": [], \"Category\": []}\n",
    "\n",
    "for category_url, category_name in tqdm(zip(cat_url, cat_names)):\n",
    "    book_urls = get_book_urls(category_url)\n",
    "    for book_url in book_urls:\n",
    "        try:\n",
    "            book_info = book_details(book_url)\n",
    "            books_dict[\"Title\"].append(book_info[\"Title\"])\n",
    "            books_dict[\"Price\"].append(book_info[\"Price\"])\n",
    "            books_dict[\"Availability\"].append(book_info[\"Availability\"])\n",
    "            books_dict[\"Rating\"].append(book_info[\"Rating\"])\n",
    "            books_dict[\"Description\"].append(book_info[\"Description\"])\n",
    "            books_dict[\"UPC\"].append(book_info[\"UPC\"])\n",
    "            books_dict[\"Category\"].append(category_name)\n",
    "        except Exception as e:\n",
    "            print(f\"Failed to process {book_url}: {e}\")\n",
    "\n",
    "# Creating DataFrame from the dictionary\n",
    "df = pd.DataFrame(books_dict)\n",
    "\n",
    "# Display the DataFrame\n",
    "print(df.head())"
   ]
  },
  {
   "cell_type": "code",
   "execution_count": null,
   "metadata": {},
   "outputs": [],
   "source": []
  }
 ],
 "metadata": {
  "colab": {
   "provenance": []
  },
  "kernelspec": {
   "display_name": "Python 3 (ipykernel)",
   "language": "python",
   "name": "python3"
  },
  "language_info": {
   "codemirror_mode": {
    "name": "ipython",
    "version": 3
   },
   "file_extension": ".py",
   "mimetype": "text/x-python",
   "name": "python",
   "nbconvert_exporter": "python",
   "pygments_lexer": "ipython3",
   "version": "3.12.4"
  }
 },
 "nbformat": 4,
 "nbformat_minor": 4
}
