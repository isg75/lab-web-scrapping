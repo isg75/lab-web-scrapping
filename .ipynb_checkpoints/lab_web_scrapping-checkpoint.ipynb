{
 "cells": [
  {
   "cell_type": "markdown",
   "metadata": {
    "id": "Rq7Fx0T_DPsE"
   },
   "source": [
    "# Web Scrapping lab"
   ]
  },
  {
   "cell_type": "markdown",
   "metadata": {
    "id": "K3n7CJfCD2pK"
   },
   "source": [
    "In this lab you will scrappe this [website](https://books.toscrape.com/) of books.\n",
    "\n",
    "You have to create a Pandas DataFrame with all the books listed in the page. Each row of the DataFrame should contain information of each book. In particular, the DataFrmae must contain:\n",
    "\n",
    "* category\n",
    "* title\n",
    "* price\n",
    "* stock availability\n",
    "* star rating (number of stars)\n",
    "* description\n",
    "* UPC\n",
    "\n",
    "Happy scrapping!\n",
    "\n"
   ]
  },
  {
   "cell_type": "markdown",
   "metadata": {
    "id": "IaqLnJRLBqMS"
   },
   "source": [
    "# Server verification"
   ]
  },
  {
   "cell_type": "markdown",
   "metadata": {
    "id": "QNXuRli_BvJp"
   },
   "source": [
    "Load the needed libraries, and make sure thar you can obtain the correct status code."
   ]
  },
  {
   "cell_type": "code",
   "execution_count": 14,
   "metadata": {
    "colab": {
     "base_uri": "https://localhost:8080/"
    },
    "id": "szKOZm99Frlf",
    "outputId": "184b2f54-7eaa-4d31-b66f-f3f8311e80e6"
   },
   "outputs": [
    {
     "name": "stdout",
     "output_type": "stream",
     "text": [
      "Requirement already satisfied: requests in c:\\users\\flori\\anaconda3\\lib\\site-packages (2.32.2)\n",
      "Requirement already satisfied: beautifulsoup4 in c:\\users\\flori\\anaconda3\\lib\\site-packages (4.12.3)\n",
      "Requirement already satisfied: charset-normalizer<4,>=2 in c:\\users\\flori\\anaconda3\\lib\\site-packages (from requests) (2.0.4)\n",
      "Requirement already satisfied: idna<4,>=2.5 in c:\\users\\flori\\anaconda3\\lib\\site-packages (from requests) (3.7)\n",
      "Requirement already satisfied: urllib3<3,>=1.21.1 in c:\\users\\flori\\anaconda3\\lib\\site-packages (from requests) (2.2.2)\n",
      "Requirement already satisfied: certifi>=2017.4.17 in c:\\users\\flori\\anaconda3\\lib\\site-packages (from requests) (2024.6.2)\n",
      "Requirement already satisfied: soupsieve>1.2 in c:\\users\\flori\\anaconda3\\lib\\site-packages (from beautifulsoup4) (2.5)\n"
     ]
    }
   ],
   "source": [
    "# Your code here\n",
    "!pip install requests beautifulsoup4\n",
    "from bs4 import BeautifulSoup\n"
   ]
  },
  {
   "cell_type": "markdown",
   "metadata": {
    "id": "SSrTPTKnCD-N"
   },
   "source": [
    "# Book categories"
   ]
  },
  {
   "cell_type": "markdown",
   "metadata": {
    "id": "Yu5FjaMECISF"
   },
   "source": [
    "Create the code to collect the **relative urls** from the left panel to obtain a list with all the book categories."
   ]
  },
  {
   "cell_type": "code",
   "execution_count": 28,
   "metadata": {
    "colab": {
     "base_uri": "https://localhost:8080/"
    },
    "id": "Y12krHNrGPsu",
    "outputId": "8e1a4907-1b82-4f2d-f8a9-c7c10b6e6bed"
   },
   "outputs": [
    {
     "name": "stdout",
     "output_type": "stream",
     "text": [
      "List of Book Genres:\n",
      "Travel\n",
      "Mystery\n",
      "Historical Fiction\n",
      "Sequential Art\n",
      "Classics\n",
      "Philosophy\n",
      "Romance\n",
      "Womens Fiction\n",
      "Fiction\n",
      "Childrens\n",
      "Religion\n",
      "Nonfiction\n",
      "Music\n",
      "Default\n",
      "Science Fiction\n",
      "Sports and Games\n",
      "Add a comment\n",
      "Fantasy\n",
      "New Adult\n",
      "Young Adult\n",
      "Science\n",
      "Poetry\n",
      "Paranormal\n",
      "Art\n",
      "Psychology\n",
      "Autobiography\n",
      "Parenting\n",
      "Adult Fiction\n",
      "Humor\n",
      "Horror\n",
      "History\n",
      "Food and Drink\n",
      "Christian Fiction\n",
      "Business\n",
      "Biography\n",
      "Thriller\n",
      "Contemporary\n",
      "Spirituality\n",
      "Academic\n",
      "Self Help\n",
      "Historical\n",
      "Christian\n",
      "Suspense\n",
      "Short Stories\n",
      "Novels\n",
      "Health\n",
      "Politics\n",
      "Cultural\n",
      "Erotica\n",
      "Crime\n"
     ]
    }
   ],
   "source": [
    "# Your code here\n",
    "import requests\n",
    "\n",
    "url = \"https://books.toscrape.com/\"\n",
    "response = requests.get(url)\n",
    "response\n",
    "soup = BeautifulSoup(response.content, \"html.parser\")\n",
    "# Find the parent element containing the genres (assumed to be within the nested <ul>)\n",
    "nav_list = soup.find('ul', class_='nav nav-list')\n",
    "book_genres = nav_list.find_all('li')\n",
    "\n",
    "# Initialize an empty list to store the genres\n",
    "genres = []\n",
    "\n",
    "# Iterate over the found <li> elements and extract the genre names\n",
    "for genre in book_genres:\n",
    "    sub_list = genre.find('ul')\n",
    "    if sub_list:\n",
    "        sub_genres = sub_list.find_all('li')\n",
    "        for sub_genre in sub_genres:\n",
    "            genre_name = sub_genre.find('a').text.strip()\n",
    "            genres.append(genre_name)\n",
    "\n",
    "# Print the list of book genres\n",
    "print(\"List of Book Genres:\")\n",
    "for genre in genres:\n",
    "    print(genre)"
   ]
  },
  {
   "cell_type": "markdown",
   "metadata": {
    "id": "tAq9izU8Cpyx"
   },
   "source": [
    "# Books in a given category\n",
    "\n",
    "Use. web scrapping and list comprehension to obtain the **absolute** url of each book to be scraped"
   ]
  },
  {
   "cell_type": "code",
   "execution_count": 30,
   "metadata": {
    "id": "gC6uP76bHwNv"
   },
   "outputs": [
    {
     "name": "stdout",
     "output_type": "stream",
     "text": [
      "List of Absolute URLs of Book Genres:\n",
      "http://books.toscrape.com/index.html\n",
      "http://books.toscrape.com/books/travel_2/index.html\n",
      "http://books.toscrape.com/books/mystery_3/index.html\n",
      "http://books.toscrape.com/books/historical-fiction_4/index.html\n",
      "http://books.toscrape.com/books/sequential-art_5/index.html\n",
      "http://books.toscrape.com/books/classics_6/index.html\n",
      "http://books.toscrape.com/books/philosophy_7/index.html\n",
      "http://books.toscrape.com/books/romance_8/index.html\n",
      "http://books.toscrape.com/books/womens-fiction_9/index.html\n",
      "http://books.toscrape.com/books/fiction_10/index.html\n",
      "http://books.toscrape.com/books/childrens_11/index.html\n",
      "http://books.toscrape.com/books/religion_12/index.html\n",
      "http://books.toscrape.com/books/nonfiction_13/index.html\n",
      "http://books.toscrape.com/books/music_14/index.html\n",
      "http://books.toscrape.com/books/default_15/index.html\n",
      "http://books.toscrape.com/books/science-fiction_16/index.html\n",
      "http://books.toscrape.com/books/sports-and-games_17/index.html\n",
      "http://books.toscrape.com/books/add-a-comment_18/index.html\n",
      "http://books.toscrape.com/books/fantasy_19/index.html\n",
      "http://books.toscrape.com/books/new-adult_20/index.html\n",
      "http://books.toscrape.com/books/young-adult_21/index.html\n",
      "http://books.toscrape.com/books/science_22/index.html\n",
      "http://books.toscrape.com/books/poetry_23/index.html\n",
      "http://books.toscrape.com/books/paranormal_24/index.html\n",
      "http://books.toscrape.com/books/art_25/index.html\n",
      "http://books.toscrape.com/books/psychology_26/index.html\n",
      "http://books.toscrape.com/books/autobiography_27/index.html\n",
      "http://books.toscrape.com/books/parenting_28/index.html\n",
      "http://books.toscrape.com/books/adult-fiction_29/index.html\n",
      "http://books.toscrape.com/books/humor_30/index.html\n",
      "http://books.toscrape.com/books/horror_31/index.html\n",
      "http://books.toscrape.com/books/history_32/index.html\n",
      "http://books.toscrape.com/books/food-and-drink_33/index.html\n",
      "http://books.toscrape.com/books/christian-fiction_34/index.html\n",
      "http://books.toscrape.com/books/business_35/index.html\n",
      "http://books.toscrape.com/books/biography_36/index.html\n",
      "http://books.toscrape.com/books/thriller_37/index.html\n",
      "http://books.toscrape.com/books/contemporary_38/index.html\n",
      "http://books.toscrape.com/books/spirituality_39/index.html\n",
      "http://books.toscrape.com/books/academic_40/index.html\n",
      "http://books.toscrape.com/books/self-help_41/index.html\n",
      "http://books.toscrape.com/books/historical_42/index.html\n",
      "http://books.toscrape.com/books/christian_43/index.html\n",
      "http://books.toscrape.com/books/suspense_44/index.html\n",
      "http://books.toscrape.com/books/short-stories_45/index.html\n",
      "http://books.toscrape.com/books/novels_46/index.html\n",
      "http://books.toscrape.com/books/health_47/index.html\n",
      "http://books.toscrape.com/books/politics_48/index.html\n",
      "http://books.toscrape.com/books/cultural_49/index.html\n",
      "http://books.toscrape.com/books/erotica_50/index.html\n",
      "http://books.toscrape.com/books/crime_51/index.html\n"
     ]
    }
   ],
   "source": [
    "# Your code here\n",
    "import requests\n",
    "from bs4 import BeautifulSoup\n",
    "from urllib.parse import urljoin\n",
    "\n",
    "# URL of the page to scrape\n",
    "base_url = 'http://books.toscrape.com'\n",
    "url = 'http://books.toscrape.com/catalogue/category/books_1/index.html'\n",
    "\n",
    "# Fetch the HTML content\n",
    "response = requests.get(url)\n",
    "html_content = response.content\n",
    "\n",
    "# Parse the HTML content using BeautifulSoup\n",
    "soup = BeautifulSoup(html_content, 'html.parser')\n",
    "\n",
    "# Find the parent element containing the genres (assumed to be within the nested <ul>)\n",
    "nav_list = soup.find('ul', class_='nav nav-list')\n",
    "book_genres = nav_list.find_all('li')\n",
    "\n",
    "# List comprehension to extract the relative URL and construct the absolute URL of each genre\n",
    "genre_urls = [\n",
    "    urljoin(base_url, genre.find('a')['href'])\n",
    "    for genre in book_genres\n",
    "    if genre.find('ul')  # Ensure we are in the correct nested <ul> subtree\n",
    "]\n",
    "\n",
    "# Further navigation to find sub-genres in the nested <ul> elements, if necessary\n",
    "sub_genre_urls = [\n",
    "    urljoin(base_url, sub_genre.find('a')['href'])\n",
    "    for genre in book_genres\n",
    "    if genre.find('ul')\n",
    "    for sub_genre in genre.find('ul').find_all('li')\n",
    "]\n",
    "\n",
    "# Combine all URLs into one list\n",
    "all_genre_urls = genre_urls + sub_genre_urls\n",
    "\n",
    "# Print the list of absolute URLs of each book genre\n",
    "print(\"List of Absolute URLs of Book Genres:\")\n",
    "for genre_url in all_genre_urls:\n",
    "    print(genre_url)"
   ]
  },
  {
   "cell_type": "markdown",
   "metadata": {
    "id": "wLIh0a_LDJMo"
   },
   "source": [
    "# Book details\n",
    "\n",
    "Create a Python function that given a book_url as an input returns a dictionary with the following structure:\n",
    "\n",
    "```Python\n",
    "{\"Title\": title, \"Price\": price, \"Availability\": availability, \"Rating\": rating, \"Description\": description, \"UPC\": upc}\n",
    "```\n",
    "\n",
    "where `description` should contain the book's summary given in the Product description, and the values are the book's associated information."
   ]
  },
  {
   "cell_type": "code",
   "execution_count": 36,
   "metadata": {
    "id": "5-uC7hz1LxCd",
    "scrolled": true
   },
   "outputs": [
    {
     "name": "stdout",
     "output_type": "stream",
     "text": [
      "{'Title': 'A Light in the Attic', 'Price': '£51.77', 'Availability': 'In stock (22 available)', 'Rating': 'Three', 'Description': \"It's hard to imagine a world without A Light in the Attic. This now-classic collection of poetry and drawings from Shel Silverstein celebrates its 20th anniversary with this special edition. Silverstein's humorous and creative verse can amuse the dowdiest of readers. Lemon-faced adults and fidgety kids sit still and read these rhythmic words and laugh and smile and love th It's hard to imagine a world without A Light in the Attic. This now-classic collection of poetry and drawings from Shel Silverstein celebrates its 20th anniversary with this special edition. Silverstein's humorous and creative verse can amuse the dowdiest of readers. Lemon-faced adults and fidgety kids sit still and read these rhythmic words and laugh and smile and love that Silverstein. Need proof of his genius? RockabyeRockabye baby, in the treetopDon't you know a treetopIs no safe place to rock?And who put you up there,And your cradle, too?Baby, I think someone down here'sGot it in for you. Shel, you never sounded so good. ...more\"}\n"
     ]
    }
   ],
   "source": [
    "# Your code here\n",
    "\n",
    "import requests\n",
    "from bs4 import BeautifulSoup\n",
    "\n",
    "def get_book_details(book_url):\n",
    "    # Fetch the HTML content of the book page\n",
    "    response = requests.get(book_url)\n",
    "    html_content = response.content\n",
    "\n",
    "    # Parse the HTML content using BeautifulSoup\n",
    "    soup = BeautifulSoup(html_content, 'html.parser')\n",
    "\n",
    "    # Extract the book details\n",
    "    title = soup.h1.text  # Assuming the <h1> element contains the book title\n",
    "    price = soup.find('p', class_='price_color').text  # Assuming the price is in a <p> with class 'price_color'\n",
    "    availability = soup.find('p', class_='instock availability').text.strip()  # Assuming the availability is in a <p> with class 'instock availability'\n",
    "    rating = soup.find('p', class_='star-rating')['class'][1]  # Assuming the rating is in a <p> with class 'star-rating' and the second class is the rating\n",
    "    description = soup.find('meta', {'name': 'description'})['content'].strip() if soup.find('meta', {'name': 'description'}) else 'No description available'\n",
    "\n",
    "    # Create and return the dictionary with the book details\n",
    "    book_details = {\n",
    "        \"Title\": title,\n",
    "        \"Price\": price,\n",
    "        \"Availability\": availability,\n",
    "        \"Rating\": rating,\n",
    "        \"Description\": description,\n",
    "    }\n",
    "\n",
    "    return book_details\n",
    "\n",
    "# Example usage\n",
    "book_url = 'http://books.toscrape.com/catalogue/a-light-in-the-attic_1000/index.html'  # Replace with the actual book URL\n",
    "book_details = get_book_details(book_url)\n",
    "print(book_details)"
   ]
  },
  {
   "cell_type": "markdown",
   "metadata": {
    "id": "GvSqhX4UDxbb"
   },
   "source": [
    "# Collect and store all the information from the books in a Pandas DataFrame\n",
    "\n",
    "Start with the following dictionary:\n",
    "\n",
    "```python\n",
    "books_dict = {\"Title\": [], \"Price\": [], \"Availability\": [], \"Rating\": [], \"Description\": [], \"UPC\": [], \"Category\": [] }\n",
    "```\n",
    "\n",
    "Then, iterate over all the categories and all the books in a given category to collect any book information using the previous function. Fill the previous dictionary with the information about each book.\n",
    "\n",
    "Show the first five rows of the previous final Pandas DataFrame.\n",
    "\n",
    "Tip: You can use the function `tqdm` from the library `tqdm` to show a progress bar if in iterable of a for loop as shown below :wink: :\n",
    "\n",
    "```python\n",
    "from tqdm import tqdm\n",
    "\n",
    "for elem in tqdm(iterable):\n",
    "    # some code\n",
    "```\n",
    "\n",
    "\n",
    "\n"
   ]
  },
  {
   "cell_type": "code",
   "execution_count": 45,
   "metadata": {
    "colab": {
     "base_uri": "https://localhost:8080/",
     "height": 1000
    },
    "id": "apeImoCxStA5",
    "outputId": "20d2d37c-5cbe-4062-e407-80f77955a8d3"
   },
   "outputs": [
    {
     "name": "stderr",
     "output_type": "stream",
     "text": [
      "0it [00:00, ?it/s]"
     ]
    },
    {
     "name": "stdout",
     "output_type": "stream",
     "text": [
      "Empty DataFrame\n",
      "Columns: [Title, Price, Availability, Rating, Description, UPC, Category]\n",
      "Index: []\n"
     ]
    },
    {
     "name": "stderr",
     "output_type": "stream",
     "text": [
      "\n"
     ]
    }
   ],
   "source": [
    "import pandas as pd\n",
    "from tqdm import tqdm\n",
    "from urllib.parse import urljoin\n",
    "\n",
    "base_url = 'http://books.toscrape.com'\n",
    "main_url = urljoin(base_url, 'catalogue/category/books_1/index.html')\n",
    "books_dict = {\"Title\": [], \"Price\": [], \"Availability\": [], \"Rating\": [], \"Description\": [], \"UPC\": [], \"Category\": [] }\n",
    "\n",
    "# Fetch the main page content\n",
    "response = requests.get(main_url)\n",
    "html_content = response.content\n",
    "soup = BeautifulSoup(html_content, 'html.parser')\n",
    "\n",
    "# Find all category links\n",
    "category_links = [urljoin(base_url, a['href']) for a in soup.find_all('a', href=True) if 'category/books' in a['href']]\n",
    "\n",
    "# Iterate over each category\n",
    "for category_url in tqdm(category_links):\n",
    "    category_response = requests.get(category_url)\n",
    "    category_soup = BeautifulSoup(category_response.content, 'html.parser')\n",
    "    category_name = category_soup.find('h1').text\n",
    "\n",
    "    # Find all book links in the category\n",
    "    book_links = [urljoin(base_url, a['href']) for a in category_soup.select('h3 a')]\n",
    "\n",
    "    # Iterate over each book\n",
    "    for book_url in tqdm(book_links, leave=False):\n",
    "        book_details = get_book_details(book_url)\n",
    "        for key, value in book_details.items():\n",
    "            books_dict[key].append(value)\n",
    "        books_dict[\"Category\"].append(category_name)\n",
    "\n",
    "# Convert the dictionary to a pandas DataFrame\n",
    "books_df = pd.DataFrame(books_dict)\n",
    "\n",
    "# Display the first five rows of the DataFrame\n",
    "print(books_df.head())\n",
    "# Your code here"
   ]
  },
  {
   "cell_type": "code",
   "execution_count": null,
   "metadata": {},
   "outputs": [],
   "source": []
  }
 ],
 "metadata": {
  "colab": {
   "provenance": []
  },
  "kernelspec": {
   "display_name": "Python 3 (ipykernel)",
   "language": "python",
   "name": "python3"
  },
  "language_info": {
   "codemirror_mode": {
    "name": "ipython",
    "version": 3
   },
   "file_extension": ".py",
   "mimetype": "text/x-python",
   "name": "python",
   "nbconvert_exporter": "python",
   "pygments_lexer": "ipython3",
   "version": "3.12.4"
  }
 },
 "nbformat": 4,
 "nbformat_minor": 4
}
