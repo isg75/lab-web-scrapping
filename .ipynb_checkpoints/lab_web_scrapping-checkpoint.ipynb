{
  "nbformat": 4,
  "nbformat_minor": 0,
  "metadata": {
    "colab": {
      "provenance": []
    },
    "kernelspec": {
      "name": "python3",
      "display_name": "Python 3"
    },
    "language_info": {
      "name": "python"
    }
  },
  "cells": [
    {
      "cell_type": "markdown",
      "source": [
        "# Web Scrapping lab"
      ],
      "metadata": {
        "id": "Rq7Fx0T_DPsE"
      }
    },
    {
      "cell_type": "markdown",
      "source": [
        "In this lab you will scrappe this [website](https://books.toscrape.com/) of books.\n",
        "\n",
        "You have to create a Pandas DataFrame with all the books listed in the page. Each row of the DataFrame should contain information of each book. In particular, the DataFrmae must contain:\n",
        "\n",
        "* category\n",
        "* title\n",
        "* price\n",
        "* stock availability\n",
        "* star rating (number of stars)\n",
        "* description\n",
        "* UPC\n",
        "\n",
        "Happy scrapping!\n",
        "\n"
      ],
      "metadata": {
        "id": "K3n7CJfCD2pK"
      }
    },
    {
      "cell_type": "markdown",
      "source": [
        "# Server verification"
      ],
      "metadata": {
        "id": "IaqLnJRLBqMS"
      }
    },
    {
      "cell_type": "markdown",
      "source": [
        "Load the needed libraries, and make sure thar you can obtain the correct status code."
      ],
      "metadata": {
        "id": "QNXuRli_BvJp"
      }
    },
    {
      "cell_type": "code",
      "source": [
        "# Your code here"
      ],
      "metadata": {
        "colab": {
          "base_uri": "https://localhost:8080/"
        },
        "id": "szKOZm99Frlf",
        "outputId": "184b2f54-7eaa-4d31-b66f-f3f8311e80e6"
      },
      "execution_count": null,
      "outputs": [
        {
          "output_type": "stream",
          "name": "stdout",
          "text": [
            "All good!\n"
          ]
        }
      ]
    },
    {
      "cell_type": "markdown",
      "source": [
        "# Book categories"
      ],
      "metadata": {
        "id": "SSrTPTKnCD-N"
      }
    },
    {
      "cell_type": "markdown",
      "source": [
        "Create the code to collect the **relative urls** from the left panel to obtain a list with all the book categories."
      ],
      "metadata": {
        "id": "Yu5FjaMECISF"
      }
    },
    {
      "cell_type": "code",
      "source": [
        "# Your code here"
      ],
      "metadata": {
        "colab": {
          "base_uri": "https://localhost:8080/"
        },
        "id": "Y12krHNrGPsu",
        "outputId": "8e1a4907-1b82-4f2d-f8a9-c7c10b6e6bed"
      },
      "execution_count": null,
      "outputs": [
        {
          "output_type": "stream",
          "name": "stdout",
          "text": [
            "['catalogue/category/books/travel_2/index.html', 'catalogue/category/books/mystery_3/index.html', 'catalogue/category/books/historical-fiction_4/index.html', 'catalogue/category/books/sequential-art_5/index.html', 'catalogue/category/books/classics_6/index.html', 'catalogue/category/books/philosophy_7/index.html', 'catalogue/category/books/romance_8/index.html', 'catalogue/category/books/womens-fiction_9/index.html', 'catalogue/category/books/fiction_10/index.html', 'catalogue/category/books/childrens_11/index.html', 'catalogue/category/books/religion_12/index.html', 'catalogue/category/books/nonfiction_13/index.html', 'catalogue/category/books/music_14/index.html', 'catalogue/category/books/default_15/index.html', 'catalogue/category/books/science-fiction_16/index.html', 'catalogue/category/books/sports-and-games_17/index.html', 'catalogue/category/books/add-a-comment_18/index.html', 'catalogue/category/books/fantasy_19/index.html', 'catalogue/category/books/new-adult_20/index.html', 'catalogue/category/books/young-adult_21/index.html', 'catalogue/category/books/science_22/index.html', 'catalogue/category/books/poetry_23/index.html', 'catalogue/category/books/paranormal_24/index.html', 'catalogue/category/books/art_25/index.html', 'catalogue/category/books/psychology_26/index.html', 'catalogue/category/books/autobiography_27/index.html', 'catalogue/category/books/parenting_28/index.html', 'catalogue/category/books/adult-fiction_29/index.html', 'catalogue/category/books/humor_30/index.html', 'catalogue/category/books/horror_31/index.html', 'catalogue/category/books/history_32/index.html', 'catalogue/category/books/food-and-drink_33/index.html', 'catalogue/category/books/christian-fiction_34/index.html', 'catalogue/category/books/business_35/index.html', 'catalogue/category/books/biography_36/index.html', 'catalogue/category/books/thriller_37/index.html', 'catalogue/category/books/contemporary_38/index.html', 'catalogue/category/books/spirituality_39/index.html', 'catalogue/category/books/academic_40/index.html', 'catalogue/category/books/self-help_41/index.html', 'catalogue/category/books/historical_42/index.html', 'catalogue/category/books/christian_43/index.html', 'catalogue/category/books/suspense_44/index.html', 'catalogue/category/books/short-stories_45/index.html', 'catalogue/category/books/novels_46/index.html', 'catalogue/category/books/health_47/index.html', 'catalogue/category/books/politics_48/index.html', 'catalogue/category/books/cultural_49/index.html', 'catalogue/category/books/erotica_50/index.html', 'catalogue/category/books/crime_51/index.html']\n"
          ]
        }
      ]
    },
    {
      "cell_type": "markdown",
      "source": [
        "# Books in a given category\n",
        "\n",
        "Use. web scrapping and list comprehension to obtain the **absolute** url of each book to be scraped"
      ],
      "metadata": {
        "id": "tAq9izU8Cpyx"
      }
    },
    {
      "cell_type": "code",
      "source": [
        "# Your code here"
      ],
      "metadata": {
        "id": "gC6uP76bHwNv"
      },
      "execution_count": null,
      "outputs": []
    },
    {
      "cell_type": "markdown",
      "source": [
        "# Book details\n",
        "\n",
        "Create a Python function that given a book_url as an input returns a dictionary with the following structure:\n",
        "\n",
        "```Python\n",
        "{\"Title\": title, \"Price\": price, \"Availability\": availability, \"Rating\": rating, \"Description\": description, \"UPC\": upc}\n",
        "```\n",
        "\n",
        "where `description` should contain the book's summary given in the Product description, and the values are the book's associated information."
      ],
      "metadata": {
        "id": "wLIh0a_LDJMo"
      }
    },
    {
      "cell_type": "code",
      "source": [
        "# Your code here"
      ],
      "metadata": {
        "id": "5-uC7hz1LxCd"
      },
      "execution_count": null,
      "outputs": []
    },
    {
      "cell_type": "markdown",
      "source": [
        "# Collect and store all the information from the books in a Pandas DataFrame\n",
        "\n",
        "Start with the following dictionary:\n",
        "\n",
        "```python\n",
        "books_dict = {\"Title\": [], \"Price\": [], \"Availability\": [], \"Rating\": [], \"Description\": [], \"UPC\": [], \"Category\": [] }\n",
        "```\n",
        "\n",
        "Then, iterate over all the categories and all the books in a given category to collect any book information using the previous function. Fill the previous dictionary with the information about each book.\n",
        "\n",
        "Show the first five rows of the previous final Pandas DataFrame.\n",
        "\n",
        "Tip: You can use the function `tqdm` from the library `tqdm` to show a progress bar if in iterable of a for loop as shown below :wink: :\n",
        "\n",
        "```python\n",
        "from tqdm import tqdm\n",
        "\n",
        "for elem in tqdm(iterable):\n",
        "    # some code\n",
        "```\n",
        "\n",
        "\n",
        "\n"
      ],
      "metadata": {
        "id": "GvSqhX4UDxbb"
      }
    },
    {
      "cell_type": "code",
      "source": [
        "from tqdm import tqdm\n",
        "\n",
        "# Your code here"
      ],
      "metadata": {
        "colab": {
          "base_uri": "https://localhost:8080/",
          "height": 1000
        },
        "id": "apeImoCxStA5",
        "outputId": "20d2d37c-5cbe-4062-e407-80f77955a8d3"
      },
      "execution_count": null,
      "outputs": [
        {
          "output_type": "stream",
          "name": "stderr",
          "text": [
            "\r  0%|          | 0/50 [00:00<?, ?it/s]"
          ]
        },
        {
          "output_type": "stream",
          "name": "stdout",
          "text": [
            "Exploring category: travel_2\n",
            "============================================\n",
            "\n",
            "\n"
          ]
        },
        {
          "output_type": "stream",
          "name": "stderr",
          "text": [
            "\n",
            "  0%|          | 0/11 [00:00<?, ?it/s]\u001b[A\n",
            "  9%|▉         | 1/11 [00:00<00:07,  1.30it/s]\u001b[A\n",
            " 18%|█▊        | 2/11 [00:01<00:06,  1.29it/s]\u001b[A\n",
            " 27%|██▋       | 3/11 [00:02<00:06,  1.29it/s]\u001b[A\n",
            " 36%|███▋      | 4/11 [00:03<00:05,  1.24it/s]\u001b[A\n",
            " 45%|████▌     | 5/11 [00:03<00:04,  1.26it/s]\u001b[A\n",
            " 55%|█████▍    | 6/11 [00:04<00:03,  1.26it/s]\u001b[A\n",
            " 64%|██████▎   | 7/11 [00:05<00:03,  1.27it/s]\u001b[A\n",
            " 73%|███████▎  | 8/11 [00:06<00:02,  1.28it/s]\u001b[A\n",
            " 82%|████████▏ | 9/11 [00:07<00:01,  1.27it/s]\u001b[A\n",
            " 91%|█████████ | 10/11 [00:07<00:00,  1.27it/s]\u001b[A\n",
            "100%|██████████| 11/11 [00:08<00:00,  1.26it/s]\n",
            "  2%|▏         | 1/50 [00:09<07:47,  9.54s/it]"
          ]
        },
        {
          "output_type": "stream",
          "name": "stdout",
          "text": [
            "\n",
            "\n",
            "============================================\n",
            "\n",
            "\n",
            "Exploring category: mystery_3\n",
            "============================================\n",
            "\n",
            "\n"
          ]
        },
        {
          "output_type": "stream",
          "name": "stderr",
          "text": [
            "\n",
            "  0%|          | 0/20 [00:00<?, ?it/s]\u001b[A\n",
            "  5%|▌         | 1/20 [00:00<00:14,  1.30it/s]\u001b[A\n",
            " 10%|█         | 2/20 [00:01<00:13,  1.29it/s]\u001b[A\n",
            " 15%|█▌        | 3/20 [00:02<00:13,  1.29it/s]\u001b[A\n",
            " 20%|██        | 4/20 [00:03<00:12,  1.29it/s]\u001b[A\n",
            " 25%|██▌       | 5/20 [00:03<00:11,  1.29it/s]\u001b[A\n",
            " 30%|███       | 6/20 [00:04<00:10,  1.29it/s]\u001b[A\n",
            " 35%|███▌      | 7/20 [00:05<00:10,  1.29it/s]\u001b[A\n",
            " 40%|████      | 8/20 [00:06<00:09,  1.29it/s]\u001b[A\n",
            " 45%|████▌     | 9/20 [00:06<00:08,  1.29it/s]\u001b[A\n",
            " 50%|█████     | 10/20 [00:07<00:07,  1.28it/s]\u001b[A\n",
            " 55%|█████▌    | 11/20 [00:08<00:07,  1.28it/s]\u001b[A\n",
            " 60%|██████    | 12/20 [00:09<00:06,  1.28it/s]\u001b[A\n",
            " 65%|██████▌   | 13/20 [00:10<00:05,  1.27it/s]\u001b[A\n",
            " 70%|███████   | 14/20 [00:10<00:04,  1.26it/s]\u001b[A\n",
            " 75%|███████▌  | 15/20 [00:11<00:03,  1.27it/s]\u001b[A\n",
            " 80%|████████  | 16/20 [00:12<00:03,  1.27it/s]\u001b[A\n",
            " 85%|████████▌ | 17/20 [00:13<00:02,  1.28it/s]\u001b[A\n",
            " 90%|█████████ | 18/20 [00:14<00:01,  1.28it/s]\u001b[A\n",
            " 95%|█████████▌| 19/20 [00:14<00:00,  1.28it/s]\u001b[A\n",
            "100%|██████████| 20/20 [00:15<00:00,  1.28it/s]\n",
            "  4%|▍         | 2/50 [00:26<10:57, 13.70s/it]"
          ]
        },
        {
          "output_type": "stream",
          "name": "stdout",
          "text": [
            "\n",
            "\n",
            "============================================\n",
            "\n",
            "\n",
            "Exploring category: historical-fiction_4\n",
            "============================================\n",
            "\n",
            "\n"
          ]
        },
        {
          "output_type": "stream",
          "name": "stderr",
          "text": [
            "\n",
            "  0%|          | 0/20 [00:00<?, ?it/s]\u001b[A\n",
            "  5%|▌         | 1/20 [00:00<00:14,  1.31it/s]\u001b[A\n",
            " 10%|█         | 2/20 [00:01<00:13,  1.30it/s]\u001b[A\n",
            " 15%|█▌        | 3/20 [00:02<00:13,  1.29it/s]\u001b[A\n",
            " 20%|██        | 4/20 [00:03<00:12,  1.29it/s]\u001b[A\n",
            " 25%|██▌       | 5/20 [00:04<00:12,  1.19it/s]\u001b[A\n",
            " 30%|███       | 6/20 [00:04<00:11,  1.21it/s]\u001b[A\n",
            " 35%|███▌      | 7/20 [00:05<00:10,  1.23it/s]\u001b[A\n",
            " 40%|████      | 8/20 [00:06<00:09,  1.24it/s]\u001b[A\n",
            " 45%|████▌     | 9/20 [00:07<00:08,  1.26it/s]\u001b[A\n",
            " 50%|█████     | 10/20 [00:07<00:07,  1.27it/s]\u001b[A\n",
            " 55%|█████▌    | 11/20 [00:08<00:07,  1.27it/s]\u001b[A\n",
            " 60%|██████    | 12/20 [00:09<00:06,  1.28it/s]\u001b[A\n",
            " 65%|██████▌   | 13/20 [00:10<00:05,  1.28it/s]\u001b[A\n",
            " 70%|███████   | 14/20 [00:11<00:04,  1.28it/s]\u001b[A\n",
            " 75%|███████▌  | 15/20 [00:11<00:03,  1.28it/s]\u001b[A\n",
            " 80%|████████  | 16/20 [00:12<00:03,  1.28it/s]\u001b[A\n",
            " 85%|████████▌ | 17/20 [00:13<00:02,  1.29it/s]\u001b[A\n",
            " 90%|█████████ | 18/20 [00:14<00:01,  1.28it/s]\u001b[A\n",
            " 95%|█████████▌| 19/20 [00:14<00:00,  1.28it/s]\u001b[A\n",
            "100%|██████████| 20/20 [00:15<00:00,  1.27it/s]\n",
            "  6%|▌         | 3/50 [00:42<11:49, 15.09s/it]"
          ]
        },
        {
          "output_type": "stream",
          "name": "stdout",
          "text": [
            "\n",
            "\n",
            "============================================\n",
            "\n",
            "\n",
            "Exploring category: sequential-art_5\n",
            "============================================\n",
            "\n",
            "\n"
          ]
        },
        {
          "output_type": "stream",
          "name": "stderr",
          "text": [
            "\n",
            "  0%|          | 0/20 [00:00<?, ?it/s]\u001b[A\n",
            "  5%|▌         | 1/20 [00:00<00:14,  1.27it/s]\u001b[A\n",
            " 10%|█         | 2/20 [00:01<00:14,  1.27it/s]\u001b[A\n",
            " 15%|█▌        | 3/20 [00:02<00:13,  1.28it/s]\u001b[A\n",
            " 20%|██        | 4/20 [00:03<00:12,  1.28it/s]\u001b[A\n",
            " 25%|██▌       | 5/20 [00:03<00:11,  1.28it/s]\u001b[A\n",
            " 30%|███       | 6/20 [00:04<00:10,  1.28it/s]\u001b[A\n",
            " 35%|███▌      | 7/20 [00:05<00:10,  1.28it/s]\u001b[A\n",
            " 40%|████      | 8/20 [00:06<00:09,  1.28it/s]\u001b[A\n",
            " 45%|████▌     | 9/20 [00:07<00:08,  1.28it/s]\u001b[A\n",
            " 50%|█████     | 10/20 [00:07<00:07,  1.28it/s]\u001b[A\n",
            " 55%|█████▌    | 11/20 [00:08<00:07,  1.28it/s]\u001b[A\n",
            " 60%|██████    | 12/20 [00:09<00:06,  1.28it/s]\u001b[A\n",
            " 65%|██████▌   | 13/20 [00:10<00:05,  1.28it/s]\u001b[A\n",
            " 70%|███████   | 14/20 [00:10<00:04,  1.28it/s]\u001b[A\n",
            " 75%|███████▌  | 15/20 [00:11<00:03,  1.28it/s]\u001b[A\n",
            " 80%|████████  | 16/20 [00:12<00:03,  1.27it/s]\u001b[A\n",
            " 85%|████████▌ | 17/20 [00:13<00:02,  1.27it/s]\u001b[A\n",
            " 90%|█████████ | 18/20 [00:14<00:01,  1.28it/s]\u001b[A\n",
            " 95%|█████████▌| 19/20 [00:14<00:00,  1.28it/s]\u001b[A\n",
            "100%|██████████| 20/20 [00:15<00:00,  1.28it/s]\n",
            "  8%|▊         | 4/50 [00:59<12:02, 15.71s/it]"
          ]
        },
        {
          "output_type": "stream",
          "name": "stdout",
          "text": [
            "\n",
            "\n",
            "============================================\n",
            "\n",
            "\n",
            "Exploring category: classics_6\n",
            "============================================\n",
            "\n",
            "\n"
          ]
        },
        {
          "output_type": "stream",
          "name": "stderr",
          "text": [
            "\n",
            "  0%|          | 0/19 [00:00<?, ?it/s]\u001b[A\n",
            "  5%|▌         | 1/19 [00:00<00:14,  1.25it/s]\u001b[A\n",
            " 11%|█         | 2/19 [00:01<00:13,  1.27it/s]\u001b[A\n",
            " 16%|█▌        | 3/19 [00:02<00:12,  1.28it/s]\u001b[A\n",
            " 21%|██        | 4/19 [00:03<00:11,  1.28it/s]\u001b[A\n",
            " 26%|██▋       | 5/19 [00:03<00:10,  1.28it/s]\u001b[A\n",
            " 32%|███▏      | 6/19 [00:04<00:10,  1.29it/s]\u001b[A\n",
            " 37%|███▋      | 7/19 [00:05<00:09,  1.29it/s]\u001b[A\n",
            " 42%|████▏     | 8/19 [00:06<00:08,  1.29it/s]\u001b[A\n",
            " 47%|████▋     | 9/19 [00:07<00:07,  1.28it/s]\u001b[A\n",
            " 53%|█████▎    | 10/19 [00:07<00:07,  1.27it/s]\u001b[A\n",
            " 58%|█████▊    | 11/19 [00:08<00:06,  1.27it/s]\u001b[A\n",
            " 63%|██████▎   | 12/19 [00:09<00:05,  1.28it/s]\u001b[A\n",
            " 68%|██████▊   | 13/19 [00:10<00:04,  1.28it/s]\u001b[A\n",
            " 74%|███████▎  | 14/19 [00:11<00:04,  1.24it/s]\u001b[A\n",
            " 79%|███████▉  | 15/19 [00:11<00:03,  1.25it/s]\u001b[A\n",
            " 84%|████████▍ | 16/19 [00:12<00:02,  1.26it/s]\u001b[A\n",
            " 89%|████████▉ | 17/19 [00:13<00:01,  1.27it/s]\u001b[A\n",
            " 95%|█████████▍| 18/19 [00:14<00:00,  1.27it/s]\u001b[A\n",
            "100%|██████████| 19/19 [00:14<00:00,  1.27it/s]\n",
            " 10%|█         | 5/50 [01:15<11:50, 15.78s/it]"
          ]
        },
        {
          "output_type": "stream",
          "name": "stdout",
          "text": [
            "\n",
            "\n",
            "============================================\n",
            "\n",
            "\n",
            "Exploring category: philosophy_7\n",
            "============================================\n",
            "\n",
            "\n"
          ]
        },
        {
          "output_type": "stream",
          "name": "stderr",
          "text": [
            "\n",
            "  0%|          | 0/11 [00:00<?, ?it/s]\u001b[A\n",
            "  9%|▉         | 1/11 [00:00<00:07,  1.29it/s]\u001b[A\n",
            " 18%|█▊        | 2/11 [00:01<00:06,  1.29it/s]\u001b[A\n",
            " 27%|██▋       | 3/11 [00:02<00:06,  1.29it/s]\u001b[A\n",
            " 36%|███▋      | 4/11 [00:03<00:05,  1.28it/s]\u001b[A\n",
            " 45%|████▌     | 5/11 [00:03<00:04,  1.27it/s]\u001b[A\n",
            " 55%|█████▍    | 6/11 [00:04<00:03,  1.27it/s]\u001b[A\n",
            " 64%|██████▎   | 7/11 [00:05<00:03,  1.28it/s]\u001b[A\n",
            " 73%|███████▎  | 8/11 [00:06<00:02,  1.28it/s]\u001b[A\n",
            " 82%|████████▏ | 9/11 [00:07<00:01,  1.28it/s]\u001b[A\n",
            " 91%|█████████ | 10/11 [00:07<00:00,  1.28it/s]\u001b[A\n",
            "100%|██████████| 11/11 [00:08<00:00,  1.28it/s]\n",
            " 12%|█▏        | 6/50 [01:24<09:58, 13.60s/it]"
          ]
        },
        {
          "output_type": "stream",
          "name": "stdout",
          "text": [
            "\n",
            "\n",
            "============================================\n",
            "\n",
            "\n",
            "Exploring category: romance_8\n",
            "============================================\n",
            "\n",
            "\n"
          ]
        },
        {
          "output_type": "stream",
          "name": "stderr",
          "text": [
            "\n",
            "  0%|          | 0/20 [00:00<?, ?it/s]\u001b[A\n",
            "  5%|▌         | 1/20 [00:00<00:14,  1.30it/s]\u001b[A\n",
            " 10%|█         | 2/20 [00:01<00:13,  1.29it/s]\u001b[A\n",
            " 15%|█▌        | 3/20 [00:02<00:13,  1.29it/s]\u001b[A\n",
            " 20%|██        | 4/20 [00:03<00:12,  1.29it/s]\u001b[A\n",
            " 25%|██▌       | 5/20 [00:03<00:11,  1.29it/s]\u001b[A\n",
            " 30%|███       | 6/20 [00:04<00:10,  1.29it/s]\u001b[A\n",
            " 35%|███▌      | 7/20 [00:05<00:10,  1.28it/s]\u001b[A\n",
            " 40%|████      | 8/20 [00:06<00:10,  1.13it/s]\u001b[A\n",
            " 45%|████▌     | 9/20 [00:07<00:09,  1.18it/s]\u001b[A\n",
            " 50%|█████     | 10/20 [00:08<00:08,  1.21it/s]\u001b[A\n",
            " 55%|█████▌    | 11/20 [00:08<00:07,  1.23it/s]\u001b[A\n",
            " 60%|██████    | 12/20 [00:09<00:06,  1.25it/s]\u001b[A\n",
            " 65%|██████▌   | 13/20 [00:10<00:05,  1.26it/s]\u001b[A\n",
            " 70%|███████   | 14/20 [00:11<00:04,  1.27it/s]\u001b[A\n",
            " 75%|███████▌  | 15/20 [00:11<00:03,  1.27it/s]\u001b[A\n",
            " 80%|████████  | 16/20 [00:12<00:03,  1.27it/s]\u001b[A\n",
            " 85%|████████▌ | 17/20 [00:13<00:02,  1.28it/s]\u001b[A\n",
            " 90%|█████████ | 18/20 [00:14<00:01,  1.28it/s]\u001b[A\n",
            " 95%|█████████▌| 19/20 [00:15<00:00,  1.28it/s]\u001b[A\n",
            "100%|██████████| 20/20 [00:15<00:00,  1.26it/s]\n",
            " 14%|█▍        | 7/50 [01:41<10:31, 14.68s/it]"
          ]
        },
        {
          "output_type": "stream",
          "name": "stdout",
          "text": [
            "\n",
            "\n",
            "============================================\n",
            "\n",
            "\n",
            "Exploring category: womens-fiction_9\n",
            "============================================\n",
            "\n",
            "\n"
          ]
        },
        {
          "output_type": "stream",
          "name": "stderr",
          "text": [
            "\n",
            "  0%|          | 0/17 [00:00<?, ?it/s]\u001b[A\n",
            "  6%|▌         | 1/17 [00:00<00:12,  1.28it/s]\u001b[A\n",
            " 12%|█▏        | 2/17 [00:01<00:11,  1.26it/s]\u001b[A\n",
            " 18%|█▊        | 3/17 [00:02<00:11,  1.27it/s]\u001b[A\n",
            " 24%|██▎       | 4/17 [00:03<00:10,  1.27it/s]\u001b[A\n",
            " 29%|██▉       | 5/17 [00:03<00:09,  1.28it/s]\u001b[A\n",
            " 35%|███▌      | 6/17 [00:04<00:08,  1.28it/s]\u001b[A\n",
            " 41%|████      | 7/17 [00:05<00:07,  1.28it/s]\u001b[A\n",
            " 47%|████▋     | 8/17 [00:06<00:07,  1.29it/s]\u001b[A\n",
            " 53%|█████▎    | 9/17 [00:07<00:06,  1.28it/s]\u001b[A\n",
            " 59%|█████▉    | 10/17 [00:07<00:05,  1.28it/s]\u001b[A\n",
            " 65%|██████▍   | 11/17 [00:08<00:04,  1.28it/s]\u001b[A\n",
            " 71%|███████   | 12/17 [00:09<00:03,  1.28it/s]\u001b[A\n",
            " 76%|███████▋  | 13/17 [00:10<00:03,  1.28it/s]\u001b[A\n",
            " 82%|████████▏ | 14/17 [00:10<00:02,  1.29it/s]\u001b[A\n",
            " 88%|████████▊ | 15/17 [00:11<00:01,  1.28it/s]\u001b[A\n",
            " 94%|█████████▍| 16/17 [00:12<00:00,  1.28it/s]\u001b[A\n",
            "100%|██████████| 17/17 [00:13<00:00,  1.28it/s]\n",
            " 16%|█▌        | 8/50 [01:56<10:11, 14.55s/it]"
          ]
        },
        {
          "output_type": "stream",
          "name": "stdout",
          "text": [
            "\n",
            "\n",
            "============================================\n",
            "\n",
            "\n",
            "Exploring category: fiction_10\n",
            "============================================\n",
            "\n",
            "\n"
          ]
        },
        {
          "output_type": "stream",
          "name": "stderr",
          "text": [
            "\n",
            "  0%|          | 0/20 [00:00<?, ?it/s]\u001b[A\n",
            "  5%|▌         | 1/20 [00:00<00:14,  1.31it/s]\u001b[A\n",
            " 10%|█         | 2/20 [00:01<00:13,  1.30it/s]\u001b[A\n",
            " 15%|█▌        | 3/20 [00:02<00:13,  1.29it/s]\u001b[A\n",
            " 20%|██        | 4/20 [00:03<00:12,  1.29it/s]\u001b[A\n",
            " 25%|██▌       | 5/20 [00:03<00:11,  1.29it/s]\u001b[A\n",
            " 30%|███       | 6/20 [00:04<00:10,  1.29it/s]\u001b[A\n",
            " 35%|███▌      | 7/20 [00:05<00:10,  1.28it/s]\u001b[A\n",
            " 40%|████      | 8/20 [00:06<00:09,  1.22it/s]\u001b[A\n",
            " 45%|████▌     | 9/20 [00:07<00:08,  1.24it/s]\u001b[A\n",
            " 50%|█████     | 10/20 [00:07<00:07,  1.25it/s]\u001b[A\n",
            " 55%|█████▌    | 11/20 [00:08<00:07,  1.26it/s]\u001b[A\n",
            " 60%|██████    | 12/20 [00:09<00:06,  1.27it/s]\u001b[A\n",
            " 65%|██████▌   | 13/20 [00:10<00:05,  1.27it/s]\u001b[A\n",
            " 70%|███████   | 14/20 [00:11<00:04,  1.27it/s]\u001b[A\n",
            " 75%|███████▌  | 15/20 [00:11<00:03,  1.27it/s]\u001b[A\n",
            " 80%|████████  | 16/20 [00:12<00:03,  1.28it/s]\u001b[A\n",
            " 85%|████████▌ | 17/20 [00:13<00:02,  1.28it/s]\u001b[A\n",
            " 90%|█████████ | 18/20 [00:14<00:01,  1.28it/s]\u001b[A\n",
            " 95%|█████████▌| 19/20 [00:15<00:00,  1.24it/s]\u001b[A\n",
            "100%|██████████| 20/20 [00:15<00:00,  1.27it/s]\n",
            " 18%|█▊        | 9/50 [02:12<10:25, 15.25s/it]"
          ]
        },
        {
          "output_type": "stream",
          "name": "stdout",
          "text": [
            "\n",
            "\n",
            "============================================\n",
            "\n",
            "\n",
            "Exploring category: childrens_11\n",
            "============================================\n",
            "\n",
            "\n"
          ]
        },
        {
          "output_type": "stream",
          "name": "stderr",
          "text": [
            "\n",
            "  0%|          | 0/20 [00:00<?, ?it/s]\u001b[A\n",
            "  5%|▌         | 1/20 [00:00<00:14,  1.30it/s]\u001b[A\n",
            " 10%|█         | 2/20 [00:01<00:13,  1.29it/s]\u001b[A\n",
            " 15%|█▌        | 3/20 [00:02<00:13,  1.29it/s]\u001b[A\n",
            " 20%|██        | 4/20 [00:03<00:12,  1.28it/s]\u001b[A\n",
            " 25%|██▌       | 5/20 [00:03<00:11,  1.29it/s]\u001b[A\n",
            " 30%|███       | 6/20 [00:04<00:10,  1.28it/s]\u001b[A\n",
            " 35%|███▌      | 7/20 [00:05<00:10,  1.28it/s]\u001b[A\n",
            " 40%|████      | 8/20 [00:06<00:09,  1.27it/s]\u001b[A\n",
            " 45%|████▌     | 9/20 [00:07<00:08,  1.27it/s]\u001b[A\n",
            " 50%|█████     | 10/20 [00:07<00:07,  1.28it/s]\u001b[A\n",
            " 55%|█████▌    | 11/20 [00:08<00:07,  1.28it/s]\u001b[A\n",
            " 60%|██████    | 12/20 [00:09<00:06,  1.28it/s]\u001b[A\n",
            " 65%|██████▌   | 13/20 [00:10<00:05,  1.28it/s]\u001b[A\n",
            " 70%|███████   | 14/20 [00:10<00:04,  1.28it/s]\u001b[A\n",
            " 75%|███████▌  | 15/20 [00:11<00:03,  1.28it/s]\u001b[A\n",
            " 80%|████████  | 16/20 [00:12<00:03,  1.28it/s]\u001b[A\n",
            " 85%|████████▌ | 17/20 [00:13<00:02,  1.28it/s]\u001b[A\n",
            " 90%|█████████ | 18/20 [00:14<00:01,  1.29it/s]\u001b[A\n",
            " 95%|█████████▌| 19/20 [00:14<00:00,  1.28it/s]\u001b[A\n",
            "100%|██████████| 20/20 [00:15<00:00,  1.28it/s]\n",
            " 20%|██        | 10/50 [02:29<10:26, 15.67s/it]"
          ]
        },
        {
          "output_type": "stream",
          "name": "stdout",
          "text": [
            "\n",
            "\n",
            "============================================\n",
            "\n",
            "\n",
            "Exploring category: religion_12\n",
            "============================================\n",
            "\n",
            "\n"
          ]
        },
        {
          "output_type": "stream",
          "name": "stderr",
          "text": [
            "\n",
            "  0%|          | 0/7 [00:00<?, ?it/s]\u001b[A\n",
            " 14%|█▍        | 1/7 [00:00<00:04,  1.26it/s]\u001b[A\n",
            " 29%|██▊       | 2/7 [00:01<00:03,  1.26it/s]\u001b[A\n",
            " 43%|████▎     | 3/7 [00:02<00:03,  1.27it/s]\u001b[A\n",
            " 57%|█████▋    | 4/7 [00:03<00:02,  1.26it/s]\u001b[A\n",
            " 71%|███████▏  | 5/7 [00:03<00:01,  1.27it/s]\u001b[A\n",
            " 86%|████████▌ | 6/7 [00:04<00:00,  1.27it/s]\u001b[A\n",
            "100%|██████████| 7/7 [00:05<00:00,  1.27it/s]\n",
            " 22%|██▏       | 11/50 [02:35<08:19, 12.80s/it]"
          ]
        },
        {
          "output_type": "stream",
          "name": "stdout",
          "text": [
            "\n",
            "\n",
            "============================================\n",
            "\n",
            "\n",
            "Exploring category: nonfiction_13\n",
            "============================================\n",
            "\n",
            "\n"
          ]
        },
        {
          "output_type": "stream",
          "name": "stderr",
          "text": [
            "\n",
            "  0%|          | 0/20 [00:00<?, ?it/s]\u001b[A\n",
            "  5%|▌         | 1/20 [00:00<00:14,  1.29it/s]\u001b[A\n",
            " 10%|█         | 2/20 [00:01<00:14,  1.28it/s]\u001b[A\n",
            " 15%|█▌        | 3/20 [00:02<00:13,  1.29it/s]\u001b[A\n",
            " 20%|██        | 4/20 [00:03<00:12,  1.28it/s]\u001b[A\n",
            " 25%|██▌       | 5/20 [00:03<00:11,  1.29it/s]\u001b[A\n",
            " 30%|███       | 6/20 [00:04<00:10,  1.28it/s]\u001b[A\n",
            " 35%|███▌      | 7/20 [00:05<00:10,  1.28it/s]\u001b[A\n",
            " 40%|████      | 8/20 [00:06<00:09,  1.28it/s]\u001b[A\n",
            " 45%|████▌     | 9/20 [00:07<00:08,  1.27it/s]\u001b[A\n",
            " 50%|█████     | 10/20 [00:07<00:07,  1.27it/s]\u001b[A\n",
            " 55%|█████▌    | 11/20 [00:08<00:07,  1.28it/s]\u001b[A\n",
            " 60%|██████    | 12/20 [00:09<00:06,  1.28it/s]\u001b[A\n",
            " 65%|██████▌   | 13/20 [00:10<00:05,  1.28it/s]\u001b[A\n",
            " 70%|███████   | 14/20 [00:10<00:04,  1.28it/s]\u001b[A\n",
            " 75%|███████▌  | 15/20 [00:11<00:03,  1.28it/s]\u001b[A\n",
            " 80%|████████  | 16/20 [00:12<00:03,  1.28it/s]\u001b[A\n",
            " 85%|████████▌ | 17/20 [00:13<00:02,  1.28it/s]\u001b[A\n",
            " 90%|█████████ | 18/20 [00:14<00:01,  1.28it/s]\u001b[A\n",
            " 95%|█████████▌| 19/20 [00:14<00:00,  1.28it/s]\u001b[A\n",
            "100%|██████████| 20/20 [00:15<00:00,  1.28it/s]\n",
            " 24%|██▍       | 12/50 [02:52<08:50, 13.96s/it]"
          ]
        },
        {
          "output_type": "stream",
          "name": "stdout",
          "text": [
            "\n",
            "\n",
            "============================================\n",
            "\n",
            "\n",
            "Exploring category: music_14\n",
            "============================================\n",
            "\n",
            "\n"
          ]
        },
        {
          "output_type": "stream",
          "name": "stderr",
          "text": [
            "\n",
            "  0%|          | 0/13 [00:00<?, ?it/s]\u001b[A\n",
            "  8%|▊         | 1/13 [00:00<00:09,  1.29it/s]\u001b[A\n",
            " 15%|█▌        | 2/13 [00:01<00:08,  1.28it/s]\u001b[A\n",
            " 23%|██▎       | 3/13 [00:02<00:07,  1.27it/s]\u001b[A\n",
            " 31%|███       | 4/13 [00:03<00:07,  1.27it/s]\u001b[A\n",
            " 38%|███▊      | 5/13 [00:03<00:06,  1.27it/s]\u001b[A\n",
            " 46%|████▌     | 6/13 [00:04<00:05,  1.28it/s]\u001b[A\n",
            " 54%|█████▍    | 7/13 [00:05<00:04,  1.28it/s]\u001b[A\n",
            " 62%|██████▏   | 8/13 [00:06<00:03,  1.28it/s]\u001b[A\n",
            " 69%|██████▉   | 9/13 [00:07<00:03,  1.28it/s]\u001b[A\n",
            " 77%|███████▋  | 10/13 [00:07<00:02,  1.28it/s]\u001b[A\n",
            " 85%|████████▍ | 11/13 [00:08<00:01,  1.28it/s]\u001b[A\n",
            " 92%|█████████▏| 12/13 [00:09<00:00,  1.28it/s]\u001b[A\n",
            "100%|██████████| 13/13 [00:10<00:00,  1.27it/s]\n",
            " 26%|██▌       | 13/50 [03:03<08:05, 13.11s/it]"
          ]
        },
        {
          "output_type": "stream",
          "name": "stdout",
          "text": [
            "\n",
            "\n",
            "============================================\n",
            "\n",
            "\n",
            "Exploring category: default_15\n",
            "============================================\n",
            "\n",
            "\n"
          ]
        },
        {
          "output_type": "stream",
          "name": "stderr",
          "text": [
            "\n",
            "  0%|          | 0/20 [00:00<?, ?it/s]\u001b[A\n",
            "  5%|▌         | 1/20 [00:00<00:14,  1.30it/s]\u001b[A\n",
            " 10%|█         | 2/20 [00:01<00:13,  1.29it/s]\u001b[A\n",
            " 15%|█▌        | 3/20 [00:02<00:13,  1.28it/s]\u001b[A\n",
            " 20%|██        | 4/20 [00:03<00:13,  1.19it/s]\u001b[A\n",
            " 25%|██▌       | 5/20 [00:04<00:12,  1.22it/s]\u001b[A\n",
            " 30%|███       | 6/20 [00:04<00:11,  1.24it/s]\u001b[A\n",
            " 35%|███▌      | 7/20 [00:05<00:10,  1.26it/s]\u001b[A\n",
            " 40%|████      | 8/20 [00:06<00:09,  1.27it/s]\u001b[A\n",
            " 45%|████▌     | 9/20 [00:07<00:08,  1.27it/s]\u001b[A\n",
            " 50%|█████     | 10/20 [00:07<00:07,  1.28it/s]\u001b[A\n",
            " 55%|█████▌    | 11/20 [00:08<00:07,  1.28it/s]\u001b[A\n",
            " 60%|██████    | 12/20 [00:09<00:06,  1.28it/s]\u001b[A\n",
            " 65%|██████▌   | 13/20 [00:10<00:05,  1.28it/s]\u001b[A\n",
            " 70%|███████   | 14/20 [00:11<00:04,  1.28it/s]\u001b[A\n",
            " 75%|███████▌  | 15/20 [00:11<00:03,  1.28it/s]\u001b[A\n",
            " 80%|████████  | 16/20 [00:12<00:03,  1.28it/s]\u001b[A\n",
            " 85%|████████▌ | 17/20 [00:13<00:02,  1.28it/s]\u001b[A\n",
            " 90%|█████████ | 18/20 [00:14<00:01,  1.27it/s]\u001b[A\n",
            " 95%|█████████▌| 19/20 [00:14<00:00,  1.27it/s]\u001b[A\n",
            "100%|██████████| 20/20 [00:15<00:00,  1.27it/s]\n",
            " 28%|██▊       | 14/50 [03:20<08:31, 14.22s/it]"
          ]
        },
        {
          "output_type": "stream",
          "name": "stdout",
          "text": [
            "\n",
            "\n",
            "============================================\n",
            "\n",
            "\n",
            "Exploring category: science-fiction_16\n",
            "============================================\n",
            "\n",
            "\n"
          ]
        },
        {
          "output_type": "stream",
          "name": "stderr",
          "text": [
            "\n",
            "  0%|          | 0/16 [00:00<?, ?it/s]\u001b[A\n",
            "  6%|▋         | 1/16 [00:00<00:11,  1.29it/s]\u001b[A\n",
            " 12%|█▎        | 2/16 [00:01<00:10,  1.29it/s]\u001b[A\n",
            " 19%|█▉        | 3/16 [00:02<00:10,  1.29it/s]\u001b[A\n",
            " 25%|██▌       | 4/16 [00:03<00:09,  1.29it/s]\u001b[A\n",
            " 31%|███▏      | 5/16 [00:03<00:08,  1.29it/s]\u001b[A\n",
            " 38%|███▊      | 6/16 [00:04<00:07,  1.29it/s]\u001b[A\n",
            " 44%|████▍     | 7/16 [00:05<00:06,  1.29it/s]\u001b[A\n",
            " 50%|█████     | 8/16 [00:06<00:06,  1.29it/s]\u001b[A\n",
            " 56%|█████▋    | 9/16 [00:07<00:05,  1.28it/s]\u001b[A\n",
            " 62%|██████▎   | 10/16 [00:07<00:04,  1.28it/s]\u001b[A\n",
            " 69%|██████▉   | 11/16 [00:08<00:03,  1.28it/s]\u001b[A\n",
            " 75%|███████▌  | 12/16 [00:09<00:03,  1.27it/s]\u001b[A\n",
            " 81%|████████▏ | 13/16 [00:10<00:02,  1.27it/s]\u001b[A\n",
            " 88%|████████▊ | 14/16 [00:10<00:01,  1.26it/s]\u001b[A\n",
            " 94%|█████████▍| 15/16 [00:11<00:00,  1.27it/s]\u001b[A\n",
            "100%|██████████| 16/16 [00:12<00:00,  1.27it/s]\n",
            " 30%|███       | 15/50 [03:33<08:10, 14.01s/it]"
          ]
        },
        {
          "output_type": "stream",
          "name": "stdout",
          "text": [
            "\n",
            "\n",
            "============================================\n",
            "\n",
            "\n",
            "Exploring category: sports-and-games_17\n",
            "============================================\n",
            "\n",
            "\n"
          ]
        },
        {
          "output_type": "stream",
          "name": "stderr",
          "text": [
            "\n",
            "  0%|          | 0/5 [00:00<?, ?it/s]\u001b[A\n",
            " 20%|██        | 1/5 [00:00<00:03,  1.29it/s]\u001b[A\n",
            " 40%|████      | 2/5 [00:01<00:02,  1.29it/s]\u001b[A\n",
            " 60%|██████    | 3/5 [00:02<00:01,  1.29it/s]\u001b[A\n",
            " 80%|████████  | 4/5 [00:03<00:00,  1.29it/s]\u001b[A\n",
            "100%|██████████| 5/5 [00:03<00:00,  1.29it/s]\n",
            " 32%|███▏      | 16/50 [03:38<06:20, 11.20s/it]"
          ]
        },
        {
          "output_type": "stream",
          "name": "stdout",
          "text": [
            "\n",
            "\n",
            "============================================\n",
            "\n",
            "\n",
            "Exploring category: add-a-comment_18\n",
            "============================================\n",
            "\n",
            "\n"
          ]
        },
        {
          "output_type": "stream",
          "name": "stderr",
          "text": [
            "\n",
            "  0%|          | 0/20 [00:00<?, ?it/s]\u001b[A\n",
            "  5%|▌         | 1/20 [00:00<00:14,  1.30it/s]\u001b[A\n",
            " 10%|█         | 2/20 [00:01<00:13,  1.29it/s]\u001b[A\n",
            " 15%|█▌        | 3/20 [00:02<00:13,  1.29it/s]\u001b[A\n",
            " 20%|██        | 4/20 [00:03<00:12,  1.28it/s]\u001b[A\n",
            " 25%|██▌       | 5/20 [00:03<00:11,  1.27it/s]\u001b[A\n",
            " 30%|███       | 6/20 [00:04<00:11,  1.27it/s]\u001b[A\n",
            " 35%|███▌      | 7/20 [00:05<00:10,  1.28it/s]\u001b[A\n",
            " 40%|████      | 8/20 [00:06<00:09,  1.28it/s]\u001b[A\n",
            " 45%|████▌     | 9/20 [00:07<00:08,  1.28it/s]\u001b[A\n",
            " 50%|█████     | 10/20 [00:07<00:07,  1.28it/s]\u001b[A\n",
            " 55%|█████▌    | 11/20 [00:08<00:07,  1.28it/s]\u001b[A\n",
            " 60%|██████    | 12/20 [00:09<00:06,  1.28it/s]\u001b[A\n",
            " 65%|██████▌   | 13/20 [00:10<00:05,  1.28it/s]\u001b[A\n",
            " 70%|███████   | 14/20 [00:10<00:04,  1.28it/s]\u001b[A\n",
            " 75%|███████▌  | 15/20 [00:11<00:03,  1.28it/s]\u001b[A\n",
            " 80%|████████  | 16/20 [00:12<00:03,  1.28it/s]\u001b[A\n",
            " 85%|████████▌ | 17/20 [00:13<00:02,  1.28it/s]\u001b[A\n",
            " 90%|█████████ | 18/20 [00:14<00:01,  1.28it/s]\u001b[A\n",
            " 95%|█████████▌| 19/20 [00:14<00:00,  1.28it/s]\u001b[A\n",
            "100%|██████████| 20/20 [00:15<00:00,  1.28it/s]\n",
            " 34%|███▍      | 17/50 [03:55<07:03, 12.83s/it]"
          ]
        },
        {
          "output_type": "stream",
          "name": "stdout",
          "text": [
            "\n",
            "\n",
            "============================================\n",
            "\n",
            "\n",
            "Exploring category: fantasy_19\n",
            "============================================\n",
            "\n",
            "\n"
          ]
        },
        {
          "output_type": "stream",
          "name": "stderr",
          "text": [
            "\n",
            "  0%|          | 0/20 [00:00<?, ?it/s]\u001b[A\n",
            "  5%|▌         | 1/20 [00:00<00:14,  1.30it/s]\u001b[A\n",
            " 10%|█         | 2/20 [00:01<00:13,  1.29it/s]\u001b[A\n",
            " 15%|█▌        | 3/20 [00:02<00:13,  1.29it/s]\u001b[A\n",
            " 20%|██        | 4/20 [00:03<00:12,  1.29it/s]\u001b[A\n",
            " 25%|██▌       | 5/20 [00:03<00:11,  1.29it/s]\u001b[A\n",
            " 30%|███       | 6/20 [00:04<00:10,  1.28it/s]\u001b[A\n",
            " 35%|███▌      | 7/20 [00:05<00:10,  1.28it/s]\u001b[A\n",
            " 40%|████      | 8/20 [00:06<00:09,  1.29it/s]\u001b[A\n",
            " 45%|████▌     | 9/20 [00:06<00:08,  1.29it/s]\u001b[A\n",
            " 50%|█████     | 10/20 [00:07<00:08,  1.22it/s]\u001b[A\n",
            " 55%|█████▌    | 11/20 [00:08<00:07,  1.24it/s]\u001b[A\n",
            " 60%|██████    | 12/20 [00:09<00:06,  1.25it/s]\u001b[A\n",
            " 65%|██████▌   | 13/20 [00:10<00:05,  1.26it/s]\u001b[A\n",
            " 70%|███████   | 14/20 [00:11<00:04,  1.26it/s]\u001b[A\n",
            " 75%|███████▌  | 15/20 [00:11<00:03,  1.26it/s]\u001b[A\n",
            " 80%|████████  | 16/20 [00:12<00:03,  1.27it/s]\u001b[A\n",
            " 85%|████████▌ | 17/20 [00:13<00:02,  1.27it/s]\u001b[A\n",
            " 90%|█████████ | 18/20 [00:14<00:01,  1.28it/s]\u001b[A\n",
            " 95%|█████████▌| 19/20 [00:14<00:00,  1.28it/s]\u001b[A\n",
            "100%|██████████| 20/20 [00:15<00:00,  1.27it/s]\n",
            " 36%|███▌      | 18/50 [04:11<07:28, 14.00s/it]"
          ]
        },
        {
          "output_type": "stream",
          "name": "stdout",
          "text": [
            "\n",
            "\n",
            "============================================\n",
            "\n",
            "\n",
            "Exploring category: new-adult_20\n",
            "============================================\n",
            "\n",
            "\n"
          ]
        },
        {
          "output_type": "stream",
          "name": "stderr",
          "text": [
            "\n",
            "  0%|          | 0/6 [00:00<?, ?it/s]\u001b[A\n",
            " 17%|█▋        | 1/6 [00:00<00:03,  1.29it/s]\u001b[A\n",
            " 33%|███▎      | 2/6 [00:01<00:03,  1.29it/s]\u001b[A\n",
            " 50%|█████     | 3/6 [00:02<00:02,  1.22it/s]\u001b[A\n",
            " 67%|██████▋   | 4/6 [00:03<00:01,  1.24it/s]\u001b[A\n",
            " 83%|████████▎ | 5/6 [00:03<00:00,  1.26it/s]\u001b[A\n",
            "100%|██████████| 6/6 [00:04<00:00,  1.26it/s]\n",
            " 38%|███▊      | 19/50 [04:17<05:55, 11.46s/it]"
          ]
        },
        {
          "output_type": "stream",
          "name": "stdout",
          "text": [
            "\n",
            "\n",
            "============================================\n",
            "\n",
            "\n",
            "Exploring category: young-adult_21\n",
            "============================================\n",
            "\n",
            "\n"
          ]
        },
        {
          "output_type": "stream",
          "name": "stderr",
          "text": [
            "\n",
            "  0%|          | 0/20 [00:00<?, ?it/s]\u001b[A\n",
            "  5%|▌         | 1/20 [00:00<00:14,  1.27it/s]\u001b[A\n",
            " 10%|█         | 2/20 [00:01<00:14,  1.27it/s]\u001b[A\n",
            " 15%|█▌        | 3/20 [00:02<00:13,  1.27it/s]\u001b[A\n",
            " 20%|██        | 4/20 [00:03<00:12,  1.28it/s]\u001b[A\n",
            " 25%|██▌       | 5/20 [00:03<00:11,  1.28it/s]\u001b[A\n",
            " 30%|███       | 6/20 [00:04<00:10,  1.29it/s]\u001b[A\n",
            " 35%|███▌      | 7/20 [00:05<00:10,  1.29it/s]\u001b[A\n",
            " 40%|████      | 8/20 [00:06<00:09,  1.29it/s]\u001b[A\n",
            " 45%|████▌     | 9/20 [00:07<00:08,  1.29it/s]\u001b[A\n",
            " 50%|█████     | 10/20 [00:07<00:07,  1.28it/s]\u001b[A\n",
            " 55%|█████▌    | 11/20 [00:08<00:07,  1.28it/s]\u001b[A\n",
            " 60%|██████    | 12/20 [00:09<00:06,  1.28it/s]\u001b[A\n",
            " 65%|██████▌   | 13/20 [00:10<00:05,  1.28it/s]\u001b[A\n",
            " 70%|███████   | 14/20 [00:10<00:04,  1.29it/s]\u001b[A\n",
            " 75%|███████▌  | 15/20 [00:11<00:03,  1.28it/s]\u001b[A\n",
            " 80%|████████  | 16/20 [00:12<00:03,  1.27it/s]\u001b[A\n",
            " 85%|████████▌ | 17/20 [00:13<00:02,  1.27it/s]\u001b[A\n",
            " 90%|█████████ | 18/20 [00:14<00:01,  1.27it/s]\u001b[A\n",
            " 95%|█████████▌| 19/20 [00:14<00:00,  1.28it/s]\u001b[A\n",
            "100%|██████████| 20/20 [00:15<00:00,  1.28it/s]\n",
            " 40%|████      | 20/50 [04:34<06:30, 13.02s/it]"
          ]
        },
        {
          "output_type": "stream",
          "name": "stdout",
          "text": [
            "\n",
            "\n",
            "============================================\n",
            "\n",
            "\n",
            "Exploring category: science_22\n",
            "============================================\n",
            "\n",
            "\n"
          ]
        },
        {
          "output_type": "stream",
          "name": "stderr",
          "text": [
            "\n",
            "  0%|          | 0/14 [00:00<?, ?it/s]\u001b[A\n",
            "  7%|▋         | 1/14 [00:00<00:10,  1.30it/s]\u001b[A\n",
            " 14%|█▍        | 2/14 [00:01<00:09,  1.29it/s]\u001b[A\n",
            " 21%|██▏       | 3/14 [00:02<00:08,  1.29it/s]\u001b[A\n",
            " 29%|██▊       | 4/14 [00:03<00:07,  1.29it/s]\u001b[A\n",
            " 36%|███▌      | 5/14 [00:03<00:06,  1.29it/s]\u001b[A\n",
            " 43%|████▎     | 6/14 [00:04<00:06,  1.29it/s]\u001b[A\n",
            " 50%|█████     | 7/14 [00:05<00:05,  1.29it/s]\u001b[A\n",
            " 57%|█████▋    | 8/14 [00:06<00:04,  1.29it/s]\u001b[A\n",
            " 64%|██████▍   | 9/14 [00:07<00:03,  1.28it/s]\u001b[A\n",
            " 71%|███████▏  | 10/14 [00:07<00:03,  1.27it/s]\u001b[A\n",
            " 79%|███████▊  | 11/14 [00:08<00:02,  1.27it/s]\u001b[A\n",
            " 86%|████████▌ | 12/14 [00:09<00:01,  1.28it/s]\u001b[A\n",
            " 93%|█████████▎| 13/14 [00:10<00:00,  1.28it/s]\u001b[A\n",
            "100%|██████████| 14/14 [00:10<00:00,  1.28it/s]\n",
            " 42%|████▏     | 21/50 [04:45<06:08, 12.69s/it]"
          ]
        },
        {
          "output_type": "stream",
          "name": "stdout",
          "text": [
            "\n",
            "\n",
            "============================================\n",
            "\n",
            "\n",
            "Exploring category: poetry_23\n",
            "============================================\n",
            "\n",
            "\n"
          ]
        },
        {
          "output_type": "stream",
          "name": "stderr",
          "text": [
            "\n",
            "  0%|          | 0/19 [00:00<?, ?it/s]\u001b[A\n",
            "  5%|▌         | 1/19 [00:00<00:10,  1.73it/s]\u001b[A\n",
            " 11%|█         | 2/19 [00:01<00:11,  1.44it/s]\u001b[A\n",
            " 16%|█▌        | 3/19 [00:02<00:11,  1.36it/s]\u001b[A\n",
            " 21%|██        | 4/19 [00:02<00:11,  1.33it/s]\u001b[A\n",
            " 26%|██▋       | 5/19 [00:03<00:10,  1.31it/s]\u001b[A\n",
            " 32%|███▏      | 6/19 [00:04<00:09,  1.30it/s]\u001b[A\n",
            " 37%|███▋      | 7/19 [00:05<00:09,  1.30it/s]\u001b[A\n",
            " 42%|████▏     | 8/19 [00:06<00:08,  1.29it/s]\u001b[A\n",
            " 47%|████▋     | 9/19 [00:06<00:07,  1.28it/s]\u001b[A\n",
            " 53%|█████▎    | 10/19 [00:07<00:07,  1.27it/s]\u001b[A\n",
            " 58%|█████▊    | 11/19 [00:08<00:06,  1.27it/s]\u001b[A\n",
            " 63%|██████▎   | 12/19 [00:09<00:05,  1.28it/s]\u001b[A\n",
            " 68%|██████▊   | 13/19 [00:09<00:04,  1.28it/s]\u001b[A\n",
            " 74%|███████▎  | 14/19 [00:10<00:03,  1.28it/s]\u001b[A\n",
            " 79%|███████▉  | 15/19 [00:11<00:03,  1.28it/s]\u001b[A\n",
            " 84%|████████▍ | 16/19 [00:12<00:02,  1.28it/s]\u001b[A\n",
            " 89%|████████▉ | 17/19 [00:13<00:01,  1.28it/s]\u001b[A\n",
            " 95%|█████████▍| 18/19 [00:13<00:00,  1.28it/s]\u001b[A\n",
            "100%|██████████| 19/19 [00:14<00:00,  1.30it/s]\n",
            " 44%|████▍     | 22/50 [05:01<06:20, 13.57s/it]"
          ]
        },
        {
          "output_type": "stream",
          "name": "stdout",
          "text": [
            "\n",
            "\n",
            "============================================\n",
            "\n",
            "\n",
            "Exploring category: paranormal_24\n",
            "============================================\n",
            "\n",
            "\n"
          ]
        },
        {
          "output_type": "stream",
          "name": "stderr",
          "text": [
            "\n",
            "  0%|          | 0/1 [00:00<?, ?it/s]\u001b[A\n",
            "100%|██████████| 1/1 [00:00<00:00,  1.28it/s]\n",
            " 46%|████▌     | 23/50 [05:03<04:29,  9.97s/it]"
          ]
        },
        {
          "output_type": "stream",
          "name": "stdout",
          "text": [
            "\n",
            "\n",
            "============================================\n",
            "\n",
            "\n",
            "Exploring category: art_25\n",
            "============================================\n",
            "\n",
            "\n"
          ]
        },
        {
          "output_type": "stream",
          "name": "stderr",
          "text": [
            "\n",
            "  0%|          | 0/8 [00:00<?, ?it/s]\u001b[A\n",
            " 12%|█▎        | 1/8 [00:00<00:05,  1.29it/s]\u001b[A\n",
            " 25%|██▌       | 2/8 [00:01<00:04,  1.28it/s]\u001b[A\n",
            " 38%|███▊      | 3/8 [00:02<00:04,  1.25it/s]\u001b[A\n",
            " 50%|█████     | 4/8 [00:03<00:03,  1.25it/s]\u001b[A\n",
            " 62%|██████▎   | 5/8 [00:03<00:02,  1.26it/s]\u001b[A\n",
            " 75%|███████▌  | 6/8 [00:04<00:01,  1.27it/s]\u001b[A\n",
            " 88%|████████▊ | 7/8 [00:05<00:00,  1.27it/s]\u001b[A\n",
            "100%|██████████| 8/8 [00:06<00:00,  1.27it/s]\n",
            " 48%|████▊     | 24/50 [05:10<03:56,  9.11s/it]"
          ]
        },
        {
          "output_type": "stream",
          "name": "stdout",
          "text": [
            "\n",
            "\n",
            "============================================\n",
            "\n",
            "\n",
            "Exploring category: psychology_26\n",
            "============================================\n",
            "\n",
            "\n"
          ]
        },
        {
          "output_type": "stream",
          "name": "stderr",
          "text": [
            "\n",
            "  0%|          | 0/7 [00:00<?, ?it/s]\u001b[A\n",
            " 14%|█▍        | 1/7 [00:00<00:04,  1.30it/s]\u001b[A\n",
            " 29%|██▊       | 2/7 [00:01<00:03,  1.29it/s]\u001b[A\n",
            " 43%|████▎     | 3/7 [00:02<00:03,  1.29it/s]\u001b[A\n",
            " 57%|█████▋    | 4/7 [00:03<00:02,  1.28it/s]\u001b[A\n",
            " 71%|███████▏  | 5/7 [00:03<00:01,  1.28it/s]\u001b[A\n",
            " 86%|████████▌ | 6/7 [00:04<00:00,  1.24it/s]\u001b[A\n",
            "100%|██████████| 7/7 [00:05<00:00,  1.26it/s]\n",
            " 50%|█████     | 25/50 [05:16<03:26,  8.27s/it]"
          ]
        },
        {
          "output_type": "stream",
          "name": "stdout",
          "text": [
            "\n",
            "\n",
            "============================================\n",
            "\n",
            "\n",
            "Exploring category: autobiography_27\n",
            "============================================\n",
            "\n",
            "\n"
          ]
        },
        {
          "output_type": "stream",
          "name": "stderr",
          "text": [
            "\n",
            "  0%|          | 0/9 [00:00<?, ?it/s]\u001b[A\n",
            " 11%|█         | 1/9 [00:00<00:06,  1.27it/s]\u001b[A\n",
            " 22%|██▏       | 2/9 [00:01<00:05,  1.26it/s]\u001b[A\n",
            " 33%|███▎      | 3/9 [00:02<00:04,  1.26it/s]\u001b[A\n",
            " 44%|████▍     | 4/9 [00:03<00:03,  1.27it/s]\u001b[A\n",
            " 56%|█████▌    | 5/9 [00:03<00:03,  1.27it/s]\u001b[A\n",
            " 67%|██████▋   | 6/9 [00:04<00:02,  1.28it/s]\u001b[A\n",
            " 78%|███████▊  | 7/9 [00:05<00:01,  1.28it/s]\u001b[A\n",
            " 89%|████████▉ | 8/9 [00:06<00:00,  1.28it/s]\u001b[A\n",
            "100%|██████████| 9/9 [00:07<00:00,  1.27it/s]\n",
            " 52%|█████▏    | 26/50 [05:24<03:15,  8.15s/it]"
          ]
        },
        {
          "output_type": "stream",
          "name": "stdout",
          "text": [
            "\n",
            "\n",
            "============================================\n",
            "\n",
            "\n",
            "Exploring category: parenting_28\n",
            "============================================\n",
            "\n",
            "\n"
          ]
        },
        {
          "output_type": "stream",
          "name": "stderr",
          "text": [
            "\n",
            "  0%|          | 0/1 [00:00<?, ?it/s]\u001b[A\n",
            "100%|██████████| 1/1 [00:00<00:00,  1.28it/s]\n",
            " 54%|█████▍    | 27/50 [05:25<02:21,  6.17s/it]"
          ]
        },
        {
          "output_type": "stream",
          "name": "stdout",
          "text": [
            "\n",
            "\n",
            "============================================\n",
            "\n",
            "\n",
            "Exploring category: adult-fiction_29\n",
            "============================================\n",
            "\n",
            "\n"
          ]
        },
        {
          "output_type": "stream",
          "name": "stderr",
          "text": [
            "\n",
            "  0%|          | 0/1 [00:00<?, ?it/s]\u001b[A\n",
            "100%|██████████| 1/1 [00:00<00:00,  1.29it/s]\n",
            " 56%|█████▌    | 28/50 [05:27<01:45,  4.78s/it]"
          ]
        },
        {
          "output_type": "stream",
          "name": "stdout",
          "text": [
            "\n",
            "\n",
            "============================================\n",
            "\n",
            "\n",
            "Exploring category: humor_30\n",
            "============================================\n",
            "\n",
            "\n"
          ]
        },
        {
          "output_type": "stream",
          "name": "stderr",
          "text": [
            "\n",
            "  0%|          | 0/10 [00:00<?, ?it/s]\u001b[A\n",
            " 10%|█         | 1/10 [00:00<00:06,  1.29it/s]\u001b[A\n",
            " 20%|██        | 2/10 [00:01<00:06,  1.28it/s]\u001b[A\n",
            " 30%|███       | 3/10 [00:02<00:05,  1.26it/s]\u001b[A\n",
            " 40%|████      | 4/10 [00:03<00:04,  1.27it/s]\u001b[A\n",
            " 50%|█████     | 5/10 [00:03<00:03,  1.27it/s]\u001b[A\n",
            " 60%|██████    | 6/10 [00:04<00:03,  1.27it/s]\u001b[A\n",
            " 70%|███████   | 7/10 [00:05<00:02,  1.28it/s]\u001b[A\n",
            " 80%|████████  | 8/10 [00:06<00:01,  1.28it/s]\u001b[A\n",
            " 90%|█████████ | 9/10 [00:07<00:00,  1.28it/s]\u001b[A\n",
            "100%|██████████| 10/10 [00:07<00:00,  1.28it/s]\n",
            " 58%|█████▊    | 29/50 [05:36<02:04,  5.94s/it]"
          ]
        },
        {
          "output_type": "stream",
          "name": "stdout",
          "text": [
            "\n",
            "\n",
            "============================================\n",
            "\n",
            "\n",
            "Exploring category: horror_31\n",
            "============================================\n",
            "\n",
            "\n"
          ]
        },
        {
          "output_type": "stream",
          "name": "stderr",
          "text": [
            "\n",
            "  0%|          | 0/17 [00:00<?, ?it/s]\u001b[A\n",
            "  6%|▌         | 1/17 [00:00<00:12,  1.30it/s]\u001b[A\n",
            " 12%|█▏        | 2/17 [00:01<00:11,  1.29it/s]\u001b[A\n",
            " 18%|█▊        | 3/17 [00:02<00:10,  1.29it/s]\u001b[A\n",
            " 24%|██▎       | 4/17 [00:03<00:10,  1.29it/s]\u001b[A\n",
            " 29%|██▉       | 5/17 [00:03<00:09,  1.29it/s]\u001b[A\n",
            " 35%|███▌      | 6/17 [00:04<00:08,  1.28it/s]\u001b[A\n",
            " 41%|████      | 7/17 [00:05<00:07,  1.27it/s]\u001b[A\n",
            " 47%|████▋     | 8/17 [00:06<00:07,  1.27it/s]\u001b[A\n",
            " 53%|█████▎    | 9/17 [00:07<00:06,  1.27it/s]\u001b[A\n",
            " 59%|█████▉    | 10/17 [00:07<00:05,  1.27it/s]\u001b[A\n",
            " 65%|██████▍   | 11/17 [00:08<00:04,  1.27it/s]\u001b[A\n",
            " 71%|███████   | 12/17 [00:09<00:03,  1.28it/s]\u001b[A\n",
            " 76%|███████▋  | 13/17 [00:10<00:03,  1.28it/s]\u001b[A\n",
            " 82%|████████▏ | 14/17 [00:10<00:02,  1.28it/s]\u001b[A\n",
            " 88%|████████▊ | 15/17 [00:11<00:01,  1.28it/s]\u001b[A\n",
            " 94%|█████████▍| 16/17 [00:12<00:00,  1.28it/s]\u001b[A\n",
            "100%|██████████| 17/17 [00:13<00:00,  1.28it/s]\n",
            " 60%|██████    | 30/50 [05:50<02:48,  8.44s/it]"
          ]
        },
        {
          "output_type": "stream",
          "name": "stdout",
          "text": [
            "\n",
            "\n",
            "============================================\n",
            "\n",
            "\n",
            "Exploring category: history_32\n",
            "============================================\n",
            "\n",
            "\n"
          ]
        },
        {
          "output_type": "stream",
          "name": "stderr",
          "text": [
            "\n",
            "  0%|          | 0/18 [00:00<?, ?it/s]\u001b[A\n",
            "  6%|▌         | 1/18 [00:00<00:13,  1.30it/s]\u001b[A\n",
            " 11%|█         | 2/18 [00:01<00:12,  1.29it/s]\u001b[A\n",
            " 17%|█▋        | 3/18 [00:02<00:11,  1.28it/s]\u001b[A\n",
            " 22%|██▏       | 4/18 [00:03<00:11,  1.27it/s]\u001b[A\n",
            " 28%|██▊       | 5/18 [00:03<00:10,  1.27it/s]\u001b[A\n",
            " 33%|███▎      | 6/18 [00:04<00:09,  1.28it/s]\u001b[A\n",
            " 39%|███▉      | 7/18 [00:05<00:08,  1.28it/s]\u001b[A\n",
            " 44%|████▍     | 8/18 [00:06<00:07,  1.28it/s]\u001b[A\n",
            " 50%|█████     | 9/18 [00:07<00:07,  1.28it/s]\u001b[A\n",
            " 56%|█████▌    | 10/18 [00:07<00:06,  1.28it/s]\u001b[A\n",
            " 61%|██████    | 11/18 [00:08<00:05,  1.28it/s]\u001b[A\n",
            " 67%|██████▋   | 12/18 [00:09<00:04,  1.28it/s]\u001b[A\n",
            " 72%|███████▏  | 13/18 [00:10<00:03,  1.28it/s]\u001b[A\n",
            " 78%|███████▊  | 14/18 [00:10<00:03,  1.28it/s]\u001b[A\n",
            " 83%|████████▎ | 15/18 [00:11<00:02,  1.28it/s]\u001b[A\n",
            " 89%|████████▉ | 16/18 [00:12<00:01,  1.28it/s]\u001b[A\n",
            " 94%|█████████▍| 17/18 [00:13<00:00,  1.29it/s]\u001b[A\n",
            "100%|██████████| 18/18 [00:14<00:00,  1.28it/s]\n",
            " 62%|██████▏   | 31/50 [06:05<03:17, 10.42s/it]"
          ]
        },
        {
          "output_type": "stream",
          "name": "stdout",
          "text": [
            "\n",
            "\n",
            "============================================\n",
            "\n",
            "\n",
            "Exploring category: food-and-drink_33\n",
            "============================================\n",
            "\n",
            "\n"
          ]
        },
        {
          "output_type": "stream",
          "name": "stderr",
          "text": [
            "\n",
            "  0%|          | 0/20 [00:00<?, ?it/s]\u001b[A\n",
            "  5%|▌         | 1/20 [00:00<00:14,  1.30it/s]\u001b[A\n",
            " 10%|█         | 2/20 [00:01<00:14,  1.28it/s]\u001b[A\n",
            " 15%|█▌        | 3/20 [00:02<00:13,  1.22it/s]\u001b[A\n",
            " 20%|██        | 4/20 [00:03<00:12,  1.24it/s]\u001b[A\n",
            " 25%|██▌       | 5/20 [00:03<00:11,  1.26it/s]\u001b[A\n",
            " 30%|███       | 6/20 [00:04<00:11,  1.27it/s]\u001b[A\n",
            " 35%|███▌      | 7/20 [00:05<00:10,  1.27it/s]\u001b[A\n",
            " 40%|████      | 8/20 [00:06<00:09,  1.27it/s]\u001b[A\n",
            " 45%|████▌     | 9/20 [00:07<00:08,  1.27it/s]\u001b[A\n",
            " 50%|█████     | 10/20 [00:07<00:07,  1.28it/s]\u001b[A\n",
            " 55%|█████▌    | 11/20 [00:08<00:07,  1.27it/s]\u001b[A\n",
            " 60%|██████    | 12/20 [00:09<00:06,  1.28it/s]\u001b[A\n",
            " 65%|██████▌   | 13/20 [00:10<00:05,  1.27it/s]\u001b[A\n",
            " 70%|███████   | 14/20 [00:11<00:04,  1.27it/s]\u001b[A\n",
            " 75%|███████▌  | 15/20 [00:11<00:03,  1.26it/s]\u001b[A\n",
            " 80%|████████  | 16/20 [00:12<00:03,  1.27it/s]\u001b[A\n",
            " 85%|████████▌ | 17/20 [00:13<00:02,  1.27it/s]\u001b[A\n",
            " 90%|█████████ | 18/20 [00:14<00:01,  1.28it/s]\u001b[A\n",
            " 95%|█████████▌| 19/20 [00:14<00:00,  1.28it/s]\u001b[A\n",
            "100%|██████████| 20/20 [00:15<00:00,  1.27it/s]\n",
            " 64%|██████▍   | 32/50 [06:22<03:42, 12.37s/it]"
          ]
        },
        {
          "output_type": "stream",
          "name": "stdout",
          "text": [
            "\n",
            "\n",
            "============================================\n",
            "\n",
            "\n",
            "Exploring category: christian-fiction_34\n",
            "============================================\n",
            "\n",
            "\n"
          ]
        },
        {
          "output_type": "stream",
          "name": "stderr",
          "text": [
            "\n",
            "  0%|          | 0/6 [00:00<?, ?it/s]\u001b[A\n",
            " 17%|█▋        | 1/6 [00:00<00:03,  1.29it/s]\u001b[A\n",
            " 33%|███▎      | 2/6 [00:01<00:03,  1.29it/s]\u001b[A\n",
            " 50%|█████     | 3/6 [00:02<00:02,  1.28it/s]\u001b[A\n",
            " 67%|██████▋   | 4/6 [00:03<00:01,  1.28it/s]\u001b[A\n",
            " 83%|████████▎ | 5/6 [00:03<00:00,  1.28it/s]\u001b[A\n",
            "100%|██████████| 6/6 [00:04<00:00,  1.28it/s]\n",
            " 66%|██████▌   | 33/50 [06:27<02:55, 10.30s/it]"
          ]
        },
        {
          "output_type": "stream",
          "name": "stdout",
          "text": [
            "\n",
            "\n",
            "============================================\n",
            "\n",
            "\n",
            "Exploring category: business_35\n",
            "============================================\n",
            "\n",
            "\n"
          ]
        },
        {
          "output_type": "stream",
          "name": "stderr",
          "text": [
            "\n",
            "  0%|          | 0/12 [00:00<?, ?it/s]\u001b[A\n",
            "  8%|▊         | 1/12 [00:00<00:08,  1.27it/s]\u001b[A\n",
            " 17%|█▋        | 2/12 [00:01<00:07,  1.26it/s]\u001b[A\n",
            " 25%|██▌       | 3/12 [00:02<00:07,  1.27it/s]\u001b[A\n",
            " 33%|███▎      | 4/12 [00:03<00:06,  1.28it/s]\u001b[A\n",
            " 42%|████▏     | 5/12 [00:03<00:05,  1.28it/s]\u001b[A\n",
            " 50%|█████     | 6/12 [00:04<00:04,  1.28it/s]\u001b[A\n",
            " 58%|█████▊    | 7/12 [00:05<00:03,  1.28it/s]\u001b[A\n",
            " 67%|██████▋   | 8/12 [00:06<00:03,  1.28it/s]\u001b[A\n",
            " 75%|███████▌  | 9/12 [00:07<00:02,  1.26it/s]\u001b[A\n",
            " 83%|████████▎ | 10/12 [00:07<00:01,  1.26it/s]\u001b[A\n",
            " 92%|█████████▏| 11/12 [00:08<00:00,  1.27it/s]\u001b[A\n",
            "100%|██████████| 12/12 [00:09<00:00,  1.27it/s]\n",
            " 68%|██████▊   | 34/50 [06:38<02:45, 10.34s/it]"
          ]
        },
        {
          "output_type": "stream",
          "name": "stdout",
          "text": [
            "\n",
            "\n",
            "============================================\n",
            "\n",
            "\n",
            "Exploring category: biography_36\n",
            "============================================\n",
            "\n",
            "\n"
          ]
        },
        {
          "output_type": "stream",
          "name": "stderr",
          "text": [
            "\n",
            "  0%|          | 0/5 [00:00<?, ?it/s]\u001b[A\n",
            " 20%|██        | 1/5 [00:00<00:03,  1.29it/s]\u001b[A\n",
            " 40%|████      | 2/5 [00:01<00:02,  1.29it/s]\u001b[A\n",
            " 60%|██████    | 3/5 [00:02<00:01,  1.28it/s]\u001b[A\n",
            " 80%|████████  | 4/5 [00:03<00:00,  1.26it/s]\u001b[A\n",
            "100%|██████████| 5/5 [00:03<00:00,  1.27it/s]\n",
            " 70%|███████   | 35/50 [06:42<02:09,  8.66s/it]"
          ]
        },
        {
          "output_type": "stream",
          "name": "stdout",
          "text": [
            "\n",
            "\n",
            "============================================\n",
            "\n",
            "\n",
            "Exploring category: thriller_37\n",
            "============================================\n",
            "\n",
            "\n"
          ]
        },
        {
          "output_type": "stream",
          "name": "stderr",
          "text": [
            "\n",
            "  0%|          | 0/11 [00:00<?, ?it/s]\u001b[A\n",
            "  9%|▉         | 1/11 [00:00<00:07,  1.29it/s]\u001b[A\n",
            " 18%|█▊        | 2/11 [00:01<00:06,  1.29it/s]\u001b[A\n",
            " 27%|██▋       | 3/11 [00:02<00:06,  1.29it/s]\u001b[A\n",
            " 36%|███▋      | 4/11 [00:03<00:05,  1.28it/s]\u001b[A\n",
            " 45%|████▌     | 5/11 [00:03<00:04,  1.28it/s]\u001b[A\n",
            " 55%|█████▍    | 6/11 [00:04<00:03,  1.28it/s]\u001b[A\n",
            " 64%|██████▎   | 7/11 [00:05<00:03,  1.28it/s]\u001b[A\n",
            " 73%|███████▎  | 8/11 [00:06<00:02,  1.28it/s]\u001b[A\n",
            " 82%|████████▏ | 9/11 [00:07<00:01,  1.28it/s]\u001b[A\n",
            " 91%|█████████ | 10/11 [00:07<00:00,  1.28it/s]\u001b[A\n",
            "100%|██████████| 11/11 [00:08<00:00,  1.28it/s]\n",
            " 72%|███████▏  | 36/50 [06:52<02:04,  8.87s/it]"
          ]
        },
        {
          "output_type": "stream",
          "name": "stdout",
          "text": [
            "\n",
            "\n",
            "============================================\n",
            "\n",
            "\n",
            "Exploring category: contemporary_38\n",
            "============================================\n",
            "\n",
            "\n"
          ]
        },
        {
          "output_type": "stream",
          "name": "stderr",
          "text": [
            "\n",
            "  0%|          | 0/3 [00:00<?, ?it/s]\u001b[A\n",
            " 33%|███▎      | 1/3 [00:00<00:01,  1.27it/s]\u001b[A\n",
            " 67%|██████▋   | 2/3 [00:01<00:00,  1.28it/s]\u001b[A\n",
            "100%|██████████| 3/3 [00:02<00:00,  1.28it/s]\n",
            " 74%|███████▍  | 37/50 [06:55<01:32,  7.15s/it]"
          ]
        },
        {
          "output_type": "stream",
          "name": "stdout",
          "text": [
            "\n",
            "\n",
            "============================================\n",
            "\n",
            "\n",
            "Exploring category: spirituality_39\n",
            "============================================\n",
            "\n",
            "\n"
          ]
        },
        {
          "output_type": "stream",
          "name": "stderr",
          "text": [
            "\n",
            "  0%|          | 0/6 [00:00<?, ?it/s]\u001b[A\n",
            " 17%|█▋        | 1/6 [00:00<00:03,  1.30it/s]\u001b[A\n",
            " 33%|███▎      | 2/6 [00:01<00:03,  1.29it/s]\u001b[A\n",
            " 50%|█████     | 3/6 [00:02<00:02,  1.29it/s]\u001b[A\n",
            " 67%|██████▋   | 4/6 [00:03<00:01,  1.29it/s]\u001b[A\n",
            " 83%|████████▎ | 5/6 [00:03<00:00,  1.28it/s]\u001b[A\n",
            "100%|██████████| 6/6 [00:04<00:00,  1.28it/s]\n",
            " 76%|███████▌  | 38/50 [07:00<01:19,  6.64s/it]"
          ]
        },
        {
          "output_type": "stream",
          "name": "stdout",
          "text": [
            "\n",
            "\n",
            "============================================\n",
            "\n",
            "\n",
            "Exploring category: academic_40\n",
            "============================================\n",
            "\n",
            "\n"
          ]
        },
        {
          "output_type": "stream",
          "name": "stderr",
          "text": [
            "\n",
            "  0%|          | 0/1 [00:00<?, ?it/s]\u001b[A\n",
            "100%|██████████| 1/1 [00:00<00:00,  1.28it/s]\n",
            " 78%|███████▊  | 39/50 [07:02<00:56,  5.12s/it]"
          ]
        },
        {
          "output_type": "stream",
          "name": "stdout",
          "text": [
            "\n",
            "\n",
            "============================================\n",
            "\n",
            "\n",
            "Exploring category: self-help_41\n",
            "============================================\n",
            "\n",
            "\n"
          ]
        },
        {
          "output_type": "stream",
          "name": "stderr",
          "text": [
            "\n",
            "  0%|          | 0/5 [00:00<?, ?it/s]\u001b[A\n",
            " 20%|██        | 1/5 [00:00<00:03,  1.29it/s]\u001b[A\n",
            " 40%|████      | 2/5 [00:01<00:02,  1.27it/s]\u001b[A\n",
            " 60%|██████    | 3/5 [00:02<00:01,  1.26it/s]\u001b[A\n",
            " 80%|████████  | 4/5 [00:03<00:00,  1.24it/s]\u001b[A\n",
            "100%|██████████| 5/5 [00:03<00:00,  1.25it/s]\n",
            " 80%|████████  | 40/50 [07:07<00:50,  5.01s/it]"
          ]
        },
        {
          "output_type": "stream",
          "name": "stdout",
          "text": [
            "\n",
            "\n",
            "============================================\n",
            "\n",
            "\n",
            "Exploring category: historical_42\n",
            "============================================\n",
            "\n",
            "\n"
          ]
        },
        {
          "output_type": "stream",
          "name": "stderr",
          "text": [
            "\n",
            "  0%|          | 0/2 [00:00<?, ?it/s]\u001b[A\n",
            " 50%|█████     | 1/2 [00:00<00:00,  1.29it/s]\u001b[A\n",
            "100%|██████████| 2/2 [00:01<00:00,  1.28it/s]\n",
            " 82%|████████▏ | 41/50 [07:09<00:37,  4.22s/it]"
          ]
        },
        {
          "output_type": "stream",
          "name": "stdout",
          "text": [
            "\n",
            "\n",
            "============================================\n",
            "\n",
            "\n",
            "Exploring category: christian_43\n",
            "============================================\n",
            "\n",
            "\n"
          ]
        },
        {
          "output_type": "stream",
          "name": "stderr",
          "text": [
            "\n",
            "  0%|          | 0/3 [00:00<?, ?it/s]\u001b[A\n",
            " 33%|███▎      | 1/3 [00:00<00:01,  1.29it/s]\u001b[A\n",
            " 67%|██████▋   | 2/3 [00:01<00:00,  1.29it/s]\u001b[A\n",
            "100%|██████████| 3/3 [00:02<00:00,  1.28it/s]\n",
            " 84%|████████▍ | 42/50 [07:12<00:31,  3.89s/it]"
          ]
        },
        {
          "output_type": "stream",
          "name": "stdout",
          "text": [
            "\n",
            "\n",
            "============================================\n",
            "\n",
            "\n",
            "Exploring category: suspense_44\n",
            "============================================\n",
            "\n",
            "\n"
          ]
        },
        {
          "output_type": "stream",
          "name": "stderr",
          "text": [
            "\n",
            "  0%|          | 0/1 [00:00<?, ?it/s]\u001b[A\n",
            "100%|██████████| 1/1 [00:00<00:00,  1.15it/s]\n",
            " 86%|████████▌ | 43/50 [07:14<00:22,  3.22s/it]"
          ]
        },
        {
          "output_type": "stream",
          "name": "stdout",
          "text": [
            "\n",
            "\n",
            "============================================\n",
            "\n",
            "\n",
            "Exploring category: short-stories_45\n",
            "============================================\n",
            "\n",
            "\n"
          ]
        },
        {
          "output_type": "stream",
          "name": "stderr",
          "text": [
            "\n",
            "  0%|          | 0/1 [00:00<?, ?it/s]\u001b[A\n",
            "100%|██████████| 1/1 [00:00<00:00,  1.29it/s]\n",
            " 88%|████████▊ | 44/50 [07:15<00:16,  2.72s/it]"
          ]
        },
        {
          "output_type": "stream",
          "name": "stdout",
          "text": [
            "\n",
            "\n",
            "============================================\n",
            "\n",
            "\n",
            "Exploring category: novels_46\n",
            "============================================\n",
            "\n",
            "\n"
          ]
        },
        {
          "output_type": "stream",
          "name": "stderr",
          "text": [
            "\n",
            "  0%|          | 0/1 [00:00<?, ?it/s]\u001b[A\n",
            "100%|██████████| 1/1 [00:00<00:00,  1.25it/s]\n",
            " 90%|█████████ | 45/50 [07:17<00:11,  2.38s/it]"
          ]
        },
        {
          "output_type": "stream",
          "name": "stdout",
          "text": [
            "\n",
            "\n",
            "============================================\n",
            "\n",
            "\n",
            "Exploring category: health_47\n",
            "============================================\n",
            "\n",
            "\n"
          ]
        },
        {
          "output_type": "stream",
          "name": "stderr",
          "text": [
            "\n",
            "  0%|          | 0/4 [00:00<?, ?it/s]\u001b[A\n",
            " 25%|██▌       | 1/4 [00:00<00:02,  1.30it/s]\u001b[A\n",
            " 50%|█████     | 2/4 [00:01<00:01,  1.29it/s]\u001b[A\n",
            " 75%|███████▌  | 3/4 [00:02<00:00,  1.29it/s]\u001b[A\n",
            "100%|██████████| 4/4 [00:03<00:00,  1.28it/s]\n",
            " 92%|█████████▏| 46/50 [07:21<00:11,  2.84s/it]"
          ]
        },
        {
          "output_type": "stream",
          "name": "stdout",
          "text": [
            "\n",
            "\n",
            "============================================\n",
            "\n",
            "\n",
            "Exploring category: politics_48\n",
            "============================================\n",
            "\n",
            "\n"
          ]
        },
        {
          "output_type": "stream",
          "name": "stderr",
          "text": [
            "\n",
            "  0%|          | 0/3 [00:00<?, ?it/s]\u001b[A\n",
            " 33%|███▎      | 1/3 [00:00<00:01,  1.30it/s]\u001b[A\n",
            " 67%|██████▋   | 2/3 [00:01<00:00,  1.29it/s]\u001b[A\n",
            "100%|██████████| 3/3 [00:02<00:00,  1.29it/s]\n",
            " 94%|█████████▍| 47/50 [07:24<00:08,  2.92s/it]"
          ]
        },
        {
          "output_type": "stream",
          "name": "stdout",
          "text": [
            "\n",
            "\n",
            "============================================\n",
            "\n",
            "\n",
            "Exploring category: cultural_49\n",
            "============================================\n",
            "\n",
            "\n"
          ]
        },
        {
          "output_type": "stream",
          "name": "stderr",
          "text": [
            "\n",
            "  0%|          | 0/1 [00:00<?, ?it/s]\u001b[A\n",
            "100%|██████████| 1/1 [00:00<00:00,  1.29it/s]\n",
            " 96%|█████████▌| 48/50 [07:26<00:05,  2.51s/it]"
          ]
        },
        {
          "output_type": "stream",
          "name": "stdout",
          "text": [
            "\n",
            "\n",
            "============================================\n",
            "\n",
            "\n",
            "Exploring category: erotica_50\n",
            "============================================\n",
            "\n",
            "\n"
          ]
        },
        {
          "output_type": "stream",
          "name": "stderr",
          "text": [
            "\n",
            "  0%|          | 0/1 [00:00<?, ?it/s]\u001b[A\n",
            "100%|██████████| 1/1 [00:00<00:00,  1.27it/s]\n",
            " 98%|█████████▊| 49/50 [07:27<00:02,  2.23s/it]"
          ]
        },
        {
          "output_type": "stream",
          "name": "stdout",
          "text": [
            "\n",
            "\n",
            "============================================\n",
            "\n",
            "\n",
            "Exploring category: crime_51\n",
            "============================================\n",
            "\n",
            "\n"
          ]
        },
        {
          "output_type": "stream",
          "name": "stderr",
          "text": [
            "\n",
            "  0%|          | 0/1 [00:00<?, ?it/s]\u001b[A\n",
            "100%|██████████| 1/1 [00:00<00:00,  1.26it/s]\n",
            "100%|██████████| 50/50 [07:29<00:00,  8.99s/it]"
          ]
        },
        {
          "output_type": "stream",
          "name": "stdout",
          "text": [
            "\n",
            "\n",
            "============================================\n",
            "\n",
            "\n"
          ]
        },
        {
          "output_type": "stream",
          "name": "stderr",
          "text": [
            "\n"
          ]
        },
        {
          "output_type": "execute_result",
          "data": {
            "text/plain": [
              "                                               Title   Price  \\\n",
              "0                            It's Only the Himalayas  £45.17   \n",
              "1  Full Moon over Noah’s Ark: An Odyssey to Mount...  £49.43   \n",
              "2  See America: A Celebration of Our National Par...  £48.87   \n",
              "3  Vagabonding: An Uncommon Guide to the Art of L...  £36.94   \n",
              "4                               Under the Tuscan Sun  £37.33   \n",
              "\n",
              "                  Availability Rating  \\\n",
              "0  In stock (19 available)        Two   \n",
              "1  In stock (15 available)       Four   \n",
              "2  In stock (14 available)      Three   \n",
              "3   In stock (8 available)        Two   \n",
              "4   In stock (7 available)      Three   \n",
              "\n",
              "                                         Description               UPC  \\\n",
              "0  “Wherever you go, whatever you do, just . . . ...  a22124811bfa8350   \n",
              "1  Acclaimed travel writer Rick Antonson sets his...  ce60436f52c5ee68   \n",
              "2  To coincide with the 2016 centennial anniversa...  f9705c362f070608   \n",
              "3  With a new foreword by Tim Ferriss •There’s no...  1809259a5a5f1d8d   \n",
              "4  A CLASSIC FROM THE BESTSELLING AUTHOR OF UNDER...  a94350ee74deaa07   \n",
              "\n",
              "   Category  \n",
              "0  travel_2  \n",
              "1  travel_2  \n",
              "2  travel_2  \n",
              "3  travel_2  \n",
              "4  travel_2  "
            ],
            "text/html": [
              "\n",
              "  <div id=\"df-b3e5c5fd-8e08-47ec-9860-807bf2b54b1e\" class=\"colab-df-container\">\n",
              "    <div>\n",
              "<style scoped>\n",
              "    .dataframe tbody tr th:only-of-type {\n",
              "        vertical-align: middle;\n",
              "    }\n",
              "\n",
              "    .dataframe tbody tr th {\n",
              "        vertical-align: top;\n",
              "    }\n",
              "\n",
              "    .dataframe thead th {\n",
              "        text-align: right;\n",
              "    }\n",
              "</style>\n",
              "<table border=\"1\" class=\"dataframe\">\n",
              "  <thead>\n",
              "    <tr style=\"text-align: right;\">\n",
              "      <th></th>\n",
              "      <th>Title</th>\n",
              "      <th>Price</th>\n",
              "      <th>Availability</th>\n",
              "      <th>Rating</th>\n",
              "      <th>Description</th>\n",
              "      <th>UPC</th>\n",
              "      <th>Category</th>\n",
              "    </tr>\n",
              "  </thead>\n",
              "  <tbody>\n",
              "    <tr>\n",
              "      <th>0</th>\n",
              "      <td>It's Only the Himalayas</td>\n",
              "      <td>£45.17</td>\n",
              "      <td>In stock (19 available)</td>\n",
              "      <td>Two</td>\n",
              "      <td>“Wherever you go, whatever you do, just . . . ...</td>\n",
              "      <td>a22124811bfa8350</td>\n",
              "      <td>travel_2</td>\n",
              "    </tr>\n",
              "    <tr>\n",
              "      <th>1</th>\n",
              "      <td>Full Moon over Noah’s Ark: An Odyssey to Mount...</td>\n",
              "      <td>£49.43</td>\n",
              "      <td>In stock (15 available)</td>\n",
              "      <td>Four</td>\n",
              "      <td>Acclaimed travel writer Rick Antonson sets his...</td>\n",
              "      <td>ce60436f52c5ee68</td>\n",
              "      <td>travel_2</td>\n",
              "    </tr>\n",
              "    <tr>\n",
              "      <th>2</th>\n",
              "      <td>See America: A Celebration of Our National Par...</td>\n",
              "      <td>£48.87</td>\n",
              "      <td>In stock (14 available)</td>\n",
              "      <td>Three</td>\n",
              "      <td>To coincide with the 2016 centennial anniversa...</td>\n",
              "      <td>f9705c362f070608</td>\n",
              "      <td>travel_2</td>\n",
              "    </tr>\n",
              "    <tr>\n",
              "      <th>3</th>\n",
              "      <td>Vagabonding: An Uncommon Guide to the Art of L...</td>\n",
              "      <td>£36.94</td>\n",
              "      <td>In stock (8 available)</td>\n",
              "      <td>Two</td>\n",
              "      <td>With a new foreword by Tim Ferriss •There’s no...</td>\n",
              "      <td>1809259a5a5f1d8d</td>\n",
              "      <td>travel_2</td>\n",
              "    </tr>\n",
              "    <tr>\n",
              "      <th>4</th>\n",
              "      <td>Under the Tuscan Sun</td>\n",
              "      <td>£37.33</td>\n",
              "      <td>In stock (7 available)</td>\n",
              "      <td>Three</td>\n",
              "      <td>A CLASSIC FROM THE BESTSELLING AUTHOR OF UNDER...</td>\n",
              "      <td>a94350ee74deaa07</td>\n",
              "      <td>travel_2</td>\n",
              "    </tr>\n",
              "  </tbody>\n",
              "</table>\n",
              "</div>\n",
              "    <div class=\"colab-df-buttons\">\n",
              "\n",
              "  <div class=\"colab-df-container\">\n",
              "    <button class=\"colab-df-convert\" onclick=\"convertToInteractive('df-b3e5c5fd-8e08-47ec-9860-807bf2b54b1e')\"\n",
              "            title=\"Convert this dataframe to an interactive table.\"\n",
              "            style=\"display:none;\">\n",
              "\n",
              "  <svg xmlns=\"http://www.w3.org/2000/svg\" height=\"24px\" viewBox=\"0 -960 960 960\">\n",
              "    <path d=\"M120-120v-720h720v720H120Zm60-500h600v-160H180v160Zm220 220h160v-160H400v160Zm0 220h160v-160H400v160ZM180-400h160v-160H180v160Zm440 0h160v-160H620v160ZM180-180h160v-160H180v160Zm440 0h160v-160H620v160Z\"/>\n",
              "  </svg>\n",
              "    </button>\n",
              "\n",
              "  <style>\n",
              "    .colab-df-container {\n",
              "      display:flex;\n",
              "      gap: 12px;\n",
              "    }\n",
              "\n",
              "    .colab-df-convert {\n",
              "      background-color: #E8F0FE;\n",
              "      border: none;\n",
              "      border-radius: 50%;\n",
              "      cursor: pointer;\n",
              "      display: none;\n",
              "      fill: #1967D2;\n",
              "      height: 32px;\n",
              "      padding: 0 0 0 0;\n",
              "      width: 32px;\n",
              "    }\n",
              "\n",
              "    .colab-df-convert:hover {\n",
              "      background-color: #E2EBFA;\n",
              "      box-shadow: 0px 1px 2px rgba(60, 64, 67, 0.3), 0px 1px 3px 1px rgba(60, 64, 67, 0.15);\n",
              "      fill: #174EA6;\n",
              "    }\n",
              "\n",
              "    .colab-df-buttons div {\n",
              "      margin-bottom: 4px;\n",
              "    }\n",
              "\n",
              "    [theme=dark] .colab-df-convert {\n",
              "      background-color: #3B4455;\n",
              "      fill: #D2E3FC;\n",
              "    }\n",
              "\n",
              "    [theme=dark] .colab-df-convert:hover {\n",
              "      background-color: #434B5C;\n",
              "      box-shadow: 0px 1px 3px 1px rgba(0, 0, 0, 0.15);\n",
              "      filter: drop-shadow(0px 1px 2px rgba(0, 0, 0, 0.3));\n",
              "      fill: #FFFFFF;\n",
              "    }\n",
              "  </style>\n",
              "\n",
              "    <script>\n",
              "      const buttonEl =\n",
              "        document.querySelector('#df-b3e5c5fd-8e08-47ec-9860-807bf2b54b1e button.colab-df-convert');\n",
              "      buttonEl.style.display =\n",
              "        google.colab.kernel.accessAllowed ? 'block' : 'none';\n",
              "\n",
              "      async function convertToInteractive(key) {\n",
              "        const element = document.querySelector('#df-b3e5c5fd-8e08-47ec-9860-807bf2b54b1e');\n",
              "        const dataTable =\n",
              "          await google.colab.kernel.invokeFunction('convertToInteractive',\n",
              "                                                    [key], {});\n",
              "        if (!dataTable) return;\n",
              "\n",
              "        const docLinkHtml = 'Like what you see? Visit the ' +\n",
              "          '<a target=\"_blank\" href=https://colab.research.google.com/notebooks/data_table.ipynb>data table notebook</a>'\n",
              "          + ' to learn more about interactive tables.';\n",
              "        element.innerHTML = '';\n",
              "        dataTable['output_type'] = 'display_data';\n",
              "        await google.colab.output.renderOutput(dataTable, element);\n",
              "        const docLink = document.createElement('div');\n",
              "        docLink.innerHTML = docLinkHtml;\n",
              "        element.appendChild(docLink);\n",
              "      }\n",
              "    </script>\n",
              "  </div>\n",
              "\n",
              "\n",
              "<div id=\"df-da1bc52f-f7e9-4207-9a76-0571c402630e\">\n",
              "  <button class=\"colab-df-quickchart\" onclick=\"quickchart('df-da1bc52f-f7e9-4207-9a76-0571c402630e')\"\n",
              "            title=\"Suggest charts\"\n",
              "            style=\"display:none;\">\n",
              "\n",
              "<svg xmlns=\"http://www.w3.org/2000/svg\" height=\"24px\"viewBox=\"0 0 24 24\"\n",
              "     width=\"24px\">\n",
              "    <g>\n",
              "        <path d=\"M19 3H5c-1.1 0-2 .9-2 2v14c0 1.1.9 2 2 2h14c1.1 0 2-.9 2-2V5c0-1.1-.9-2-2-2zM9 17H7v-7h2v7zm4 0h-2V7h2v10zm4 0h-2v-4h2v4z\"/>\n",
              "    </g>\n",
              "</svg>\n",
              "  </button>\n",
              "\n",
              "<style>\n",
              "  .colab-df-quickchart {\n",
              "      --bg-color: #E8F0FE;\n",
              "      --fill-color: #1967D2;\n",
              "      --hover-bg-color: #E2EBFA;\n",
              "      --hover-fill-color: #174EA6;\n",
              "      --disabled-fill-color: #AAA;\n",
              "      --disabled-bg-color: #DDD;\n",
              "  }\n",
              "\n",
              "  [theme=dark] .colab-df-quickchart {\n",
              "      --bg-color: #3B4455;\n",
              "      --fill-color: #D2E3FC;\n",
              "      --hover-bg-color: #434B5C;\n",
              "      --hover-fill-color: #FFFFFF;\n",
              "      --disabled-bg-color: #3B4455;\n",
              "      --disabled-fill-color: #666;\n",
              "  }\n",
              "\n",
              "  .colab-df-quickchart {\n",
              "    background-color: var(--bg-color);\n",
              "    border: none;\n",
              "    border-radius: 50%;\n",
              "    cursor: pointer;\n",
              "    display: none;\n",
              "    fill: var(--fill-color);\n",
              "    height: 32px;\n",
              "    padding: 0;\n",
              "    width: 32px;\n",
              "  }\n",
              "\n",
              "  .colab-df-quickchart:hover {\n",
              "    background-color: var(--hover-bg-color);\n",
              "    box-shadow: 0 1px 2px rgba(60, 64, 67, 0.3), 0 1px 3px 1px rgba(60, 64, 67, 0.15);\n",
              "    fill: var(--button-hover-fill-color);\n",
              "  }\n",
              "\n",
              "  .colab-df-quickchart-complete:disabled,\n",
              "  .colab-df-quickchart-complete:disabled:hover {\n",
              "    background-color: var(--disabled-bg-color);\n",
              "    fill: var(--disabled-fill-color);\n",
              "    box-shadow: none;\n",
              "  }\n",
              "\n",
              "  .colab-df-spinner {\n",
              "    border: 2px solid var(--fill-color);\n",
              "    border-color: transparent;\n",
              "    border-bottom-color: var(--fill-color);\n",
              "    animation:\n",
              "      spin 1s steps(1) infinite;\n",
              "  }\n",
              "\n",
              "  @keyframes spin {\n",
              "    0% {\n",
              "      border-color: transparent;\n",
              "      border-bottom-color: var(--fill-color);\n",
              "      border-left-color: var(--fill-color);\n",
              "    }\n",
              "    20% {\n",
              "      border-color: transparent;\n",
              "      border-left-color: var(--fill-color);\n",
              "      border-top-color: var(--fill-color);\n",
              "    }\n",
              "    30% {\n",
              "      border-color: transparent;\n",
              "      border-left-color: var(--fill-color);\n",
              "      border-top-color: var(--fill-color);\n",
              "      border-right-color: var(--fill-color);\n",
              "    }\n",
              "    40% {\n",
              "      border-color: transparent;\n",
              "      border-right-color: var(--fill-color);\n",
              "      border-top-color: var(--fill-color);\n",
              "    }\n",
              "    60% {\n",
              "      border-color: transparent;\n",
              "      border-right-color: var(--fill-color);\n",
              "    }\n",
              "    80% {\n",
              "      border-color: transparent;\n",
              "      border-right-color: var(--fill-color);\n",
              "      border-bottom-color: var(--fill-color);\n",
              "    }\n",
              "    90% {\n",
              "      border-color: transparent;\n",
              "      border-bottom-color: var(--fill-color);\n",
              "    }\n",
              "  }\n",
              "</style>\n",
              "\n",
              "  <script>\n",
              "    async function quickchart(key) {\n",
              "      const quickchartButtonEl =\n",
              "        document.querySelector('#' + key + ' button');\n",
              "      quickchartButtonEl.disabled = true;  // To prevent multiple clicks.\n",
              "      quickchartButtonEl.classList.add('colab-df-spinner');\n",
              "      try {\n",
              "        const charts = await google.colab.kernel.invokeFunction(\n",
              "            'suggestCharts', [key], {});\n",
              "      } catch (error) {\n",
              "        console.error('Error during call to suggestCharts:', error);\n",
              "      }\n",
              "      quickchartButtonEl.classList.remove('colab-df-spinner');\n",
              "      quickchartButtonEl.classList.add('colab-df-quickchart-complete');\n",
              "    }\n",
              "    (() => {\n",
              "      let quickchartButtonEl =\n",
              "        document.querySelector('#df-da1bc52f-f7e9-4207-9a76-0571c402630e button');\n",
              "      quickchartButtonEl.style.display =\n",
              "        google.colab.kernel.accessAllowed ? 'block' : 'none';\n",
              "    })();\n",
              "  </script>\n",
              "</div>\n",
              "\n",
              "    </div>\n",
              "  </div>\n"
            ],
            "application/vnd.google.colaboratory.intrinsic+json": {
              "type": "dataframe",
              "variable_name": "books_df",
              "summary": "{\n  \"name\": \"books_df\",\n  \"rows\": 517,\n  \"fields\": [\n    {\n      \"column\": \"Title\",\n      \"properties\": {\n        \"dtype\": \"string\",\n        \"num_unique_values\": 516,\n        \"samples\": [\n          \"The Requiem Red\",\n          \"(Un)Qualified: How God Uses Broken People to Do Big Things\",\n          \"Barefoot Contessa at Home: Everyday Recipes You'll Make Over and Over Again\"\n        ],\n        \"semantic_type\": \"\",\n        \"description\": \"\"\n      }\n    },\n    {\n      \"column\": \"Price\",\n      \"properties\": {\n        \"dtype\": \"string\",\n        \"num_unique_values\": 497,\n        \"samples\": [\n          \"\\u00a347.72\",\n          \"\\u00a350.26\",\n          \"\\u00a355.02\"\n        ],\n        \"semantic_type\": \"\",\n        \"description\": \"\"\n      }\n    },\n    {\n      \"column\": \"Availability\",\n      \"properties\": {\n        \"dtype\": \"category\",\n        \"num_unique_values\": 21,\n        \"samples\": [\n          \"In stock (19 available)    \",\n          \"In stock (9 available)    \",\n          \"In stock (2 available)    \"\n        ],\n        \"semantic_type\": \"\",\n        \"description\": \"\"\n      }\n    },\n    {\n      \"column\": \"Rating\",\n      \"properties\": {\n        \"dtype\": \"category\",\n        \"num_unique_values\": 5,\n        \"samples\": [\n          \"Four\",\n          \"Five\",\n          \"Three\"\n        ],\n        \"semantic_type\": \"\",\n        \"description\": \"\"\n      }\n    },\n    {\n      \"column\": \"Description\",\n      \"properties\": {\n        \"dtype\": \"string\",\n        \"num_unique_values\": 516,\n        \"samples\": [\n          \"Patient Twenty-nine.A monster roams the halls of Soothing Hills Asylum. Three girls dead. 29 is endowed with the curse\\u2026or gift of perception. She hears messages in music, sees lyrics in paintings. And the corn. A lifetime asylum resident, the orchestral corn music is the only constant in her life.Mason, a new, kind orderly, sees 29 as a woman, not a lunatic. And as his bel Patient Twenty-nine.A monster roams the halls of Soothing Hills Asylum. Three girls dead. 29 is endowed with the curse\\u2026or gift of perception. She hears messages in music, sees lyrics in paintings. And the corn. A lifetime asylum resident, the orchestral corn music is the only constant in her life.Mason, a new, kind orderly, sees 29 as a woman, not a lunatic. And as his belief in her grows, so does her self- confidence. That perhaps she might escape, might see the outside world. But the monster has other plans. The missing girls share one common thread...each was twenty-nine's cell mate. Will she be next? ...more\",\n          \"Who You Think You Are is Not as Important as Who God Says You AreMany of us wrestle with the gap between our weaknesses and our dreams, between who we are and who God says we are meant to be. We feel unqualified to do God\\u2019s work or to live out the calling we imagine. But God has a way of using our weaknesses for good. In fact, God loves unqualified people.In (Un)Qualified, Who You Think You Are is Not as Important as Who God Says You AreMany of us wrestle with the gap between our weaknesses and our dreams, between who we are and who God says we are meant to be. We feel unqualified to do God\\u2019s work or to live out the calling we imagine. But God has a way of using our weaknesses for good. In fact, God loves unqualified people.In (Un)Qualified, Pastor Steven Furtick helps you peel back the assumptions you\\u2019ve made about yourself and see yourself as God sees you. Because true peace and confidence come not from worldly perfection but from acceptance: God\\u2019s acceptance of you, your acceptance of yourself, and your acceptance of God\\u2019s process of change.This is a book about understanding your identity in light of who God is. It\\u2019s a book about coming to terms with the good, the bad, and the unmentionable in your life and learning to let God use you. It\\u2019s about charging into the gap between your present and your hopes and meeting God there. After all, God can\\u2019t bless who you pretend to be. But he longs to bless who you really are; a flawed and broken person. Good thing for us that God is in the business of using broken people to do big things. Being Unqualified Is God\\u2019s Favorite QualificationOur culture tells us that the answer to our failures is to fix them. The solution to our weaknesses is to hide them. The secret to our success is to appear as flawless as possible. But God\\u2019s qualifying system is different than the world\\u2019s. So is his view of our weaknesses, our purpose, and our true selves.In (Un)Qualified, Steven Furtick explores who God is as the great \\u201cI AM,\\u201d and then helps us discover our own identity. Delving into the story of Jacob, Furtick invites us to acknowledge our weaknesses and ask God to work through them.The truth is, God has created us to be more, to accomplish more, and to love life more than we ever thought possible. But to become who he has called us to be, we must embrace who we are right now. (Un)Qualified equips us to face obstacles and failures without losing a sense of purpose. We can have a thriving sense of hope that God is working in us and through us, not in spite of our weaknesses but often as a direct result of them. ...more\",\n          \"#1 NEW YORK TIMES BESTSELLERThroughout the years that she has lived and worked in East Hampton, Ina Garten has catered and attended countless parties and dinners. She will be the first to tell you, though, that nothing beats a cozy dinner, surrounded by the people you love most, in the comfort that only your own home can provide. In Barefoot Contessa at Home, Ina shares he #1 NEW YORK TIMES BESTSELLERThroughout the years that she has lived and worked in East Hampton, Ina Garten has catered and attended countless parties and dinners. She will be the first to tell you, though, that nothing beats a cozy dinner, surrounded by the people you love most, in the comfort that only your own home can provide. In Barefoot Contessa at Home, Ina shares her life in East Hampton, the recipes she loves, and her secrets to making guests feel welcome and comfortable. For Ina, it\\u2019s friends and family\\u2013gathered around the dinner table or cooking with her in the kitchen\\u2013that really make her house feel like home. Here Ina offers the tried-and-true recipes that she makes over and over again because they\\u2019re easy, they work, and they\\u2019re universally loved. For a leisurely Sunday breakfast, she has Easy Cheese Danishes or Breakfast Fruit Crunch to serve with the perfect Spicy Bloody Mary. For lunch, she has classics with a twist, such as Tomato, Mozzarella, and Pesto Paninis and Old-Fashioned Potato Salad, which are simply delicious. Then there are Ina\\u2019s homey dinners\\u2013from her own version of loin of pork stuffed with saut\\u00e9ed fennel to the exotic flavors of Eli\\u2019s Asian Salmon. And since Ina knows no one ever forgets what you serve for dessert, she includes recipes for outrageously luscious sweets like Peach and Blueberry Crumble, Pumpkin Mousse Parfait, and Chocolate Cupcakes with Peanut Butter Icing. Ina also lets readers in on her time-tested secrets for cooking and entertaining. Get the inside scoop on everything from what Ina considers when she\\u2019s designing a kitchen to menu-planning basics and how to make a dinner party fun (here\\u2019s a hint: it doesn\\u2019 t involve making complicated food!). Along with beautiful photographs of Ina\\u2019s dishes, her home, and the East Hampton she loves, this book is filled with signature recipes that strike the perfect balance between elegance and casual comfort. With her most indispensable collection yet, Ina Garten proves beyond a shadow of doubt that there truly is no place like home. ...more\"\n        ],\n        \"semantic_type\": \"\",\n        \"description\": \"\"\n      }\n    },\n    {\n      \"column\": \"UPC\",\n      \"properties\": {\n        \"dtype\": \"string\",\n        \"num_unique_values\": 517,\n        \"samples\": [\n          \"b6f1cfadc4dd79d4\",\n          \"e4ac92d89b946781\",\n          \"999912e63a3262ae\"\n        ],\n        \"semantic_type\": \"\",\n        \"description\": \"\"\n      }\n    },\n    {\n      \"column\": \"Category\",\n      \"properties\": {\n        \"dtype\": \"category\",\n        \"num_unique_values\": 50,\n        \"samples\": [\n          \"default_15\",\n          \"self-help_41\",\n          \"history_32\"\n        ],\n        \"semantic_type\": \"\",\n        \"description\": \"\"\n      }\n    }\n  ]\n}"
            }
          },
          "metadata": {},
          "execution_count": 7
        }
      ]
    }
  ]
}