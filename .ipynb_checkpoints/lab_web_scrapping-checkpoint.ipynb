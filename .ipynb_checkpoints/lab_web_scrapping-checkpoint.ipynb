{
 "cells": [
  {
   "cell_type": "markdown",
   "metadata": {
    "id": "Rq7Fx0T_DPsE"
   },
   "source": [
    "# Web Scrapping lab"
   ]
  },
  {
   "cell_type": "markdown",
   "metadata": {
    "id": "K3n7CJfCD2pK"
   },
   "source": [
    "In this lab you will scrappe this [website](https://books.toscrape.com/) of books.\n",
    "\n",
    "You have to create a Pandas DataFrame with all the books listed in the page. Each row of the DataFrame should contain information of each book. In particular, the DataFrmae must contain:\n",
    "\n",
    "* category\n",
    "* title\n",
    "* price\n",
    "* stock availability\n",
    "* star rating (number of stars)\n",
    "* description\n",
    "* UPC\n",
    "\n",
    "Happy scrapping!\n",
    "\n"
   ]
  },
  {
   "cell_type": "markdown",
   "metadata": {
    "id": "IaqLnJRLBqMS"
   },
   "source": [
    "# Server verification"
   ]
  },
  {
   "cell_type": "markdown",
   "metadata": {
    "id": "QNXuRli_BvJp"
   },
   "source": [
    "Load the needed libraries, and make sure thar you can obtain the correct status code."
   ]
  },
  {
   "cell_type": "code",
   "execution_count": 39,
   "metadata": {
    "colab": {
     "base_uri": "https://localhost:8080/"
    },
    "id": "szKOZm99Frlf",
    "outputId": "184b2f54-7eaa-4d31-b66f-f3f8311e80e6"
   },
   "outputs": [
    {
     "name": "stdout",
     "output_type": "stream",
     "text": [
      "All good!\n"
     ]
    }
   ],
   "source": [
    "import requests\n",
    "from bs4 import BeautifulSoup\n",
    "import pandas as pd\n",
    "\n",
    "url = \"https://books.toscrape.com\"\n",
    "response = requests.get(url)\n",
    "\n",
    "if response.status_code == 200:\n",
    "    print (\"All good!\")\n",
    "else:\n",
    "    print(f\"Failed to connect. Status code:{response.status_code}\")"
   ]
  },
  {
   "cell_type": "markdown",
   "metadata": {
    "id": "SSrTPTKnCD-N"
   },
   "source": [
    "# Book categories"
   ]
  },
  {
   "cell_type": "markdown",
   "metadata": {
    "id": "Yu5FjaMECISF"
   },
   "source": [
    "Create the code to collect the **relative urls** from the left panel to obtain a list with all the book categories."
   ]
  },
  {
   "cell_type": "code",
   "execution_count": 41,
   "metadata": {
    "colab": {
     "base_uri": "https://localhost:8080/"
    },
    "id": "Y12krHNrGPsu",
    "outputId": "8e1a4907-1b82-4f2d-f8a9-c7c10b6e6bed"
   },
   "outputs": [
    {
     "data": {
      "text/plain": [
       "['catalogue/category/books/travel_2/index.html',\n",
       " 'catalogue/category/books/mystery_3/index.html',\n",
       " 'catalogue/category/books/historical-fiction_4/index.html',\n",
       " 'catalogue/category/books/sequential-art_5/index.html',\n",
       " 'catalogue/category/books/classics_6/index.html',\n",
       " 'catalogue/category/books/philosophy_7/index.html',\n",
       " 'catalogue/category/books/romance_8/index.html',\n",
       " 'catalogue/category/books/womens-fiction_9/index.html',\n",
       " 'catalogue/category/books/fiction_10/index.html',\n",
       " 'catalogue/category/books/childrens_11/index.html',\n",
       " 'catalogue/category/books/religion_12/index.html',\n",
       " 'catalogue/category/books/nonfiction_13/index.html',\n",
       " 'catalogue/category/books/music_14/index.html',\n",
       " 'catalogue/category/books/default_15/index.html',\n",
       " 'catalogue/category/books/science-fiction_16/index.html',\n",
       " 'catalogue/category/books/sports-and-games_17/index.html',\n",
       " 'catalogue/category/books/add-a-comment_18/index.html',\n",
       " 'catalogue/category/books/fantasy_19/index.html',\n",
       " 'catalogue/category/books/new-adult_20/index.html',\n",
       " 'catalogue/category/books/young-adult_21/index.html',\n",
       " 'catalogue/category/books/science_22/index.html',\n",
       " 'catalogue/category/books/poetry_23/index.html',\n",
       " 'catalogue/category/books/paranormal_24/index.html',\n",
       " 'catalogue/category/books/art_25/index.html',\n",
       " 'catalogue/category/books/psychology_26/index.html',\n",
       " 'catalogue/category/books/autobiography_27/index.html',\n",
       " 'catalogue/category/books/parenting_28/index.html',\n",
       " 'catalogue/category/books/adult-fiction_29/index.html',\n",
       " 'catalogue/category/books/humor_30/index.html',\n",
       " 'catalogue/category/books/horror_31/index.html',\n",
       " 'catalogue/category/books/history_32/index.html',\n",
       " 'catalogue/category/books/food-and-drink_33/index.html',\n",
       " 'catalogue/category/books/christian-fiction_34/index.html',\n",
       " 'catalogue/category/books/business_35/index.html',\n",
       " 'catalogue/category/books/biography_36/index.html',\n",
       " 'catalogue/category/books/thriller_37/index.html',\n",
       " 'catalogue/category/books/contemporary_38/index.html',\n",
       " 'catalogue/category/books/spirituality_39/index.html',\n",
       " 'catalogue/category/books/academic_40/index.html',\n",
       " 'catalogue/category/books/self-help_41/index.html',\n",
       " 'catalogue/category/books/historical_42/index.html',\n",
       " 'catalogue/category/books/christian_43/index.html',\n",
       " 'catalogue/category/books/suspense_44/index.html',\n",
       " 'catalogue/category/books/short-stories_45/index.html',\n",
       " 'catalogue/category/books/novels_46/index.html',\n",
       " 'catalogue/category/books/health_47/index.html',\n",
       " 'catalogue/category/books/politics_48/index.html',\n",
       " 'catalogue/category/books/cultural_49/index.html',\n",
       " 'catalogue/category/books/erotica_50/index.html',\n",
       " 'catalogue/category/books/crime_51/index.html']"
      ]
     },
     "execution_count": 41,
     "metadata": {},
     "output_type": "execute_result"
    }
   ],
   "source": [
    "soup = BeautifulSoup(response.content, \"html.parser\")\n",
    "\n",
    "categories_list = []\n",
    "\n",
    "categories = soup.find('ul', class_='nav-list').find('ul').find_all('li')\n",
    "\n",
    "for category in categories:\n",
    "    category_url = category.a['href'] \n",
    "    categories_list.append(category_url)\n",
    "\n",
    "categories_list"
   ]
  },
  {
   "cell_type": "markdown",
   "metadata": {
    "id": "tAq9izU8Cpyx"
   },
   "source": [
    "# Books in a given category\n",
    "\n",
    "Use. web scrapping and list comprehension to obtain the **absolute** url of each book to be scraped"
   ]
  },
  {
   "cell_type": "code",
   "execution_count": 43,
   "metadata": {
    "id": "gC6uP76bHwNv"
   },
   "outputs": [
    {
     "data": {
      "text/plain": [
       "['http://books.toscrape.com/catalogue/catalogue/a-light-in-the-attic_1000/index.html',\n",
       " 'http://books.toscrape.com/catalogue/catalogue/tipping-the-velvet_999/index.html',\n",
       " 'http://books.toscrape.com/catalogue/catalogue/soumission_998/index.html',\n",
       " 'http://books.toscrape.com/catalogue/catalogue/sharp-objects_997/index.html',\n",
       " 'http://books.toscrape.com/catalogue/catalogue/sapiens-a-brief-history-of-humankind_996/index.html',\n",
       " 'http://books.toscrape.com/catalogue/catalogue/the-requiem-red_995/index.html',\n",
       " 'http://books.toscrape.com/catalogue/catalogue/the-dirty-little-secrets-of-getting-your-dream-job_994/index.html',\n",
       " 'http://books.toscrape.com/catalogue/catalogue/the-coming-woman-a-novel-based-on-the-life-of-the-infamous-feminist-victoria-woodhull_993/index.html',\n",
       " 'http://books.toscrape.com/catalogue/catalogue/the-boys-in-the-boat-nine-americans-and-their-epic-quest-for-gold-at-the-1936-berlin-olympics_992/index.html',\n",
       " 'http://books.toscrape.com/catalogue/catalogue/the-black-maria_991/index.html',\n",
       " 'http://books.toscrape.com/catalogue/catalogue/starving-hearts-triangular-trade-trilogy-1_990/index.html',\n",
       " 'http://books.toscrape.com/catalogue/catalogue/shakespeares-sonnets_989/index.html',\n",
       " 'http://books.toscrape.com/catalogue/catalogue/set-me-free_988/index.html',\n",
       " 'http://books.toscrape.com/catalogue/catalogue/scott-pilgrims-precious-little-life-scott-pilgrim-1_987/index.html',\n",
       " 'http://books.toscrape.com/catalogue/catalogue/rip-it-up-and-start-again_986/index.html',\n",
       " 'http://books.toscrape.com/catalogue/catalogue/our-band-could-be-your-life-scenes-from-the-american-indie-underground-1981-1991_985/index.html',\n",
       " 'http://books.toscrape.com/catalogue/catalogue/olio_984/index.html',\n",
       " 'http://books.toscrape.com/catalogue/catalogue/mesaerion-the-best-science-fiction-stories-1800-1849_983/index.html',\n",
       " 'http://books.toscrape.com/catalogue/catalogue/libertarianism-for-beginners_982/index.html',\n",
       " 'http://books.toscrape.com/catalogue/catalogue/its-only-the-himalayas_981/index.html']"
      ]
     },
     "execution_count": 43,
     "metadata": {},
     "output_type": "execute_result"
    }
   ],
   "source": [
    "base_url = \"http://books.toscrape.com/catalogue/\"\n",
    "\n",
    "book_urls = [base_url + book.h3.a['href'].replace('../../../', '') for book in soup.find_all('article', class_='product_pod')]\n",
    "book_urls"
   ]
  },
  {
   "cell_type": "markdown",
   "metadata": {
    "id": "wLIh0a_LDJMo"
   },
   "source": [
    "# Book details\n",
    "\n",
    "Create a Python function that given a book_url as an input returns a dictionary with the following structure:\n",
    "\n",
    "```Python\n",
    "{\"Title\": title, \"Price\": price, \"Availability\": availability, \"Rating\": rating, \"Description\": description, \"UPC\": upc}\n",
    "```\n",
    "\n",
    "where `description` should contain the book's summary given in the Product description, and the values are the book's associated information."
   ]
  },
  {
   "cell_type": "code",
   "execution_count": 51,
   "metadata": {
    "id": "5-uC7hz1LxCd"
   },
   "outputs": [
    {
     "data": {
      "text/plain": [
       "{'Title': 'A Light in the Attic',\n",
       " 'Price': '£51.77',\n",
       " 'Availability': 'In stock (22 available)',\n",
       " 'Rating': 3,\n",
       " 'Description': \"It's hard to imagine a world without A Light in the Attic. This now-classic collection of poetry and drawings from Shel Silverstein celebrates its 20th anniversary with this special edition. Silverstein's humorous and creative verse can amuse the dowdiest of readers. Lemon-faced adults and fidgety kids sit still and read these rhythmic words and laugh and smile and love th It's hard to imagine a world without A Light in the Attic. This now-classic collection of poetry and drawings from Shel Silverstein celebrates its 20th anniversary with this special edition. Silverstein's humorous and creative verse can amuse the dowdiest of readers. Lemon-faced adults and fidgety kids sit still and read these rhythmic words and laugh and smile and love that Silverstein. Need proof of his genius? RockabyeRockabye baby, in the treetopDon't you know a treetopIs no safe place to rock?And who put you up there,And your cradle, too?Baby, I think someone down here'sGot it in for you. Shel, you never sounded so good. ...more\",\n",
       " 'UPC': 'a897fe39b1053632',\n",
       " 'Category': 'Poetry'}"
      ]
     },
     "execution_count": 51,
     "metadata": {},
     "output_type": "execute_result"
    }
   ],
   "source": [
    "import requests\n",
    "from bs4 import BeautifulSoup\n",
    "\n",
    "def scrape_book_details(book_url):\n",
    "\n",
    "    response = requests.get(book_url)\n",
    "    if response.status_code != 200:\n",
    "        return {\"error\": \"Failed to retrieve the book page.\"}\n",
    "    \n",
    "    soup = BeautifulSoup(response.content, \"html.parser\")\n",
    "    \n",
    "    title = soup.find('h1').text\n",
    "    \n",
    "    price = soup.find('p', class_='price_color').text\n",
    "    \n",
    "    availability = soup.find('p', class_='instock availability').text.strip()\n",
    "    \n",
    "    rating = soup.find('p', class_='star-rating')['class'][1]\n",
    "    rating_dict = {'One': 1, 'Two': 2, 'Three': 3, 'Four': 4, 'Five': 5}\n",
    "    rating = rating_dict.get(rating, \"Unknown\")\n",
    "    \n",
    "    description_tag = soup.find('meta', {'name': 'description'})\n",
    "    description = description_tag['content'].strip() if description_tag else \"No description available\"\n",
    "\n",
    "    upc = soup.find('th', string='UPC').find_next_sibling('td').text\n",
    "    \n",
    "    category = soup.find('ul', class_='breadcrumb').find_all('li')[2].text.strip()\n",
    "    \n",
    "    return {\n",
    "        \"Title\": title,\n",
    "        \"Price\": price,\n",
    "        \"Availability\": availability,\n",
    "        \"Rating\": rating,\n",
    "        \"Description\": description,\n",
    "        \"UPC\": upc,\n",
    "        \"Category\": category\n",
    "    }\n",
    "\n",
    "book_url = \"http://books.toscrape.com/catalogue/a-light-in-the-attic_1000/index.html\"\n",
    "book_details = scrape_book_details(book_url)\n",
    "book_details"
   ]
  },
  {
   "cell_type": "markdown",
   "metadata": {
    "id": "GvSqhX4UDxbb"
   },
   "source": [
    "# Collect and store all the information from the books in a Pandas DataFrame\n",
    "\n",
    "Start with the following dictionary:\n",
    "\n",
    "```python\n",
    "books_dict = {\"Title\": [], \"Price\": [], \"Availability\": [], \"Rating\": [], \"Description\": [], \"UPC\": [], \"Category\": [] }\n",
    "```\n",
    "\n",
    "Then, iterate over all the categories and all the books in a given category to collect any book information using the previous function. Fill the previous dictionary with the information about each book.\n",
    "\n",
    "Show the first five rows of the previous final Pandas DataFrame.\n",
    "\n",
    "Tip: You can use the function `tqdm` from the library `tqdm` to show a progress bar if in iterable of a for loop as shown below :wink: :\n",
    "\n",
    "```python\n",
    "from tqdm import tqdm\n",
    "\n",
    "for elem in tqdm(iterable):\n",
    "    # some code\n",
    "```\n",
    "\n",
    "\n",
    "\n"
   ]
  },
  {
   "cell_type": "code",
   "execution_count": 55,
   "metadata": {
    "colab": {
     "base_uri": "https://localhost:8080/",
     "height": 1000
    },
    "id": "apeImoCxStA5",
    "outputId": "20d2d37c-5cbe-4062-e407-80f77955a8d3"
   },
   "outputs": [
    {
     "name": "stderr",
     "output_type": "stream",
     "text": [
      "100%|███████████████████████████████████████████| 50/50 [02:37<00:00,  3.16s/it]\n"
     ]
    },
    {
     "data": {
      "text/html": [
       "<div>\n",
       "<style scoped>\n",
       "    .dataframe tbody tr th:only-of-type {\n",
       "        vertical-align: middle;\n",
       "    }\n",
       "\n",
       "    .dataframe tbody tr th {\n",
       "        vertical-align: top;\n",
       "    }\n",
       "\n",
       "    .dataframe thead th {\n",
       "        text-align: right;\n",
       "    }\n",
       "</style>\n",
       "<table border=\"1\" class=\"dataframe\">\n",
       "  <thead>\n",
       "    <tr style=\"text-align: right;\">\n",
       "      <th></th>\n",
       "      <th>Title</th>\n",
       "      <th>Price</th>\n",
       "      <th>Availability</th>\n",
       "      <th>Rating</th>\n",
       "      <th>Description</th>\n",
       "      <th>UPC</th>\n",
       "      <th>Category</th>\n",
       "    </tr>\n",
       "  </thead>\n",
       "  <tbody>\n",
       "    <tr>\n",
       "      <th>0</th>\n",
       "      <td>It's Only the Himalayas</td>\n",
       "      <td>£45.17</td>\n",
       "      <td>In stock (19 available)</td>\n",
       "      <td>2</td>\n",
       "      <td>“Wherever you go, whatever you do, just . . . ...</td>\n",
       "      <td>a22124811bfa8350</td>\n",
       "      <td>Travel</td>\n",
       "    </tr>\n",
       "    <tr>\n",
       "      <th>1</th>\n",
       "      <td>Full Moon over Noah’s Ark: An Odyssey to Mount...</td>\n",
       "      <td>£49.43</td>\n",
       "      <td>In stock (15 available)</td>\n",
       "      <td>4</td>\n",
       "      <td>Acclaimed travel writer Rick Antonson sets his...</td>\n",
       "      <td>ce60436f52c5ee68</td>\n",
       "      <td>Travel</td>\n",
       "    </tr>\n",
       "    <tr>\n",
       "      <th>2</th>\n",
       "      <td>See America: A Celebration of Our National Par...</td>\n",
       "      <td>£48.87</td>\n",
       "      <td>In stock (14 available)</td>\n",
       "      <td>3</td>\n",
       "      <td>To coincide with the 2016 centennial anniversa...</td>\n",
       "      <td>f9705c362f070608</td>\n",
       "      <td>Travel</td>\n",
       "    </tr>\n",
       "    <tr>\n",
       "      <th>3</th>\n",
       "      <td>Vagabonding: An Uncommon Guide to the Art of L...</td>\n",
       "      <td>£36.94</td>\n",
       "      <td>In stock (8 available)</td>\n",
       "      <td>2</td>\n",
       "      <td>With a new foreword by Tim Ferriss •There’s no...</td>\n",
       "      <td>1809259a5a5f1d8d</td>\n",
       "      <td>Travel</td>\n",
       "    </tr>\n",
       "    <tr>\n",
       "      <th>4</th>\n",
       "      <td>Under the Tuscan Sun</td>\n",
       "      <td>£37.33</td>\n",
       "      <td>In stock (7 available)</td>\n",
       "      <td>3</td>\n",
       "      <td>A CLASSIC FROM THE BESTSELLING AUTHOR OF UNDER...</td>\n",
       "      <td>a94350ee74deaa07</td>\n",
       "      <td>Travel</td>\n",
       "    </tr>\n",
       "    <tr>\n",
       "      <th>...</th>\n",
       "      <td>...</td>\n",
       "      <td>...</td>\n",
       "      <td>...</td>\n",
       "      <td>...</td>\n",
       "      <td>...</td>\n",
       "      <td>...</td>\n",
       "      <td>...</td>\n",
       "    </tr>\n",
       "    <tr>\n",
       "      <th>512</th>\n",
       "      <td>Why the Right Went Wrong: Conservatism--From G...</td>\n",
       "      <td>£52.65</td>\n",
       "      <td>In stock (14 available)</td>\n",
       "      <td>4</td>\n",
       "      <td>“Dionne's expertise is evident in this finely ...</td>\n",
       "      <td>2b5054a4192e9b06</td>\n",
       "      <td>Politics</td>\n",
       "    </tr>\n",
       "    <tr>\n",
       "      <th>513</th>\n",
       "      <td>Equal Is Unfair: America's Misguided Fight Aga...</td>\n",
       "      <td>£56.86</td>\n",
       "      <td>In stock (12 available)</td>\n",
       "      <td>1</td>\n",
       "      <td>We’ve all heard that the American Dream is van...</td>\n",
       "      <td>3968e3fbf4695d7c</td>\n",
       "      <td>Politics</td>\n",
       "    </tr>\n",
       "    <tr>\n",
       "      <th>514</th>\n",
       "      <td>Amid the Chaos</td>\n",
       "      <td>£36.58</td>\n",
       "      <td>In stock (15 available)</td>\n",
       "      <td>1</td>\n",
       "      <td>Some people call Eritrea the “North Korea of A...</td>\n",
       "      <td>bb8245f52c7cce8f</td>\n",
       "      <td>Cultural</td>\n",
       "    </tr>\n",
       "    <tr>\n",
       "      <th>515</th>\n",
       "      <td>Dark Notes</td>\n",
       "      <td>£19.19</td>\n",
       "      <td>In stock (15 available)</td>\n",
       "      <td>5</td>\n",
       "      <td>They call me a slut. Maybe I am.Sometimes I do...</td>\n",
       "      <td>88c21fcd38e2486e</td>\n",
       "      <td>Erotica</td>\n",
       "    </tr>\n",
       "    <tr>\n",
       "      <th>516</th>\n",
       "      <td>The Long Shadow of Small Ghosts: Murder and Me...</td>\n",
       "      <td>£10.97</td>\n",
       "      <td>In stock (15 available)</td>\n",
       "      <td>1</td>\n",
       "      <td>In Cold Blood meets Adrian Nicole LeBlanc’s Ra...</td>\n",
       "      <td>abeafe151a587d3b</td>\n",
       "      <td>Crime</td>\n",
       "    </tr>\n",
       "  </tbody>\n",
       "</table>\n",
       "<p>517 rows × 7 columns</p>\n",
       "</div>"
      ],
      "text/plain": [
       "                                                 Title   Price  \\\n",
       "0                              It's Only the Himalayas  £45.17   \n",
       "1    Full Moon over Noah’s Ark: An Odyssey to Mount...  £49.43   \n",
       "2    See America: A Celebration of Our National Par...  £48.87   \n",
       "3    Vagabonding: An Uncommon Guide to the Art of L...  £36.94   \n",
       "4                                 Under the Tuscan Sun  £37.33   \n",
       "..                                                 ...     ...   \n",
       "512  Why the Right Went Wrong: Conservatism--From G...  £52.65   \n",
       "513  Equal Is Unfair: America's Misguided Fight Aga...  £56.86   \n",
       "514                                     Amid the Chaos  £36.58   \n",
       "515                                         Dark Notes  £19.19   \n",
       "516  The Long Shadow of Small Ghosts: Murder and Me...  £10.97   \n",
       "\n",
       "                Availability  Rating  \\\n",
       "0    In stock (19 available)       2   \n",
       "1    In stock (15 available)       4   \n",
       "2    In stock (14 available)       3   \n",
       "3     In stock (8 available)       2   \n",
       "4     In stock (7 available)       3   \n",
       "..                       ...     ...   \n",
       "512  In stock (14 available)       4   \n",
       "513  In stock (12 available)       1   \n",
       "514  In stock (15 available)       1   \n",
       "515  In stock (15 available)       5   \n",
       "516  In stock (15 available)       1   \n",
       "\n",
       "                                           Description               UPC  \\\n",
       "0    “Wherever you go, whatever you do, just . . . ...  a22124811bfa8350   \n",
       "1    Acclaimed travel writer Rick Antonson sets his...  ce60436f52c5ee68   \n",
       "2    To coincide with the 2016 centennial anniversa...  f9705c362f070608   \n",
       "3    With a new foreword by Tim Ferriss •There’s no...  1809259a5a5f1d8d   \n",
       "4    A CLASSIC FROM THE BESTSELLING AUTHOR OF UNDER...  a94350ee74deaa07   \n",
       "..                                                 ...               ...   \n",
       "512  “Dionne's expertise is evident in this finely ...  2b5054a4192e9b06   \n",
       "513  We’ve all heard that the American Dream is van...  3968e3fbf4695d7c   \n",
       "514  Some people call Eritrea the “North Korea of A...  bb8245f52c7cce8f   \n",
       "515  They call me a slut. Maybe I am.Sometimes I do...  88c21fcd38e2486e   \n",
       "516  In Cold Blood meets Adrian Nicole LeBlanc’s Ra...  abeafe151a587d3b   \n",
       "\n",
       "     Category  \n",
       "0      Travel  \n",
       "1      Travel  \n",
       "2      Travel  \n",
       "3      Travel  \n",
       "4      Travel  \n",
       "..        ...  \n",
       "512  Politics  \n",
       "513  Politics  \n",
       "514  Cultural  \n",
       "515   Erotica  \n",
       "516     Crime  \n",
       "\n",
       "[517 rows x 7 columns]"
      ]
     },
     "execution_count": 55,
     "metadata": {},
     "output_type": "execute_result"
    }
   ],
   "source": [
    "from tqdm import tqdm\n",
    "\n",
    "books_dict = {\"Title\": [], \"Price\": [], \"Availability\": [], \"Rating\": [], \"Description\": [], \"UPC\": [], \"Category\": []}\n",
    "\n",
    "base_url = \"http://books.toscrape.com/\"\n",
    "response = requests.get(base_url)\n",
    "soup = BeautifulSoup(response.content, \"html.parser\")\n",
    "\n",
    "categories = soup.find('ul', class_='nav-list').find('ul').find_all('li')\n",
    "category_urls = [base_url + category.a['href'] for category in categories]\n",
    "\n",
    "for category_url in tqdm(category_urls):\n",
    "    response = requests.get(category_url)\n",
    "    soup = BeautifulSoup(response.content, \"html.parser\")\n",
    "    \n",
    "    book_urls = [base_url + \"catalogue/\" + book.h3.a['href'].replace('../../../', '') for book in soup.find_all('article', class_='product_pod')]\n",
    "    \n",
    "    for book_url in book_urls:\n",
    "        book_details = scrape_book_details(book_url)\n",
    "        books_dict[\"Title\"].append(book_details[\"Title\"])\n",
    "        books_dict[\"Price\"].append(book_details[\"Price\"])\n",
    "        books_dict[\"Availability\"].append(book_details[\"Availability\"])\n",
    "        books_dict[\"Rating\"].append(book_details[\"Rating\"])\n",
    "        books_dict[\"Description\"].append(book_details[\"Description\"])\n",
    "        books_dict[\"UPC\"].append(book_details[\"UPC\"])\n",
    "        books_dict[\"Category\"].append(book_details[\"Category\"])\n",
    "\n",
    "books_df = pd.DataFrame(books_dict)\n",
    "books_df"
   ]
  },
  {
   "cell_type": "code",
   "execution_count": 59,
   "metadata": {},
   "outputs": [
    {
     "data": {
      "text/html": [
       "<div>\n",
       "<style scoped>\n",
       "    .dataframe tbody tr th:only-of-type {\n",
       "        vertical-align: middle;\n",
       "    }\n",
       "\n",
       "    .dataframe tbody tr th {\n",
       "        vertical-align: top;\n",
       "    }\n",
       "\n",
       "    .dataframe thead th {\n",
       "        text-align: right;\n",
       "    }\n",
       "</style>\n",
       "<table border=\"1\" class=\"dataframe\">\n",
       "  <thead>\n",
       "    <tr style=\"text-align: right;\">\n",
       "      <th></th>\n",
       "      <th>Title</th>\n",
       "      <th>Price</th>\n",
       "      <th>Availability</th>\n",
       "      <th>Rating</th>\n",
       "      <th>Description</th>\n",
       "      <th>UPC</th>\n",
       "      <th>Category</th>\n",
       "    </tr>\n",
       "  </thead>\n",
       "  <tbody>\n",
       "    <tr>\n",
       "      <th>0</th>\n",
       "      <td>It's Only the Himalayas</td>\n",
       "      <td>£45.17</td>\n",
       "      <td>In stock (19 available)</td>\n",
       "      <td>2</td>\n",
       "      <td>“Wherever you go, whatever you do, just . . . ...</td>\n",
       "      <td>a22124811bfa8350</td>\n",
       "      <td>Travel</td>\n",
       "    </tr>\n",
       "    <tr>\n",
       "      <th>1</th>\n",
       "      <td>Full Moon over Noah’s Ark: An Odyssey to Mount...</td>\n",
       "      <td>£49.43</td>\n",
       "      <td>In stock (15 available)</td>\n",
       "      <td>4</td>\n",
       "      <td>Acclaimed travel writer Rick Antonson sets his...</td>\n",
       "      <td>ce60436f52c5ee68</td>\n",
       "      <td>Travel</td>\n",
       "    </tr>\n",
       "    <tr>\n",
       "      <th>2</th>\n",
       "      <td>See America: A Celebration of Our National Par...</td>\n",
       "      <td>£48.87</td>\n",
       "      <td>In stock (14 available)</td>\n",
       "      <td>3</td>\n",
       "      <td>To coincide with the 2016 centennial anniversa...</td>\n",
       "      <td>f9705c362f070608</td>\n",
       "      <td>Travel</td>\n",
       "    </tr>\n",
       "    <tr>\n",
       "      <th>3</th>\n",
       "      <td>Vagabonding: An Uncommon Guide to the Art of L...</td>\n",
       "      <td>£36.94</td>\n",
       "      <td>In stock (8 available)</td>\n",
       "      <td>2</td>\n",
       "      <td>With a new foreword by Tim Ferriss •There’s no...</td>\n",
       "      <td>1809259a5a5f1d8d</td>\n",
       "      <td>Travel</td>\n",
       "    </tr>\n",
       "    <tr>\n",
       "      <th>4</th>\n",
       "      <td>Under the Tuscan Sun</td>\n",
       "      <td>£37.33</td>\n",
       "      <td>In stock (7 available)</td>\n",
       "      <td>3</td>\n",
       "      <td>A CLASSIC FROM THE BESTSELLING AUTHOR OF UNDER...</td>\n",
       "      <td>a94350ee74deaa07</td>\n",
       "      <td>Travel</td>\n",
       "    </tr>\n",
       "  </tbody>\n",
       "</table>\n",
       "</div>"
      ],
      "text/plain": [
       "                                               Title   Price  \\\n",
       "0                            It's Only the Himalayas  £45.17   \n",
       "1  Full Moon over Noah’s Ark: An Odyssey to Mount...  £49.43   \n",
       "2  See America: A Celebration of Our National Par...  £48.87   \n",
       "3  Vagabonding: An Uncommon Guide to the Art of L...  £36.94   \n",
       "4                               Under the Tuscan Sun  £37.33   \n",
       "\n",
       "              Availability  Rating  \\\n",
       "0  In stock (19 available)       2   \n",
       "1  In stock (15 available)       4   \n",
       "2  In stock (14 available)       3   \n",
       "3   In stock (8 available)       2   \n",
       "4   In stock (7 available)       3   \n",
       "\n",
       "                                         Description               UPC  \\\n",
       "0  “Wherever you go, whatever you do, just . . . ...  a22124811bfa8350   \n",
       "1  Acclaimed travel writer Rick Antonson sets his...  ce60436f52c5ee68   \n",
       "2  To coincide with the 2016 centennial anniversa...  f9705c362f070608   \n",
       "3  With a new foreword by Tim Ferriss •There’s no...  1809259a5a5f1d8d   \n",
       "4  A CLASSIC FROM THE BESTSELLING AUTHOR OF UNDER...  a94350ee74deaa07   \n",
       "\n",
       "  Category  \n",
       "0   Travel  \n",
       "1   Travel  \n",
       "2   Travel  \n",
       "3   Travel  \n",
       "4   Travel  "
      ]
     },
     "execution_count": 59,
     "metadata": {},
     "output_type": "execute_result"
    }
   ],
   "source": [
    "books_df.head()"
   ]
  },
  {
   "cell_type": "code",
   "execution_count": null,
   "metadata": {},
   "outputs": [],
   "source": []
  }
 ],
 "metadata": {
  "colab": {
   "provenance": []
  },
  "kernelspec": {
   "display_name": "Python 3 (ipykernel)",
   "language": "python",
   "name": "python3"
  },
  "language_info": {
   "codemirror_mode": {
    "name": "ipython",
    "version": 3
   },
   "file_extension": ".py",
   "mimetype": "text/x-python",
   "name": "python",
   "nbconvert_exporter": "python",
   "pygments_lexer": "ipython3",
   "version": "3.11.5"
  }
 },
 "nbformat": 4,
 "nbformat_minor": 4
}
