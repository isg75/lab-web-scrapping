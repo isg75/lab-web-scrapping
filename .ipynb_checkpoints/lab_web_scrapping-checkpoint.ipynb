{
 "cells": [
  {
   "cell_type": "markdown",
   "metadata": {
    "id": "Rq7Fx0T_DPsE"
   },
   "source": [
    "# Web Scrapping lab"
   ]
  },
  {
   "cell_type": "markdown",
   "metadata": {
    "id": "K3n7CJfCD2pK"
   },
   "source": [
    "In this lab you will scrappe this [website](https://books.toscrape.com/) of books.\n",
    "\n",
    "You have to create a Pandas DataFrame with all the books listed in the page. Each row of the DataFrame should contain information of each book. In particular, the DataFrmae must contain:\n",
    "\n",
    "* category\n",
    "* title\n",
    "* price\n",
    "* stock availability\n",
    "* star rating (number of stars)\n",
    "* description\n",
    "* UPC\n",
    "\n",
    "Happy scrapping!\n",
    "\n"
   ]
  },
  {
   "cell_type": "markdown",
   "metadata": {
    "id": "IaqLnJRLBqMS"
   },
   "source": [
    "# Server verification"
   ]
  },
  {
   "cell_type": "markdown",
   "metadata": {
    "id": "QNXuRli_BvJp"
   },
   "source": [
    "Load the needed libraries, and make sure thar you can obtain the correct status code."
   ]
  },
  {
   "cell_type": "code",
   "execution_count": 111,
   "metadata": {
    "colab": {
     "base_uri": "https://localhost:8080/"
    },
    "id": "szKOZm99Frlf",
    "outputId": "184b2f54-7eaa-4d31-b66f-f3f8311e80e6"
   },
   "outputs": [
    {
     "name": "stdout",
     "output_type": "stream",
     "text": [
      "Status Code: 200\n",
      "All good!\n"
     ]
    }
   ],
   "source": [
    "# Import the necessary libraries\n",
    "import requests\n",
    "from bs4 import BeautifulSoup\n",
    "import pandas as pd\n",
    "\n",
    "# The URL of the website you want to scrape\n",
    "url = \"https://books.toscrape.com/\"\n",
    "\n",
    "# Use the requests library to get the content of the website\n",
    "response = requests.get(url)\n",
    "\n",
    "# Print the status code to make sure the request went through successfully\n",
    "print(\"Status Code:\", response.status_code)\n",
    "\n",
    "# All good if the status code is 200\n",
    "if response.status_code == 200:\n",
    "    print(\"All good!\")\n",
    "else:\n",
    "    print(\"There was a problem accessing the website.\")"
   ]
  },
  {
   "cell_type": "markdown",
   "metadata": {
    "id": "SSrTPTKnCD-N"
   },
   "source": [
    "# Book categories"
   ]
  },
  {
   "cell_type": "markdown",
   "metadata": {
    "id": "Yu5FjaMECISF"
   },
   "source": [
    "Create the code to collect the **relative urls** from the left panel to obtain a list with all the book categories."
   ]
  },
  {
   "cell_type": "code",
   "execution_count": 112,
   "metadata": {},
   "outputs": [
    {
     "name": "stdout",
     "output_type": "stream",
     "text": [
      "['catalogue/category/books/travel_2/index.html, catalogue/category/books/mystery_3/index.html, catalogue/category/books/historical-fiction_4/index.html, catalogue/category/books/sequential-art_5/index.html, catalogue/category/books/classics_6/index.html, catalogue/category/books/philosophy_7/index.html, catalogue/category/books/romance_8/index.html, catalogue/category/books/womens-fiction_9/index.html, catalogue/category/books/fiction_10/index.html, catalogue/category/books/childrens_11/index.html, catalogue/category/books/religion_12/index.html, catalogue/category/books/nonfiction_13/index.html, catalogue/category/books/music_14/index.html, catalogue/category/books/default_15/index.html, catalogue/category/books/science-fiction_16/index.html, catalogue/category/books/sports-and-games_17/index.html, catalogue/category/books/add-a-comment_18/index.html, catalogue/category/books/fantasy_19/index.html, catalogue/category/books/new-adult_20/index.html, catalogue/category/books/young-adult_21/index.html, catalogue/category/books/science_22/index.html, catalogue/category/books/poetry_23/index.html, catalogue/category/books/paranormal_24/index.html, catalogue/category/books/art_25/index.html, catalogue/category/books/psychology_26/index.html, catalogue/category/books/autobiography_27/index.html, catalogue/category/books/parenting_28/index.html, catalogue/category/books/adult-fiction_29/index.html, catalogue/category/books/humor_30/index.html, catalogue/category/books/horror_31/index.html, catalogue/category/books/history_32/index.html, catalogue/category/books/food-and-drink_33/index.html, catalogue/category/books/christian-fiction_34/index.html, catalogue/category/books/business_35/index.html, catalogue/category/books/biography_36/index.html, catalogue/category/books/thriller_37/index.html, catalogue/category/books/contemporary_38/index.html, catalogue/category/books/spirituality_39/index.html, catalogue/category/books/academic_40/index.html, catalogue/category/books/self-help_41/index.html, catalogue/category/books/historical_42/index.html, catalogue/category/books/christian_43/index.html, catalogue/category/books/suspense_44/index.html, catalogue/category/books/short-stories_45/index.html, catalogue/category/books/novels_46/index.html, catalogue/category/books/health_47/index.html, catalogue/category/books/politics_48/index.html, catalogue/category/books/cultural_49/index.html, catalogue/category/books/erotica_50/index.html, catalogue/category/books/crime_51/index.html']\n"
     ]
    }
   ],
   "source": [
    "from bs4 import BeautifulSoup\n",
    "import requests\n",
    "\n",
    "url = \"https://books.toscrape.com/\"\n",
    "\n",
    "response = requests.get(url)\n",
    "\n",
    "soup = BeautifulSoup(response.text, 'html.parser')\n",
    "\n",
    "category_urls = []\n",
    "\n",
    "\n",
    "categories_ul = soup.find('div', class_='side_categories').find('ul').find('ul')  # The categories are likely in the second <ul>\n",
    "\n",
    "if categories_ul:\n",
    "    category_links = categories_ul.find_all('a')\n",
    "    \n",
    "    for link in category_links:\n",
    "        relative_url = link.get('href')\n",
    "        \n",
    "        if relative_url:\n",
    "            category_urls.append(relative_url)\n",
    "\n",
    "\n",
    "print([\", \".join(category_urls)])"
   ]
  },
  {
   "cell_type": "markdown",
   "metadata": {
    "id": "tAq9izU8Cpyx"
   },
   "source": [
    "# Books in a given category\n",
    "\n",
    "Use. web scrapping and list comprehension to obtain the **absolute** url of each book to be scraped"
   ]
  },
  {
   "cell_type": "code",
   "execution_count": 113,
   "metadata": {
    "id": "gC6uP76bHwNv"
   },
   "outputs": [
    {
     "name": "stdout",
     "output_type": "stream",
     "text": [
      "https://books.toscrape.com/catalogue/a-light-in-the-attic_1000/index.html\n",
      "https://books.toscrape.com/catalogue/tipping-the-velvet_999/index.html\n",
      "https://books.toscrape.com/catalogue/soumission_998/index.html\n",
      "https://books.toscrape.com/catalogue/sharp-objects_997/index.html\n",
      "https://books.toscrape.com/catalogue/sapiens-a-brief-history-of-humankind_996/index.html\n",
      "https://books.toscrape.com/catalogue/the-requiem-red_995/index.html\n",
      "https://books.toscrape.com/catalogue/the-dirty-little-secrets-of-getting-your-dream-job_994/index.html\n",
      "https://books.toscrape.com/catalogue/the-coming-woman-a-novel-based-on-the-life-of-the-infamous-feminist-victoria-woodhull_993/index.html\n",
      "https://books.toscrape.com/catalogue/the-boys-in-the-boat-nine-americans-and-their-epic-quest-for-gold-at-the-1936-berlin-olympics_992/index.html\n",
      "https://books.toscrape.com/catalogue/the-black-maria_991/index.html\n",
      "https://books.toscrape.com/catalogue/starving-hearts-triangular-trade-trilogy-1_990/index.html\n",
      "https://books.toscrape.com/catalogue/shakespeares-sonnets_989/index.html\n",
      "https://books.toscrape.com/catalogue/set-me-free_988/index.html\n",
      "https://books.toscrape.com/catalogue/scott-pilgrims-precious-little-life-scott-pilgrim-1_987/index.html\n",
      "https://books.toscrape.com/catalogue/rip-it-up-and-start-again_986/index.html\n",
      "https://books.toscrape.com/catalogue/our-band-could-be-your-life-scenes-from-the-american-indie-underground-1981-1991_985/index.html\n",
      "https://books.toscrape.com/catalogue/olio_984/index.html\n",
      "https://books.toscrape.com/catalogue/mesaerion-the-best-science-fiction-stories-1800-1849_983/index.html\n",
      "https://books.toscrape.com/catalogue/libertarianism-for-beginners_982/index.html\n",
      "https://books.toscrape.com/catalogue/its-only-the-himalayas_981/index.html\n"
     ]
    }
   ],
   "source": [
    "# Your code here\n",
    "\n",
    "base_url = \"https://books.toscrape.com/\"\n",
    "\n",
    "response = requests.get(base_url)\n",
    "soup = BeautifulSoup(response.text, 'html.parser')\n",
    "\n",
    "books = soup.find_all('article', class_='product_pod')\n",
    "\n",
    "book_urls = [base_url + book.find('h3').find('a')['href'] for book in books]\n",
    "\n",
    "for url in book_urls:\n",
    "    print(url)"
   ]
  },
  {
   "cell_type": "markdown",
   "metadata": {
    "id": "wLIh0a_LDJMo"
   },
   "source": [
    "# Book details\n",
    "\n",
    "Create a Python function that given a book_url as an input returns a dictionary with the following structure:\n",
    "\n",
    "```Python\n",
    "{\"Title\": title, \"Price\": price, \"Availability\": availability, \"Rating\": rating, \"Description\": description, \"UPC\": upc}\n",
    "```\n",
    "\n",
    "where `description` should contain the book's summary given in the Product description, and the values are the book's associated information."
   ]
  },
  {
   "cell_type": "code",
   "execution_count": 114,
   "metadata": {},
   "outputs": [
    {
     "name": "stdout",
     "output_type": "stream",
     "text": [
      "{'Title': 'A Light in the Attic', 'Price': 'Â£51.77', 'Availability': 'In stock (22 available)', 'Rating': 3, 'Description': \"It's hard to imagine a world without A Light in the Attic. This now-classic collection of poetry and drawings from Shel Silverstein celebrates its 20th anniversary with this special edition. Silverstein's humorous and creative verse can amuse the dowdiest of readers. Lemon-faced adults and fidgety kids sit still and read these rhythmic words and laugh and smile and love th It's hard to imagine a world without A Light in the Attic. This now-classic collection of poetry and drawings from Shel Silverstein celebrates its 20th anniversary with this special edition. Silverstein's humorous and creative verse can amuse the dowdiest of readers. Lemon-faced adults and fidgety kids sit still and read these rhythmic words and laugh and smile and love that Silverstein. Need proof of his genius? RockabyeRockabye baby, in the treetopDon't you know a treetopIs no safe place to rock?And who put you up there,And your cradle, too?Baby, I think someone down here'sGot it in for you. Shel, you never sounded so good. ...more\", 'UPC': 'a897fe39b1053632'}\n"
     ]
    }
   ],
   "source": [
    "from bs4 import BeautifulSoup\n",
    "import requests\n",
    "\n",
    "def scrape_book_details(book_url):\n",
    "    response = requests.get(book_url)\n",
    "    if response.status_code != 200:\n",
    "        return \"Failed to fetch the webpage, Status code: {}\".format(response.status_code)\n",
    "    \n",
    "    soup = BeautifulSoup(response.text, 'html.parser')\n",
    "    \n",
    "    try:\n",
    "        title = soup.find('h1').text\n",
    "    except AttributeError:\n",
    "        title = \"Title not found\"\n",
    "    \n",
    "    try:\n",
    "        price = soup.select_one('p.price_color').text\n",
    "    except AttributeError:\n",
    "        price = \"Price not found\"\n",
    "    \n",
    "    try:\n",
    "        availability = soup.select_one('p.instock.availability').text.strip()\n",
    "    except AttributeError:\n",
    "        availability = \"Availability not found\"\n",
    "    \n",
    "    try:\n",
    "        rating_class = soup.select_one('p.star-rating')['class'][1]\n",
    "        rating_conversion = {\"One\": 1, \"Two\": 2, \"Three\": 3, \"Four\": 4, \"Five\": 5}\n",
    "        rating = rating_conversion.get(rating_class, \"Unknown\")\n",
    "    except (AttributeError, TypeError, KeyError):\n",
    "        rating = \"Rating not found\"\n",
    "    \n",
    "    try:\n",
    "        description_tag = soup.select_one('#product_description ~ p')\n",
    "        description = description_tag.text if description_tag else \"No description available\"\n",
    "    except AttributeError:\n",
    "        description = \"Description not found\"\n",
    "    \n",
    "    try:\n",
    "        upc = soup.find('table', class_='table table-striped').find('td').text\n",
    "    except AttributeError:\n",
    "        upc = \"UPC not found\"\n",
    "    \n",
    "    book_details = {\n",
    "        \"Title\": title,\n",
    "        \"Price\": price,\n",
    "        \"Availability\": availability,\n",
    "        \"Rating\": rating,\n",
    "        \"Description\": description,\n",
    "        \"UPC\": upc\n",
    "    }\n",
    "    \n",
    "    return book_details\n",
    "\n",
    "# Test the function\n",
    "book_url = \"https://books.toscrape.com/catalogue/a-light-in-the-attic_1000/index.html\"\n",
    "book_details = scrape_book_details(book_url)\n",
    "print(book_details)"
   ]
  },
  {
   "cell_type": "code",
   "execution_count": 115,
   "metadata": {},
   "outputs": [
    {
     "name": "stdout",
     "output_type": "stream",
     "text": [
      "{'Title': \"It's Only the Himalayas\", 'Price': 'Â£45.17', 'Availability': 'In stock (19 available)', 'Rating': 2, 'Description': 'â\\x80\\x9cWherever you go, whatever you do, just . . . donâ\\x80\\x99t do anything stupid.â\\x80\\x9d â\\x80\\x94My MotherDuring her yearlong adventure backpacking from South Africa to Singapore, S. Bedford definitely did a few things her mother might classify as \"stupid.\" She swam with great white sharks in South Africa, ran from lions in Zimbabwe, climbed a Himalayan mountain without training in Nepal, and wa â\\x80\\x9cWherever you go, whatever you do, just . . . donâ\\x80\\x99t do anything stupid.â\\x80\\x9d â\\x80\\x94My MotherDuring her yearlong adventure backpacking from South Africa to Singapore, S. Bedford definitely did a few things her mother might classify as \"stupid.\" She swam with great white sharks in South Africa, ran from lions in Zimbabwe, climbed a Himalayan mountain without training in Nepal, and watched as her friend was attacked by a monkey in Indonesia.But interspersed in those slightly more crazy moments, Sue Bedfored and her friend \"Sara the Stoic\" experienced the sights, sounds, life, and culture of fifteen countries. Joined along the way by a few friends and their aging fathers here and there, Sue and Sara experience the trip of a lifetime. They fall in love with the world, cultivate an appreciation for home, and discover who, or what, they want to become.It\\'s Only the Himalayas is the incredibly funny, sometimes outlandish, always entertaining confession of a young backpacker that will inspire you to take your own adventure. ...more', 'UPC': 'a22124811bfa8350'}\n"
     ]
    }
   ],
   "source": [
    "book_url = \"https://books.toscrape.com/catalogue/its-only-the-himalayas_981/index.html\"\n",
    "book_details = scrape_book_details(book_url)\n",
    "print(book_details)"
   ]
  },
  {
   "cell_type": "markdown",
   "metadata": {
    "id": "GvSqhX4UDxbb"
   },
   "source": [
    "# Collect and store all the information from the books in a Pandas DataFrame\n",
    "\n",
    "Start with the following dictionary:\n",
    "\n",
    "```python\n",
    "books_dict = {\"Title\": [], \"Price\": [], \"Availability\": [], \"Rating\": [], \"Description\": [], \"UPC\": [], \"Category\": [] }\n",
    "```\n",
    "\n",
    "Then, iterate over all the categories and all the books in a given category to collect any book information using the previous function. Fill the previous dictionary with the information about each book.\n",
    "\n",
    "Show the first five rows of the previous final Pandas DataFrame.\n",
    "\n",
    "Tip: You can use the function `tqdm` from the library `tqdm` to show a progress bar if in iterable of a for loop as shown below :wink: :\n",
    "\n",
    "```python\n",
    "from tqdm import tqdm\n",
    "\n",
    "for elem in tqdm(iterable):\n",
    "    # some code\n",
    "```\n",
    "\n",
    "\n",
    "\n"
   ]
  },
  {
   "cell_type": "code",
   "execution_count": null,
   "metadata": {},
   "outputs": [
    {
     "name": "stderr",
     "output_type": "stream",
     "text": [
      "Categories Progress:   0%|          | 0/50 [00:00<?, ?it/s]\n",
      "Books in Travel:   0%|          | 0/11 [00:00<?, ?it/s]\u001b[A\n",
      "Books in Travel:   9%|▉         | 1/11 [00:00<00:03,  2.70it/s]\u001b[A\n",
      "Books in Travel:  18%|█▊        | 2/11 [00:00<00:03,  2.71it/s]\u001b[A\n",
      "Books in Travel:  27%|██▋       | 3/11 [00:01<00:02,  2.72it/s]\u001b[A\n",
      "Books in Travel:  36%|███▋      | 4/11 [00:01<00:02,  2.73it/s]\u001b[A\n",
      "Books in Travel:  45%|████▌     | 5/11 [00:01<00:02,  2.74it/s]\u001b[A\n",
      "Books in Travel:  55%|█████▍    | 6/11 [00:02<00:01,  2.74it/s]\u001b[A\n",
      "Books in Travel:  64%|██████▎   | 7/11 [00:02<00:01,  2.73it/s]\u001b[A\n",
      "Books in Travel:  73%|███████▎  | 8/11 [00:02<00:01,  2.70it/s]\u001b[A\n",
      "Books in Travel:  82%|████████▏ | 9/11 [00:03<00:00,  2.70it/s]\u001b[A\n",
      "Books in Travel:  91%|█████████ | 10/11 [00:03<00:00,  2.71it/s]\u001b[A\n",
      "Books in Travel: 100%|██████████| 11/11 [00:04<00:00,  2.71it/s]\u001b[A\n",
      "Categories Progress:   2%|▏         | 1/50 [00:04<03:44,  4.59s/it]\n",
      "Books in Mystery:   0%|          | 0/20 [00:00<?, ?it/s]\u001b[A\n",
      "Books in Mystery:   5%|▌         | 1/20 [00:00<00:06,  2.73it/s]\u001b[A\n",
      "Books in Mystery:  10%|█         | 2/20 [00:00<00:06,  2.71it/s]\u001b[A\n",
      "Books in Mystery:  15%|█▌        | 3/20 [00:01<00:06,  2.50it/s]\u001b[A\n",
      "Books in Mystery:  20%|██        | 4/20 [00:01<00:06,  2.58it/s]\u001b[A\n",
      "Books in Mystery:  25%|██▌       | 5/20 [00:01<00:05,  2.63it/s]\u001b[A\n",
      "Books in Mystery:  30%|███       | 6/20 [00:02<00:05,  2.65it/s]\u001b[A\n",
      "Books in Mystery:  35%|███▌      | 7/20 [00:02<00:04,  2.67it/s]\u001b[A\n",
      "Books in Mystery:  40%|████      | 8/20 [00:03<00:04,  2.69it/s]\u001b[A\n",
      "Books in Mystery:  45%|████▌     | 9/20 [00:03<00:04,  2.70it/s]\u001b[A\n",
      "Books in Mystery:  50%|█████     | 10/20 [00:03<00:03,  2.70it/s]\u001b[A\n",
      "Books in Mystery:  55%|█████▌    | 11/20 [00:04<00:03,  2.71it/s]\u001b[A\n",
      "Books in Mystery:  60%|██████    | 12/20 [00:04<00:02,  2.70it/s]\u001b[A\n",
      "Books in Mystery:  65%|██████▌   | 13/20 [00:04<00:02,  2.72it/s]\u001b[A\n",
      "Books in Mystery:  70%|███████   | 14/20 [00:05<00:02,  2.73it/s]\u001b[A\n",
      "Books in Mystery:  75%|███████▌  | 15/20 [00:05<00:01,  2.73it/s]\u001b[A\n",
      "Books in Mystery:  80%|████████  | 16/20 [00:05<00:01,  2.75it/s]\u001b[A\n",
      "Books in Mystery:  85%|████████▌ | 17/20 [00:06<00:01,  2.76it/s]\u001b[A\n",
      "Books in Mystery:  90%|█████████ | 18/20 [00:06<00:00,  2.76it/s]\u001b[A\n",
      "Books in Mystery:  95%|█████████▌| 19/20 [00:07<00:00,  2.75it/s]\u001b[A\n",
      "Books in Mystery: 100%|██████████| 20/20 [00:07<00:00,  2.70it/s]\u001b[A\n",
      "Categories Progress:   4%|▍         | 2/50 [00:12<05:14,  6.55s/it]\n",
      "Books in Historical Fiction:   0%|          | 0/20 [00:00<?, ?it/s]\u001b[A\n",
      "Books in Historical Fiction:   5%|▌         | 1/20 [00:00<00:06,  2.77it/s]\u001b[A\n",
      "Books in Historical Fiction:  10%|█         | 2/20 [00:00<00:06,  2.70it/s]\u001b[A\n",
      "Books in Historical Fiction:  15%|█▌        | 3/20 [00:01<00:06,  2.71it/s]\u001b[A\n",
      "Books in Historical Fiction:  20%|██        | 4/20 [00:01<00:05,  2.72it/s]\u001b[A\n",
      "Books in Historical Fiction:  25%|██▌       | 5/20 [00:01<00:05,  2.72it/s]\u001b[A\n",
      "Books in Historical Fiction:  30%|███       | 6/20 [00:02<00:05,  2.73it/s]\u001b[A\n",
      "Books in Historical Fiction:  35%|███▌      | 7/20 [00:02<00:04,  2.73it/s]\u001b[A\n",
      "Books in Historical Fiction:  40%|████      | 8/20 [00:02<00:04,  2.71it/s]\u001b[A\n",
      "Books in Historical Fiction:  45%|████▌     | 9/20 [00:03<00:04,  2.60it/s]\u001b[A\n",
      "Books in Historical Fiction:  50%|█████     | 10/20 [00:03<00:03,  2.52it/s]\u001b[A\n",
      "Books in Historical Fiction:  55%|█████▌    | 11/20 [00:04<00:03,  2.57it/s]\u001b[A\n",
      "Books in Historical Fiction:  60%|██████    | 12/20 [00:04<00:03,  2.62it/s]\u001b[A\n",
      "Books in Historical Fiction:  65%|██████▌   | 13/20 [00:04<00:02,  2.66it/s]\u001b[A\n",
      "Books in Historical Fiction:  70%|███████   | 14/20 [00:05<00:02,  2.67it/s]\u001b[A\n",
      "Books in Historical Fiction:  75%|███████▌  | 15/20 [00:05<00:01,  2.69it/s]\u001b[A\n",
      "Books in Historical Fiction:  80%|████████  | 16/20 [00:05<00:01,  2.70it/s]\u001b[A\n",
      "Books in Historical Fiction:  85%|████████▌ | 17/20 [00:06<00:01,  2.71it/s]\u001b[A\n",
      "Books in Historical Fiction:  90%|█████████ | 18/20 [00:06<00:00,  2.72it/s]\u001b[A\n",
      "Books in Historical Fiction:  95%|█████████▌| 19/20 [00:07<00:00,  2.74it/s]\u001b[A\n",
      "Books in Historical Fiction: 100%|██████████| 20/20 [00:07<00:00,  2.69it/s]\u001b[A\n",
      "Categories Progress:   6%|▌         | 3/50 [00:20<05:38,  7.19s/it]\n",
      "Books in Sequential Art:   0%|          | 0/20 [00:00<?, ?it/s]\u001b[A\n",
      "Books in Sequential Art:   5%|▌         | 1/20 [00:00<00:07,  2.69it/s]\u001b[A\n",
      "Books in Sequential Art:  10%|█         | 2/20 [00:00<00:06,  2.72it/s]\u001b[A\n",
      "Books in Sequential Art:  15%|█▌        | 3/20 [00:01<00:06,  2.74it/s]\u001b[A\n",
      "Books in Sequential Art:  20%|██        | 4/20 [00:01<00:05,  2.73it/s]\u001b[A\n",
      "Books in Sequential Art:  25%|██▌       | 5/20 [00:01<00:05,  2.72it/s]\u001b[A\n",
      "Books in Sequential Art:  30%|███       | 6/20 [00:02<00:05,  2.72it/s]\u001b[A\n",
      "Books in Sequential Art:  35%|███▌      | 7/20 [00:02<00:04,  2.74it/s]\u001b[A\n",
      "Books in Sequential Art:  40%|████      | 8/20 [00:02<00:04,  2.74it/s]\u001b[A\n",
      "Books in Sequential Art:  45%|████▌     | 9/20 [00:03<00:04,  2.74it/s]\u001b[A\n",
      "Books in Sequential Art:  50%|█████     | 10/20 [00:03<00:03,  2.73it/s]\u001b[A\n",
      "Books in Sequential Art:  55%|█████▌    | 11/20 [00:04<00:03,  2.71it/s]\u001b[A\n",
      "Books in Sequential Art:  60%|██████    | 12/20 [00:04<00:02,  2.72it/s]\u001b[A\n",
      "Books in Sequential Art:  65%|██████▌   | 13/20 [00:04<00:02,  2.71it/s]\u001b[A\n",
      "Books in Sequential Art:  70%|███████   | 14/20 [00:05<00:02,  2.70it/s]\u001b[A\n",
      "Books in Sequential Art:  75%|███████▌  | 15/20 [00:05<00:01,  2.69it/s]\u001b[A\n",
      "Books in Sequential Art:  80%|████████  | 16/20 [00:05<00:01,  2.70it/s]\u001b[A\n",
      "Books in Sequential Art:  85%|████████▌ | 17/20 [00:06<00:01,  2.71it/s]\u001b[A\n",
      "Books in Sequential Art:  90%|█████████ | 18/20 [00:06<00:00,  2.70it/s]\u001b[A\n",
      "Books in Sequential Art:  95%|█████████▌| 19/20 [00:06<00:00,  2.71it/s]\u001b[A\n",
      "Books in Sequential Art: 100%|██████████| 20/20 [00:07<00:00,  2.72it/s]\u001b[A\n",
      "Categories Progress:   8%|▊         | 4/50 [00:28<05:43,  7.47s/it]\n",
      "Books in Classics:   0%|          | 0/19 [00:00<?, ?it/s]\u001b[A\n",
      "Books in Classics:   5%|▌         | 1/19 [00:00<00:06,  2.74it/s]\u001b[A\n",
      "Books in Classics:  11%|█         | 2/19 [00:00<00:06,  2.72it/s]\u001b[A\n",
      "Books in Classics:  16%|█▌        | 3/19 [00:01<00:05,  2.70it/s]\u001b[A\n",
      "Books in Classics:  21%|██        | 4/19 [00:01<00:05,  2.71it/s]\u001b[A\n",
      "Books in Classics:  26%|██▋       | 5/19 [00:01<00:05,  2.71it/s]\u001b[A\n",
      "Books in Classics:  32%|███▏      | 6/19 [00:02<00:04,  2.70it/s]\u001b[A\n",
      "Books in Classics:  37%|███▋      | 7/19 [00:02<00:04,  2.69it/s]\u001b[A\n",
      "Books in Classics:  42%|████▏     | 8/19 [00:02<00:04,  2.69it/s]\u001b[A\n",
      "Books in Classics:  47%|████▋     | 9/19 [00:03<00:03,  2.69it/s]\u001b[A\n",
      "Books in Classics:  53%|█████▎    | 10/19 [00:03<00:03,  2.69it/s]\u001b[A\n",
      "Books in Classics:  58%|█████▊    | 11/19 [00:04<00:02,  2.71it/s]\u001b[A\n",
      "Books in Classics:  63%|██████▎   | 12/19 [00:04<00:02,  2.72it/s]\u001b[A\n",
      "Books in Classics:  68%|██████▊   | 13/19 [00:04<00:02,  2.74it/s]\u001b[A\n",
      "Books in Classics:  74%|███████▎  | 14/19 [00:05<00:01,  2.74it/s]\u001b[A\n",
      "Books in Classics:  79%|███████▉  | 15/19 [00:05<00:01,  2.73it/s]\u001b[A\n",
      "Books in Classics:  84%|████████▍ | 16/19 [00:05<00:01,  2.72it/s]\u001b[A\n",
      "Books in Classics:  89%|████████▉ | 17/19 [00:06<00:00,  2.71it/s]\u001b[A\n",
      "Books in Classics:  95%|█████████▍| 18/19 [00:06<00:00,  2.72it/s]\u001b[A\n",
      "Books in Classics: 100%|██████████| 19/19 [00:07<00:00,  2.71it/s]\u001b[A\n",
      "Categories Progress:  10%|█         | 5/50 [00:35<05:36,  7.49s/it]\n",
      "Books in Philosophy:   0%|          | 0/11 [00:00<?, ?it/s]\u001b[A\n",
      "Books in Philosophy:   9%|▉         | 1/11 [00:00<00:03,  2.76it/s]\u001b[A\n",
      "Books in Philosophy:  18%|█▊        | 2/11 [00:00<00:03,  2.75it/s]\u001b[A\n",
      "Books in Philosophy:  27%|██▋       | 3/11 [00:01<00:02,  2.74it/s]\u001b[A\n",
      "Books in Philosophy:  36%|███▋      | 4/11 [00:01<00:02,  2.75it/s]\u001b[A\n",
      "Books in Philosophy:  45%|████▌     | 5/11 [00:01<00:02,  2.74it/s]\u001b[A\n",
      "Books in Philosophy:  55%|█████▍    | 6/11 [00:02<00:01,  2.74it/s]\u001b[A\n",
      "Books in Philosophy:  64%|██████▎   | 7/11 [00:02<00:01,  2.73it/s]\u001b[A\n",
      "Books in Philosophy:  73%|███████▎  | 8/11 [00:02<00:01,  2.72it/s]\u001b[A\n",
      "Books in Philosophy:  82%|████████▏ | 9/11 [00:03<00:00,  2.71it/s]\u001b[A\n",
      "Books in Philosophy:  91%|█████████ | 10/11 [00:03<00:00,  2.69it/s]\u001b[A\n",
      "Books in Philosophy: 100%|██████████| 11/11 [00:04<00:00,  2.72it/s]\u001b[A\n",
      "Categories Progress:  12%|█▏        | 6/50 [00:40<04:46,  6.51s/it]\n",
      "Books in Romance:   0%|          | 0/20 [00:00<?, ?it/s]\u001b[A\n",
      "Books in Romance:   5%|▌         | 1/20 [00:00<00:06,  2.79it/s]\u001b[A\n",
      "Books in Romance:  10%|█         | 2/20 [00:00<00:06,  2.75it/s]\u001b[A\n",
      "Books in Romance:  15%|█▌        | 3/20 [00:01<00:06,  2.74it/s]\u001b[A\n",
      "Books in Romance:  20%|██        | 4/20 [00:01<00:05,  2.73it/s]\u001b[A\n",
      "Books in Romance:  25%|██▌       | 5/20 [00:01<00:05,  2.71it/s]\u001b[A\n",
      "Books in Romance:  30%|███       | 6/20 [00:02<00:05,  2.66it/s]\u001b[A\n",
      "Books in Romance:  35%|███▌      | 7/20 [00:02<00:04,  2.67it/s]\u001b[A\n",
      "Books in Romance:  40%|████      | 8/20 [00:02<00:04,  2.68it/s]\u001b[A\n",
      "Books in Romance:  45%|████▌     | 9/20 [00:03<00:04,  2.69it/s]\u001b[A\n",
      "Books in Romance:  50%|█████     | 10/20 [00:03<00:03,  2.70it/s]\u001b[A\n",
      "Books in Romance:  55%|█████▌    | 11/20 [00:04<00:03,  2.72it/s]\u001b[A\n",
      "Books in Romance:  60%|██████    | 12/20 [00:04<00:02,  2.73it/s]\u001b[A\n",
      "Books in Romance:  65%|██████▌   | 13/20 [00:04<00:02,  2.73it/s]\u001b[A\n",
      "Books in Romance:  70%|███████   | 14/20 [00:05<00:02,  2.73it/s]\u001b[A\n",
      "Books in Romance:  75%|███████▌  | 15/20 [00:05<00:01,  2.66it/s]\u001b[A\n",
      "Books in Romance:  80%|████████  | 16/20 [00:05<00:01,  2.67it/s]\u001b[A\n",
      "Books in Romance:  85%|████████▌ | 17/20 [00:06<00:01,  2.69it/s]\u001b[A\n",
      "Books in Romance:  90%|█████████ | 18/20 [00:06<00:00,  2.69it/s]\u001b[A\n",
      "Books in Romance:  95%|█████████▌| 19/20 [00:07<00:00,  2.71it/s]\u001b[A\n",
      "Books in Romance: 100%|██████████| 20/20 [00:07<00:00,  2.69it/s]\u001b[A\n",
      "Categories Progress:  14%|█▍        | 7/50 [00:48<05:00,  6.98s/it]\n",
      "Books in Womens Fiction:   0%|          | 0/17 [00:00<?, ?it/s]\u001b[A\n",
      "Books in Womens Fiction:   6%|▌         | 1/17 [00:00<00:05,  2.73it/s]\u001b[A\n",
      "Books in Womens Fiction:  12%|█▏        | 2/17 [00:00<00:05,  2.72it/s]\u001b[A\n",
      "Books in Womens Fiction:  18%|█▊        | 3/17 [00:01<00:05,  2.72it/s]\u001b[A\n",
      "Books in Womens Fiction:  24%|██▎       | 4/17 [00:01<00:04,  2.73it/s]\u001b[A\n",
      "Books in Womens Fiction:  29%|██▉       | 5/17 [00:01<00:04,  2.74it/s]\u001b[A\n",
      "Books in Womens Fiction:  35%|███▌      | 6/17 [00:02<00:04,  2.71it/s]\u001b[A\n",
      "Books in Womens Fiction:  41%|████      | 7/17 [00:02<00:03,  2.72it/s]\u001b[A\n",
      "Books in Womens Fiction:  47%|████▋     | 8/17 [00:02<00:03,  2.72it/s]\u001b[A\n",
      "Books in Womens Fiction:  53%|█████▎    | 9/17 [00:03<00:02,  2.72it/s]\u001b[A\n",
      "Books in Womens Fiction:  59%|█████▉    | 10/17 [00:03<00:02,  2.73it/s]\u001b[A\n",
      "Books in Womens Fiction:  65%|██████▍   | 11/17 [00:04<00:02,  2.74it/s]\u001b[A\n",
      "Books in Womens Fiction:  71%|███████   | 12/17 [00:04<00:01,  2.76it/s]\u001b[A\n",
      "Books in Womens Fiction:  76%|███████▋  | 13/17 [00:04<00:01,  2.74it/s]\u001b[A\n",
      "Books in Womens Fiction:  82%|████████▏ | 14/17 [00:05<00:01,  2.75it/s]\u001b[A\n",
      "Books in Womens Fiction:  88%|████████▊ | 15/17 [00:05<00:00,  2.73it/s]\u001b[A\n",
      "Books in Womens Fiction:  94%|█████████▍| 16/17 [00:05<00:00,  2.75it/s]\u001b[A\n",
      "Books in Womens Fiction: 100%|██████████| 17/17 [00:06<00:00,  2.73it/s]\u001b[A\n",
      "Categories Progress:  16%|█▌        | 8/50 [00:55<04:50,  6.90s/it]\n",
      "Books in Fiction:   0%|          | 0/20 [00:00<?, ?it/s]\u001b[A\n",
      "Books in Fiction:   5%|▌         | 1/20 [00:00<00:06,  2.75it/s]\u001b[A\n",
      "Books in Fiction:  10%|█         | 2/20 [00:00<00:08,  2.12it/s]\u001b[A\n",
      "Books in Fiction:  15%|█▌        | 3/20 [00:01<00:07,  2.36it/s]\u001b[A\n",
      "Books in Fiction:  20%|██        | 4/20 [00:01<00:06,  2.47it/s]\u001b[A\n",
      "Books in Fiction:  25%|██▌       | 5/20 [00:02<00:05,  2.57it/s]\u001b[A\n",
      "Books in Fiction:  30%|███       | 6/20 [00:02<00:05,  2.60it/s]\u001b[A\n",
      "Books in Fiction:  35%|███▌      | 7/20 [00:02<00:04,  2.63it/s]\u001b[A\n",
      "Books in Fiction:  40%|████      | 8/20 [00:03<00:04,  2.68it/s]\u001b[A\n",
      "Books in Fiction:  45%|████▌     | 9/20 [00:03<00:04,  2.69it/s]\u001b[A\n",
      "Books in Fiction:  50%|█████     | 10/20 [00:03<00:03,  2.71it/s]\u001b[A\n",
      "Books in Fiction:  55%|█████▌    | 11/20 [00:04<00:03,  2.73it/s]\u001b[A\n",
      "Books in Fiction:  60%|██████    | 12/20 [00:04<00:02,  2.73it/s]\u001b[A\n",
      "Books in Fiction:  65%|██████▌   | 13/20 [00:04<00:02,  2.72it/s]\u001b[A\n",
      "Books in Fiction:  70%|███████   | 14/20 [00:05<00:02,  2.72it/s]\u001b[A\n",
      "Books in Fiction:  75%|███████▌  | 15/20 [00:05<00:01,  2.73it/s]\u001b[A\n",
      "Books in Fiction:  80%|████████  | 16/20 [00:06<00:01,  2.71it/s]\u001b[A\n",
      "Books in Fiction:  85%|████████▌ | 17/20 [00:06<00:01,  2.71it/s]\u001b[A\n",
      "Books in Fiction:  90%|█████████ | 18/20 [00:06<00:00,  2.72it/s]\u001b[A\n",
      "Books in Fiction:  95%|█████████▌| 19/20 [00:07<00:00,  2.72it/s]\u001b[A"
     ]
    }
   ],
   "source": [
    "import requests\n",
    "from bs4 import BeautifulSoup\n",
    "from tqdm import tqdm\n",
    "import pandas as pd\n",
    "\n",
    "def scrape_book_details(book_url):\n",
    "    book_info = {\n",
    "        \"Title\": \"Information not found\", \n",
    "        \"Price\": \"Information not found\",\n",
    "        \"Availability\": \"Information not found\",\n",
    "        \"Rating\": \"Information not found\",\n",
    "        \"Description\": \"Information not found\",\n",
    "        \"UPC\": \"Information not found\",\n",
    "        \"Category\": \"Information not found\" \n",
    "    }\n",
    "    \n",
    "    response = requests.get(book_url)\n",
    "    if response.status_code == 200:\n",
    "        soup = BeautifulSoup(response.text, 'html.parser')\n",
    "\n",
    "        title_tag = soup.find('h1')\n",
    "        if title_tag:\n",
    "            book_info['Title'] = title_tag.text\n",
    "\n",
    "\n",
    "\n",
    "    return book_info\n",
    "\n",
    "books_dict = {\"Title\": [], \"Price\": [], \"Availability\": [], \"Rating\": [], \"Description\": [], \"UPC\": [], \"Category\": []}\n",
    "\n",
    "base_url = \"https://books.toscrape.com/\"\n",
    "\n",
    "for category in tqdm(categories, desc='Categories Progress'):\n",
    "    category_name = category.text.strip()\n",
    "    category_url = base_url + category.get('href')\n",
    "    \n",
    "    category_response = requests.get(category_url)\n",
    "    category_soup = BeautifulSoup(category_response.text, 'html.parser')\n",
    "    \n",
    "    book_urls = [base_url + x.find('a')['href'] for x in category_soup.find_all('h3') if x.find('a')]\n",
    "    \n",
    "    for book_url in tqdm(book_urls, desc=f'Books in {category_name}'):\n",
    "        book_info = scrape_book_details(book_url)\n",
    "        book_info['Category'] = category_name  \n",
    "        for key in books_dict:\n",
    "            books_dict[key].append(book_info.get(key, None))  # Using None as fallback\n",
    "\n",
    "books_df = pd.DataFrame(books_dict)\n",
    "print(books_df.head())"
   ]
  },
  {
   "cell_type": "code",
   "execution_count": null,
   "metadata": {},
   "outputs": [],
   "source": []
  }
 ],
 "metadata": {
  "colab": {
   "provenance": []
  },
  "kernelspec": {
   "display_name": "Python 3 (ipykernel)",
   "language": "python",
   "name": "python3"
  },
  "language_info": {
   "codemirror_mode": {
    "name": "ipython",
    "version": 3
   },
   "file_extension": ".py",
   "mimetype": "text/x-python",
   "name": "python",
   "nbconvert_exporter": "python",
   "pygments_lexer": "ipython3",
   "version": "3.11.5"
  }
 },
 "nbformat": 4,
 "nbformat_minor": 4
}
