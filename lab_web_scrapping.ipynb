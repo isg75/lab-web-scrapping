{
 "cells": [
  {
   "cell_type": "markdown",
   "metadata": {
    "id": "Rq7Fx0T_DPsE"
   },
   "source": [
    "# Web Scrapping lab"
   ]
  },
  {
   "cell_type": "markdown",
   "metadata": {
    "id": "K3n7CJfCD2pK"
   },
   "source": [
    "In this lab you will scrappe this [website](https://books.toscrape.com/) of books.\n",
    "\n",
    "You have to create a Pandas DataFrame with all the books listed in the page. Each row of the DataFrame should contain information of each book. In particular, the DataFrmae must contain:\n",
    "\n",
    "* category\n",
    "* title\n",
    "* price\n",
    "* stock availability\n",
    "* star rating (number of stars)\n",
    "* description\n",
    "* UPC\n",
    "\n",
    "Happy scrapping!\n",
    "\n"
   ]
  },
  {
   "cell_type": "markdown",
   "metadata": {
    "id": "IaqLnJRLBqMS"
   },
   "source": [
    "# Server verification"
   ]
  },
  {
   "cell_type": "markdown",
   "metadata": {
    "id": "QNXuRli_BvJp"
   },
   "source": [
    "Load the needed libraries, and make sure thar you can obtain the correct status code."
   ]
  },
  {
   "cell_type": "code",
   "execution_count": 1,
   "metadata": {
    "colab": {
     "base_uri": "https://localhost:8080/"
    },
    "id": "szKOZm99Frlf",
    "outputId": "184b2f54-7eaa-4d31-b66f-f3f8311e80e6"
   },
   "outputs": [],
   "source": [
    "# Your code here\n",
    "from bs4 import BeautifulSoup\n",
    "import requests"
   ]
  },
  {
   "cell_type": "markdown",
   "metadata": {
    "id": "SSrTPTKnCD-N"
   },
   "source": [
    "# Book categories"
   ]
  },
  {
   "cell_type": "markdown",
   "metadata": {
    "id": "Yu5FjaMECISF"
   },
   "source": [
    "Create the code to collect the **relative urls** from the left panel to obtain a list with all the book categories."
   ]
  },
  {
   "cell_type": "code",
   "execution_count": 2,
   "metadata": {},
   "outputs": [],
   "source": [
    "url_lab = \"https://books.toscrape.com/\"\n",
    "response = requests.get(url_lab)\n",
    "html_obtenido = response.text\n"
   ]
  },
  {
   "cell_type": "code",
   "execution_count": 3,
   "metadata": {},
   "outputs": [],
   "source": [
    "soup = BeautifulSoup(html_obtenido, 'html.parser')"
   ]
  },
  {
   "cell_type": "code",
   "execution_count": 5,
   "metadata": {},
   "outputs": [],
   "source": [
    "# Create the code to collect the relative urls from the left panel to obtain a list with all the book categories.\n",
    "\n",
    "cat_section = soup.find('ul', class_='nav-list')\n",
    "cat_links = cat_section.find_all('a')"
   ]
  },
  {
   "cell_type": "code",
   "execution_count": 6,
   "metadata": {},
   "outputs": [],
   "source": [
    "category_urls = []\n",
    "for link in cat_links:\n",
    "    href = link.get('href')\n",
    "    if href:\n",
    "       category_urls.append(href.strip())"
   ]
  },
  {
   "cell_type": "code",
   "execution_count": 7,
   "metadata": {},
   "outputs": [
    {
     "name": "stdout",
     "output_type": "stream",
     "text": [
      "catalogue/category/books_1/index.html\n",
      "catalogue/category/books/travel_2/index.html\n",
      "catalogue/category/books/mystery_3/index.html\n",
      "catalogue/category/books/historical-fiction_4/index.html\n",
      "catalogue/category/books/sequential-art_5/index.html\n",
      "catalogue/category/books/classics_6/index.html\n",
      "catalogue/category/books/philosophy_7/index.html\n",
      "catalogue/category/books/romance_8/index.html\n",
      "catalogue/category/books/womens-fiction_9/index.html\n",
      "catalogue/category/books/fiction_10/index.html\n",
      "catalogue/category/books/childrens_11/index.html\n",
      "catalogue/category/books/religion_12/index.html\n",
      "catalogue/category/books/nonfiction_13/index.html\n",
      "catalogue/category/books/music_14/index.html\n",
      "catalogue/category/books/default_15/index.html\n",
      "catalogue/category/books/science-fiction_16/index.html\n",
      "catalogue/category/books/sports-and-games_17/index.html\n",
      "catalogue/category/books/add-a-comment_18/index.html\n",
      "catalogue/category/books/fantasy_19/index.html\n",
      "catalogue/category/books/new-adult_20/index.html\n",
      "catalogue/category/books/young-adult_21/index.html\n",
      "catalogue/category/books/science_22/index.html\n",
      "catalogue/category/books/poetry_23/index.html\n",
      "catalogue/category/books/paranormal_24/index.html\n",
      "catalogue/category/books/art_25/index.html\n",
      "catalogue/category/books/psychology_26/index.html\n",
      "catalogue/category/books/autobiography_27/index.html\n",
      "catalogue/category/books/parenting_28/index.html\n",
      "catalogue/category/books/adult-fiction_29/index.html\n",
      "catalogue/category/books/humor_30/index.html\n",
      "catalogue/category/books/horror_31/index.html\n",
      "catalogue/category/books/history_32/index.html\n",
      "catalogue/category/books/food-and-drink_33/index.html\n",
      "catalogue/category/books/christian-fiction_34/index.html\n",
      "catalogue/category/books/business_35/index.html\n",
      "catalogue/category/books/biography_36/index.html\n",
      "catalogue/category/books/thriller_37/index.html\n",
      "catalogue/category/books/contemporary_38/index.html\n",
      "catalogue/category/books/spirituality_39/index.html\n",
      "catalogue/category/books/academic_40/index.html\n",
      "catalogue/category/books/self-help_41/index.html\n",
      "catalogue/category/books/historical_42/index.html\n",
      "catalogue/category/books/christian_43/index.html\n",
      "catalogue/category/books/suspense_44/index.html\n",
      "catalogue/category/books/short-stories_45/index.html\n",
      "catalogue/category/books/novels_46/index.html\n",
      "catalogue/category/books/health_47/index.html\n",
      "catalogue/category/books/politics_48/index.html\n",
      "catalogue/category/books/cultural_49/index.html\n",
      "catalogue/category/books/erotica_50/index.html\n",
      "catalogue/category/books/crime_51/index.html\n"
     ]
    }
   ],
   "source": [
    "for url in category_urls:\n",
    "    print(url)"
   ]
  },
  {
   "cell_type": "code",
   "execution_count": null,
   "metadata": {
    "colab": {
     "base_uri": "https://localhost:8080/"
    },
    "id": "Y12krHNrGPsu",
    "outputId": "8e1a4907-1b82-4f2d-f8a9-c7c10b6e6bed"
   },
   "outputs": [],
   "source": [
    "# Your code here"
   ]
  },
  {
   "cell_type": "markdown",
   "metadata": {
    "id": "tAq9izU8Cpyx"
   },
   "source": [
    "# Books in a given category\n",
    "\n",
    "Use. web scrapping and list comprehension to obtain the **absolute** url of each book to be scraped"
   ]
  },
  {
   "cell_type": "code",
   "execution_count": 8,
   "metadata": {
    "id": "gC6uP76bHwNv"
   },
   "outputs": [],
   "source": [
    "# Your code here\n",
    "import requests\n",
    "from bs4 import BeautifulSoup\n",
    "from urllib.parse import urljoin\n",
    "\n",
    "base_url = \"http://books.toscrape.com/\""
   ]
  },
  {
   "cell_type": "markdown",
   "metadata": {
    "id": "wLIh0a_LDJMo"
   },
   "source": [
    "# Book details\n",
    "\n",
    "Create a Python function that given a book_url as an input returns a dictionary with the following structure:\n",
    "\n",
    "```Python\n",
    "{\"Title\": title, \"Price\": price, \"Availability\": availability, \"Rating\": rating, \"Description\": description, \"UPC\": upc}\n",
    "```\n",
    "\n",
    "where `description` should contain the book's summary given in the Product description, and the values are the book's associated information."
   ]
  },
  {
   "cell_type": "code",
   "execution_count": 9,
   "metadata": {
    "id": "5-uC7hz1LxCd"
   },
   "outputs": [],
   "source": [
    "# Your code here\n",
    "\n",
    "def extract_book_details(book_url):\n",
    "    response = requests.get(book_url)  # Send a GET request to the book URL\n",
    "    soup = BeautifulSoup(response.content, 'html.parser')"
   ]
  },
  {
   "cell_type": "code",
   "execution_count": 10,
   "metadata": {},
   "outputs": [
    {
     "data": {
      "text/plain": [
       "'All products'"
      ]
     },
     "execution_count": 10,
     "metadata": {},
     "output_type": "execute_result"
    }
   ],
   "source": [
    "# extrct the book \"title\"\n",
    "title = soup.find('h1').get_text()\n",
    "title"
   ]
  },
  {
   "cell_type": "code",
   "execution_count": 11,
   "metadata": {},
   "outputs": [
    {
     "data": {
      "text/plain": [
       "'Â£51.77'"
      ]
     },
     "execution_count": 11,
     "metadata": {},
     "output_type": "execute_result"
    }
   ],
   "source": [
    "# the book price\n",
    "price = soup.find('p', class_='price_color').get_text()\n",
    "price"
   ]
  },
  {
   "cell_type": "code",
   "execution_count": 12,
   "metadata": {},
   "outputs": [
    {
     "data": {
      "text/plain": [
       "'In stock'"
      ]
     },
     "execution_count": 12,
     "metadata": {},
     "output_type": "execute_result"
    }
   ],
   "source": [
    "# availability\n",
    "availability = soup.find('p', class_='instock availability').get_text(strip=True)\n",
    "availability"
   ]
  },
  {
   "cell_type": "code",
   "execution_count": 13,
   "metadata": {},
   "outputs": [
    {
     "data": {
      "text/plain": [
       "'Three'"
      ]
     },
     "execution_count": 13,
     "metadata": {},
     "output_type": "execute_result"
    }
   ],
   "source": [
    "# rating information\n",
    "rating_inf = soup.find('p', class_='star-rating')\n",
    "rating = rating_inf['class'][1] if rating_inf else \"No rating\"\n",
    "rating"
   ]
  },
  {
   "cell_type": "code",
   "execution_count": 14,
   "metadata": {},
   "outputs": [
    {
     "data": {
      "text/plain": [
       "''"
      ]
     },
     "execution_count": 14,
     "metadata": {},
     "output_type": "execute_result"
    }
   ],
   "source": [
    "# description\n",
    "description_element = soup.find('meta', {'name': 'description'})\n",
    "description = description_element['content'].strip() if description_element else \"No description available.\"\n",
    "description"
   ]
  },
  {
   "cell_type": "code",
   "execution_count": 15,
   "metadata": {},
   "outputs": [
    {
     "data": {
      "text/plain": [
       "'No UPC available'"
      ]
     },
     "execution_count": 15,
     "metadata": {},
     "output_type": "execute_result"
    }
   ],
   "source": [
    "# UPC universal product code\n",
    "upc_cat = soup.find('th', string='UPC')\n",
    "upc = upc_cat.find_next_sibling('td').get_text()if upc_cat else \"No UPC available\"\n",
    "upc\n"
   ]
  },
  {
   "cell_type": "code",
   "execution_count": null,
   "metadata": {},
   "outputs": [],
   "source": []
  },
  {
   "cell_type": "markdown",
   "metadata": {
    "id": "GvSqhX4UDxbb"
   },
   "source": [
    "# Collect and store all the information from the books in a Pandas DataFrame\n",
    "\n",
    "Start with the following dictionary:\n",
    "\n",
    "```python\n",
    "books_dict = {\"Title\": [], \"Price\": [], \"Availability\": [], \"Rating\": [], \"Description\": [], \"UPC\": [], \"Category\": [] }\n",
    "```\n",
    "\n",
    "Then, iterate over all the categories and all the books in a given category to collect any book information using the previous function. Fill the previous dictionary with the information about each book.\n",
    "\n",
    "Show the first five rows of the previous final Pandas DataFrame.\n",
    "\n",
    "Tip: You can use the function `tqdm` from the library `tqdm` to show a progress bar if in iterable of a for loop as shown below :wink: :\n",
    "\n",
    "```python\n",
    "from tqdm import tqdm\n",
    "\n",
    "for elem in tqdm(iterable):\n",
    "    # some code\n",
    "```\n",
    "\n",
    "\n",
    "\n"
   ]
  },
  {
   "cell_type": "code",
   "execution_count": 16,
   "metadata": {
    "colab": {
     "base_uri": "https://localhost:8080/",
     "height": 1000
    },
    "id": "apeImoCxStA5",
    "outputId": "20d2d37c-5cbe-4062-e407-80f77955a8d3"
   },
   "outputs": [],
   "source": [
    "from tqdm import tqdm\n",
    "\n",
    "# Your code here"
   ]
  },
  {
   "cell_type": "code",
   "execution_count": 17,
   "metadata": {},
   "outputs": [],
   "source": [
    "import requests\n",
    "from bs4 import BeautifulSoup\n",
    "from urllib.parse import urljoin\n",
    "import pandas as pd\n",
    "from tqdm import tqdm"
   ]
  },
  {
   "cell_type": "code",
   "execution_count": 18,
   "metadata": {},
   "outputs": [],
   "source": [
    "base_url = \"http://books.toscrape.com/\""
   ]
  },
  {
   "cell_type": "code",
   "execution_count": 19,
   "metadata": {},
   "outputs": [],
   "source": [
    "def get_category_urls():\n",
    "    response = requests.get(base_url)\n",
    "    soup = BeautifulSoup(response.content, 'html.parser')\n",
    "    categories = soup.find('ul', class_='nav-list').find('ul').find_all('a')\n",
    "    category_urls = {category.get_text(strip=True): urljoin(base_url, category['href']) for category in categories}\n",
    "    return category_urls"
   ]
  },
  {
   "cell_type": "code",
   "execution_count": 20,
   "metadata": {},
   "outputs": [],
   "source": [
    "def get_book_urls(category_url):\n",
    "    book_urls = []\n",
    "    while category_url:\n",
    "        response = requests.get(category_url)\n",
    "        soup = BeautifulSoup(response.content, 'html.parser')\n",
    "        books = soup.find_all('h3')\n",
    "        book_urls += [urljoin(base_url, book.find('a')['href']) for book in books]"
   ]
  },
  {
   "cell_type": "code",
   "execution_count": 21,
   "metadata": {},
   "outputs": [],
   "source": [
    " # Find the next page URL if it exists\n",
    "next_page = soup.find('li', class_='next')\n",
    "category_url = urljoin(base_url, next_page.find('a')['href']) if next_page else None"
   ]
  },
  {
   "cell_type": "code",
   "execution_count": 22,
   "metadata": {},
   "outputs": [],
   "source": [
    "# Function to extract book details\n",
    "def extract_book_details(book_url):\n",
    "    response = requests.get(book_url)\n",
    "    soup = BeautifulSoup(response.content, 'html.parser')"
   ]
  },
  {
   "cell_type": "code",
   "execution_count": 23,
   "metadata": {},
   "outputs": [],
   "source": [
    "# Extract details\n",
    "title = soup.find('h1').get_text()\n",
    "price = soup.find('p', class_='price_color').get_text()\n",
    "availability = soup.find('p', class_='instock availability').get_text(strip=True)\n",
    "rating_element = soup.find('p', class_='star-rating')\n",
    "rating = rating_element['class'][1] if rating_element else \"No rating\"\n",
    "description_element = soup.find('meta', {'name': 'description'})\n",
    "description = description_element['content'].strip() if description_element else \"No description available.\"\n",
    "upc_element = soup.find('th', string='UPC')\n",
    "upc = upc_element.find_next_sibling('td').get_text() if upc_element else \"No UPC available.\"\n"
   ]
  },
  {
   "cell_type": "code",
   "execution_count": null,
   "metadata": {},
   "outputs": [],
   "source": []
  },
  {
   "cell_type": "code",
   "execution_count": null,
   "metadata": {},
   "outputs": [],
   "source": []
  }
 ],
 "metadata": {
  "colab": {
   "provenance": []
  },
  "kernelspec": {
   "display_name": "Python 3 (ipykernel)",
   "language": "python",
   "name": "python3"
  },
  "language_info": {
   "codemirror_mode": {
    "name": "ipython",
    "version": 3
   },
   "file_extension": ".py",
   "mimetype": "text/x-python",
   "name": "python",
   "nbconvert_exporter": "python",
   "pygments_lexer": "ipython3",
   "version": "3.12.4"
  }
 },
 "nbformat": 4,
 "nbformat_minor": 4
}
