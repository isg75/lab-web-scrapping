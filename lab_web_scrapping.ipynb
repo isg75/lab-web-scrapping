{
 "cells": [
  {
   "cell_type": "markdown",
   "metadata": {
    "id": "Rq7Fx0T_DPsE"
   },
   "source": [
    "# Web Scrapping lab"
   ]
  },
  {
   "cell_type": "markdown",
   "metadata": {
    "id": "K3n7CJfCD2pK"
   },
   "source": [
    "In this lab you will scrappe this [website](https://books.toscrape.com/) of books.\n",
    "\n",
    "You have to create a Pandas DataFrame with all the books listed in the page. Each row of the DataFrame should contain information of each book. In particular, the DataFrmae must contain:\n",
    "\n",
    "* category\n",
    "* title\n",
    "* price\n",
    "* stock availability\n",
    "* star rating (number of stars)\n",
    "* description\n",
    "* UPC\n",
    "\n",
    "Happy scrapping!\n",
    "\n"
   ]
  },
  {
   "cell_type": "markdown",
   "metadata": {
    "id": "IaqLnJRLBqMS"
   },
   "source": [
    "# Server verification"
   ]
  },
  {
   "cell_type": "markdown",
   "metadata": {
    "id": "QNXuRli_BvJp"
   },
   "source": [
    "Load the needed libraries, and make sure thar you can obtain the correct status code."
   ]
  },
  {
   "cell_type": "code",
   "execution_count": 346,
   "metadata": {
    "colab": {
     "base_uri": "https://localhost:8080/"
    },
    "id": "szKOZm99Frlf",
    "outputId": "184b2f54-7eaa-4d31-b66f-f3f8311e80e6"
   },
   "outputs": [
    {
     "name": "stdout",
     "output_type": "stream",
     "text": [
      "All good!\n"
     ]
    }
   ],
   "source": [
    "import requests\n",
    "from bs4 import BeautifulSoup\n",
    "\n",
    "url = \"https://books.toscrape.com/\"\n",
    "response = requests.get(url)\n",
    "\n",
    "if response.status_code == 200:\n",
    "        print(\"All good!\")"
   ]
  },
  {
   "cell_type": "markdown",
   "metadata": {
    "id": "SSrTPTKnCD-N"
   },
   "source": [
    "# Book categories"
   ]
  },
  {
   "cell_type": "markdown",
   "metadata": {
    "id": "Yu5FjaMECISF"
   },
   "source": [
    "Create the code to collect the **relative urls** from the left panel to obtain a list with all the book categories."
   ]
  },
  {
   "cell_type": "code",
   "execution_count": 347,
   "metadata": {},
   "outputs": [
    {
     "data": {
      "text/plain": [
       "['catalogue/category/books/travel_2/index.html',\n",
       " 'catalogue/category/books/mystery_3/index.html',\n",
       " 'catalogue/category/books/historical-fiction_4/index.html',\n",
       " 'catalogue/category/books/sequential-art_5/index.html',\n",
       " 'catalogue/category/books/classics_6/index.html',\n",
       " 'catalogue/category/books/philosophy_7/index.html',\n",
       " 'catalogue/category/books/romance_8/index.html',\n",
       " 'catalogue/category/books/womens-fiction_9/index.html',\n",
       " 'catalogue/category/books/fiction_10/index.html',\n",
       " 'catalogue/category/books/childrens_11/index.html',\n",
       " 'catalogue/category/books/religion_12/index.html',\n",
       " 'catalogue/category/books/nonfiction_13/index.html',\n",
       " 'catalogue/category/books/music_14/index.html',\n",
       " 'catalogue/category/books/default_15/index.html',\n",
       " 'catalogue/category/books/science-fiction_16/index.html',\n",
       " 'catalogue/category/books/sports-and-games_17/index.html',\n",
       " 'catalogue/category/books/add-a-comment_18/index.html',\n",
       " 'catalogue/category/books/fantasy_19/index.html',\n",
       " 'catalogue/category/books/new-adult_20/index.html',\n",
       " 'catalogue/category/books/young-adult_21/index.html',\n",
       " 'catalogue/category/books/science_22/index.html',\n",
       " 'catalogue/category/books/poetry_23/index.html',\n",
       " 'catalogue/category/books/paranormal_24/index.html',\n",
       " 'catalogue/category/books/art_25/index.html',\n",
       " 'catalogue/category/books/psychology_26/index.html',\n",
       " 'catalogue/category/books/autobiography_27/index.html',\n",
       " 'catalogue/category/books/parenting_28/index.html',\n",
       " 'catalogue/category/books/adult-fiction_29/index.html',\n",
       " 'catalogue/category/books/humor_30/index.html',\n",
       " 'catalogue/category/books/horror_31/index.html',\n",
       " 'catalogue/category/books/history_32/index.html',\n",
       " 'catalogue/category/books/food-and-drink_33/index.html',\n",
       " 'catalogue/category/books/christian-fiction_34/index.html',\n",
       " 'catalogue/category/books/business_35/index.html',\n",
       " 'catalogue/category/books/biography_36/index.html',\n",
       " 'catalogue/category/books/thriller_37/index.html',\n",
       " 'catalogue/category/books/contemporary_38/index.html',\n",
       " 'catalogue/category/books/spirituality_39/index.html',\n",
       " 'catalogue/category/books/academic_40/index.html',\n",
       " 'catalogue/category/books/self-help_41/index.html',\n",
       " 'catalogue/category/books/historical_42/index.html',\n",
       " 'catalogue/category/books/christian_43/index.html',\n",
       " 'catalogue/category/books/suspense_44/index.html',\n",
       " 'catalogue/category/books/short-stories_45/index.html',\n",
       " 'catalogue/category/books/novels_46/index.html',\n",
       " 'catalogue/category/books/health_47/index.html',\n",
       " 'catalogue/category/books/politics_48/index.html',\n",
       " 'catalogue/category/books/cultural_49/index.html',\n",
       " 'catalogue/category/books/erotica_50/index.html',\n",
       " 'catalogue/category/books/crime_51/index.html']"
      ]
     },
     "execution_count": 347,
     "metadata": {},
     "output_type": "execute_result"
    }
   ],
   "source": [
    "soup = BeautifulSoup(response.content, \"html.parser\")\n",
    "\n",
    "categories = []\n",
    "\n",
    "for url in soup.find(class_='nav nav-list').find('li').find_all('a'):\n",
    "    category = url.get('href')\n",
    "    categories.append(category)\n",
    "categories.remove('catalogue/category/books_1/index.html')\n",
    "categories"
   ]
  },
  {
   "cell_type": "markdown",
   "metadata": {
    "id": "tAq9izU8Cpyx"
   },
   "source": [
    "# Books in a given category\n",
    "\n",
    "Use. web scrapping and list comprehension to obtain the **absolute** url of each book to be scraped"
   ]
  },
  {
   "cell_type": "code",
   "execution_count": 348,
   "metadata": {
    "id": "gC6uP76bHwNv"
   },
   "outputs": [
    {
     "data": {
      "text/plain": [
       "['https://books.toscrape.com/catalogue/category/books/travel_2/index.html',\n",
       " 'https://books.toscrape.com/catalogue/category/books/mystery_3/index.html',\n",
       " 'https://books.toscrape.com/catalogue/category/books/historical-fiction_4/index.html',\n",
       " 'https://books.toscrape.com/catalogue/category/books/sequential-art_5/index.html',\n",
       " 'https://books.toscrape.com/catalogue/category/books/classics_6/index.html',\n",
       " 'https://books.toscrape.com/catalogue/category/books/philosophy_7/index.html',\n",
       " 'https://books.toscrape.com/catalogue/category/books/romance_8/index.html',\n",
       " 'https://books.toscrape.com/catalogue/category/books/womens-fiction_9/index.html',\n",
       " 'https://books.toscrape.com/catalogue/category/books/fiction_10/index.html',\n",
       " 'https://books.toscrape.com/catalogue/category/books/childrens_11/index.html',\n",
       " 'https://books.toscrape.com/catalogue/category/books/religion_12/index.html',\n",
       " 'https://books.toscrape.com/catalogue/category/books/nonfiction_13/index.html',\n",
       " 'https://books.toscrape.com/catalogue/category/books/music_14/index.html',\n",
       " 'https://books.toscrape.com/catalogue/category/books/default_15/index.html',\n",
       " 'https://books.toscrape.com/catalogue/category/books/science-fiction_16/index.html',\n",
       " 'https://books.toscrape.com/catalogue/category/books/sports-and-games_17/index.html',\n",
       " 'https://books.toscrape.com/catalogue/category/books/add-a-comment_18/index.html',\n",
       " 'https://books.toscrape.com/catalogue/category/books/fantasy_19/index.html',\n",
       " 'https://books.toscrape.com/catalogue/category/books/new-adult_20/index.html',\n",
       " 'https://books.toscrape.com/catalogue/category/books/young-adult_21/index.html',\n",
       " 'https://books.toscrape.com/catalogue/category/books/science_22/index.html',\n",
       " 'https://books.toscrape.com/catalogue/category/books/poetry_23/index.html',\n",
       " 'https://books.toscrape.com/catalogue/category/books/paranormal_24/index.html',\n",
       " 'https://books.toscrape.com/catalogue/category/books/art_25/index.html',\n",
       " 'https://books.toscrape.com/catalogue/category/books/psychology_26/index.html',\n",
       " 'https://books.toscrape.com/catalogue/category/books/autobiography_27/index.html',\n",
       " 'https://books.toscrape.com/catalogue/category/books/parenting_28/index.html',\n",
       " 'https://books.toscrape.com/catalogue/category/books/adult-fiction_29/index.html',\n",
       " 'https://books.toscrape.com/catalogue/category/books/humor_30/index.html',\n",
       " 'https://books.toscrape.com/catalogue/category/books/horror_31/index.html',\n",
       " 'https://books.toscrape.com/catalogue/category/books/history_32/index.html',\n",
       " 'https://books.toscrape.com/catalogue/category/books/food-and-drink_33/index.html',\n",
       " 'https://books.toscrape.com/catalogue/category/books/christian-fiction_34/index.html',\n",
       " 'https://books.toscrape.com/catalogue/category/books/business_35/index.html',\n",
       " 'https://books.toscrape.com/catalogue/category/books/biography_36/index.html',\n",
       " 'https://books.toscrape.com/catalogue/category/books/thriller_37/index.html',\n",
       " 'https://books.toscrape.com/catalogue/category/books/contemporary_38/index.html',\n",
       " 'https://books.toscrape.com/catalogue/category/books/spirituality_39/index.html',\n",
       " 'https://books.toscrape.com/catalogue/category/books/academic_40/index.html',\n",
       " 'https://books.toscrape.com/catalogue/category/books/self-help_41/index.html',\n",
       " 'https://books.toscrape.com/catalogue/category/books/historical_42/index.html',\n",
       " 'https://books.toscrape.com/catalogue/category/books/christian_43/index.html',\n",
       " 'https://books.toscrape.com/catalogue/category/books/suspense_44/index.html',\n",
       " 'https://books.toscrape.com/catalogue/category/books/short-stories_45/index.html',\n",
       " 'https://books.toscrape.com/catalogue/category/books/novels_46/index.html',\n",
       " 'https://books.toscrape.com/catalogue/category/books/health_47/index.html',\n",
       " 'https://books.toscrape.com/catalogue/category/books/politics_48/index.html',\n",
       " 'https://books.toscrape.com/catalogue/category/books/cultural_49/index.html',\n",
       " 'https://books.toscrape.com/catalogue/category/books/erotica_50/index.html',\n",
       " 'https://books.toscrape.com/catalogue/category/books/crime_51/index.html']"
      ]
     },
     "execution_count": 348,
     "metadata": {},
     "output_type": "execute_result"
    }
   ],
   "source": [
    "absolute_url = []\n",
    "\n",
    "for url in categories:\n",
    "    absolute = \"https://books.toscrape.com/\" + url\n",
    "    absolute_url.append(absolute)\n",
    "absolute_url"
   ]
  },
  {
   "cell_type": "markdown",
   "metadata": {
    "id": "wLIh0a_LDJMo"
   },
   "source": [
    "# Book details\n",
    "\n",
    "Create a Python function that given a book_url as an input returns a dictionary with the following structure:\n",
    "\n",
    "```Python\n",
    "{\"Title\": title, \"Price\": price, \"Availability\": availability, \"Rating\": rating, \"Description\": description, \"UPC\": upc}\n",
    "```\n",
    "\n",
    "where `description` should contain the book's summary given in the Product description, and the values are the book's associated information."
   ]
  },
  {
   "cell_type": "code",
   "execution_count": 349,
   "metadata": {
    "id": "5-uC7hz1LxCd"
   },
   "outputs": [],
   "source": [
    "import pandas as pd\n",
    "\n",
    "def book_dictionary(url): \n",
    "    response = requests.get(url)\n",
    "    soup = BeautifulSoup(response.content, \"html.parser\")\n",
    "    \n",
    "    title = []\n",
    "    price = []\n",
    "    availability = []\n",
    "    rating = []\n",
    "    description = []\n",
    "    upc = []\n",
    "    \n",
    "    for component in components:\n",
    "        # Extract title name\n",
    "        title_name = soup.find('h1').text\n",
    "        title.append(title_name)\n",
    "    \n",
    "        #Extract price name\n",
    "        book_price = soup.find(class_=\"price_color\").text.strip()\n",
    "        price.append(book_price)\n",
    "    \n",
    "        #Extract availability\n",
    "        available = soup.find(class_=\"instock availability\").text.strip()\n",
    "        availability.append(available)\n",
    "\n",
    "        #Extract rating\n",
    "        rating_tag = soup.find('p', class_='star-rating')\n",
    "        rate = rating_tag['class'][1] if rating_tag else None\n",
    "        rating.append(rate)\n",
    "\n",
    "        #Extract description\n",
    "        product = soup.find(class_=\"product_page\")\n",
    "        desc = product.select('p')[3]\n",
    "        description.append(desc)\n",
    "\n",
    "        #Extract upc\n",
    "        code = soup.find(class_='table table-striped').find('td').text\n",
    "        upc.append(code)\n",
    "        \n",
    "    books = {\"Title\": title, \"Price\": price, \"Availability\": availability, \"Rating\": rating, \"Description\": description, \"UPC\": upc}\n",
    "\n",
    "    return books"
   ]
  },
  {
   "cell_type": "code",
   "execution_count": 298,
   "metadata": {},
   "outputs": [
    {
     "data": {
      "text/plain": [
       "{'Title': ['Tipping the Velvet'],\n",
       " 'Price': ['£53.74'],\n",
       " 'Availability': ['In stock (20 available)'],\n",
       " 'Rating': ['One'],\n",
       " 'Description': [<p>\"Erotic and absorbing...Written with starling power.\"--\"The New York Times Book Review \" Nan King, an oyster girl, is captivated by the music hall phenomenon Kitty Butler, a male impersonator extraordinaire treading the boards in Canterbury. Through a friend at the box office, Nan manages to visit all her shows and finally meet her heroine. Soon after, she becomes Kitty's \"Erotic and absorbing...Written with starling power.\"--\"The New York Times Book Review \" Nan King, an oyster girl, is captivated by the music hall phenomenon Kitty Butler, a male impersonator extraordinaire treading the boards in Canterbury. Through a friend at the box office, Nan manages to visit all her shows and finally meet her heroine. Soon after, she becomes Kitty's dresser and the two head for the bright lights of Leicester Square where they begin a glittering career as music-hall stars in an all-singing and dancing double act. At the same time, behind closed doors, they admit their attraction to each other and their affair begins. ...more</p>],\n",
       " 'UPC': ['90fa61229261140a']}"
      ]
     },
     "execution_count": 298,
     "metadata": {},
     "output_type": "execute_result"
    }
   ],
   "source": [
    "# Check the function\n",
    "\n",
    "book_url = \"https://books.toscrape.com/catalogue/tipping-the-velvet_999/index.html\"\n",
    "book_dictionary(book_url)"
   ]
  },
  {
   "cell_type": "markdown",
   "metadata": {
    "id": "GvSqhX4UDxbb"
   },
   "source": [
    "# Collect and store all the information from the books in a Pandas DataFrame\n",
    "\n",
    "Start with the following dictionary:\n",
    "\n",
    "```python\n",
    "books_dict = {\"Title\": [], \"Price\": [], \"Availability\": [], \"Rating\": [], \"Description\": [], \"UPC\": [], \"Category\": [] }\n",
    "```\n",
    "\n",
    "Then, iterate over all the categories and all the books in a given category to collect any book information using the previous function. Fill the previous dictionary with the information about each book.\n",
    "\n",
    "Show the first five rows of the previous final Pandas DataFrame.\n",
    "\n",
    "Tip: You can use the function `tqdm` from the library `tqdm` to show a progress bar if in iterable of a for loop as shown below :wink: :\n",
    "\n",
    "```python\n",
    "from tqdm import tqdm\n",
    "\n",
    "for elem in tqdm(iterable):\n",
    "    # some code\n",
    "```\n",
    "\n",
    "\n",
    "\n"
   ]
  },
  {
   "cell_type": "code",
   "execution_count": 289,
   "metadata": {},
   "outputs": [],
   "source": [
    "url = \"https://books.toscrape.com/catalogue/category/books/index.html\"\n",
    "    \n",
    "response = requests.get(url)\n",
    "soup = BeautifulSoup(response.content, \"html.parser\")"
   ]
  },
  {
   "cell_type": "code",
   "execution_count": 351,
   "metadata": {},
   "outputs": [
    {
     "name": "stdout",
     "output_type": "stream",
     "text": [
      "Travel\n",
      "Mystery\n",
      "Historical Fiction\n",
      "Sequential Art\n",
      "Classics\n",
      "Philosophy\n",
      "Romance\n",
      "Womens Fiction\n",
      "Fiction\n",
      "Childrens\n",
      "Religion\n",
      "Nonfiction\n",
      "Music\n",
      "Default\n",
      "Science Fiction\n",
      "Sports and Games\n",
      "Add a comment\n",
      "Fantasy\n",
      "New Adult\n",
      "Young Adult\n",
      "Science\n",
      "Poetry\n",
      "Paranormal\n",
      "Art\n",
      "Psychology\n",
      "Autobiography\n",
      "Parenting\n",
      "Adult Fiction\n",
      "Humor\n",
      "Horror\n",
      "History\n",
      "Food and Drink\n",
      "Christian Fiction\n",
      "Business\n",
      "Biography\n",
      "Thriller\n",
      "Contemporary\n",
      "Spirituality\n",
      "Academic\n",
      "Self Help\n",
      "Historical\n",
      "Christian\n",
      "Suspense\n",
      "Short Stories\n",
      "Novels\n",
      "Health\n",
      "Politics\n",
      "Cultural\n",
      "Erotica\n",
      "Crime\n"
     ]
    }
   ],
   "source": [
    "books_dict = {\"Title\": [], \"Price\": [], \"Availability\": [], \"Rating\": [], \"Description\": [], \"UPC\": [], \"Category\": [] }\n",
    "\n",
    "book_url = []\n",
    "category = []\n",
    "\n",
    "#absolute_url = \"https://books.toscrape.com/catalogue/category/books/travel_2/index.html\"\n",
    "# Collecting book urls from absolute_url categories\n",
    "for categories in absolute_url:\n",
    "    response = requests.get(categories)\n",
    "    soup = BeautifulSoup(response.content, \"html.parser\")\n",
    "    url = soup.find_all(class_=\"product_pod\")\n",
    "    category = soup.find('h1').text\n",
    "    print(category)\n",
    "    #book_url = \"https://books.toscrape.com/catalogue/\" + soup.find(class_=\"product_pod\").find('a')['href'][9:]\n",
    "    for i in url:\n",
    "        book = i.find('a')['href'][9:]\n",
    "        book_url = \"https://books.toscrape.com/catalogue/\" + book\n",
    "        book_dict = book_dictionary(book_url)\n",
    "        book_dict['Category'] = category\n",
    "        for key in books_dict:\n",
    "            books_dict[key] += book_dict[key]"
   ]
  }
 ],
 "metadata": {
  "colab": {
   "provenance": []
  },
  "kernelspec": {
   "display_name": "Python 3",
   "language": "python",
   "name": "python3"
  },
  "language_info": {
   "codemirror_mode": {
    "name": "ipython",
    "version": 3
   },
   "file_extension": ".py",
   "mimetype": "text/x-python",
   "name": "python",
   "nbconvert_exporter": "python",
   "pygments_lexer": "ipython3",
   "version": "3.7.4"
  }
 },
 "nbformat": 4,
 "nbformat_minor": 4
}
