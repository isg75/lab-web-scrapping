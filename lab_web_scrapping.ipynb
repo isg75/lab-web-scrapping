{
 "cells": [
  {
   "cell_type": "markdown",
   "metadata": {
    "id": "Rq7Fx0T_DPsE"
   },
   "source": [
    "# Web Scrapping lab"
   ]
  },
  {
   "cell_type": "markdown",
   "metadata": {
    "id": "K3n7CJfCD2pK"
   },
   "source": [
    "In this lab you will scrappe this [website](https://books.toscrape.com/) of books.\n",
    "\n",
    "You have to create a Pandas DataFrame with all the books listed in the page. Each row of the DataFrame should contain information of each book. In particular, the DataFrmae must contain:\n",
    "\n",
    "* category\n",
    "* title\n",
    "* price\n",
    "* stock availability\n",
    "* star rating (number of stars)\n",
    "* description\n",
    "* UPC\n",
    "\n",
    "Happy scrapping!\n",
    "\n"
   ]
  },
  {
   "cell_type": "markdown",
   "metadata": {
    "id": "IaqLnJRLBqMS"
   },
   "source": [
    "# Server verification"
   ]
  },
  {
   "cell_type": "markdown",
   "metadata": {
    "id": "QNXuRli_BvJp"
   },
   "source": [
    "Load the needed libraries, and make sure thar you can obtain the correct status code."
   ]
  },
  {
   "cell_type": "code",
   "execution_count": 5,
   "metadata": {
    "colab": {
     "base_uri": "https://localhost:8080/"
    },
    "id": "szKOZm99Frlf",
    "outputId": "184b2f54-7eaa-4d31-b66f-f3f8311e80e6"
   },
   "outputs": [
    {
     "data": {
      "text/plain": [
       "<Response [200]>"
      ]
     },
     "execution_count": 5,
     "metadata": {},
     "output_type": "execute_result"
    }
   ],
   "source": [
    "# Your code here\n",
    "import requests\n",
    "from bs4 import BeautifulSoup\n",
    "import pandas as pd\n",
    "from tqdm import tqdm\n",
    "\n",
    "url = \"https://books.toscrape.com/\"\n",
    "response = requests.get(url)\n",
    "response"
   ]
  },
  {
   "cell_type": "markdown",
   "metadata": {
    "id": "SSrTPTKnCD-N"
   },
   "source": [
    "# Book categories"
   ]
  },
  {
   "cell_type": "markdown",
   "metadata": {
    "id": "Yu5FjaMECISF"
   },
   "source": [
    "Create the code to collect the **relative urls** from the left panel to obtain a list with all the book categories."
   ]
  },
  {
   "cell_type": "code",
   "execution_count": 9,
   "metadata": {
    "colab": {
     "base_uri": "https://localhost:8080/"
    },
    "id": "Y12krHNrGPsu",
    "outputId": "8e1a4907-1b82-4f2d-f8a9-c7c10b6e6bed"
   },
   "outputs": [],
   "source": [
    "# Your code here"
   ]
  },
  {
   "cell_type": "code",
   "execution_count": 11,
   "metadata": {
    "colab": {
     "base_uri": "https://localhost:8080/"
    },
    "executionInfo": {
     "elapsed": 327,
     "status": "ok",
     "timestamp": 1707214324574,
     "user": {
      "displayName": "Ignacio Soteras",
      "userId": "02050793736257155229"
     },
     "user_tz": -60
    },
    "id": "264fd211-fe05-4064-8c25-8962ad2efb8f",
    "outputId": "097e0acd-1166-4956-8e8e-ea86945d3775",
    "scrolled": true,
    "tags": []
   },
   "outputs": [],
   "source": [
    "soup = BeautifulSoup(response.content, \"html.parser\")"
   ]
  },
  {
   "cell_type": "code",
   "execution_count": 13,
   "metadata": {},
   "outputs": [
    {
     "data": {
      "text/plain": [
       "bs4.BeautifulSoup"
      ]
     },
     "execution_count": 13,
     "metadata": {},
     "output_type": "execute_result"
    }
   ],
   "source": [
    "type(soup)"
   ]
  },
  {
   "cell_type": "code",
   "execution_count": 15,
   "metadata": {
    "scrolled": true
   },
   "outputs": [
    {
     "name": "stdout",
     "output_type": "stream",
     "text": [
      "https://books.toscrape.com/catalogue/category/books/travel_2/index.html\n",
      "https://books.toscrape.com/catalogue/category/books/mystery_3/index.html\n",
      "https://books.toscrape.com/catalogue/category/books/historical-fiction_4/index.html\n",
      "https://books.toscrape.com/catalogue/category/books/sequential-art_5/index.html\n",
      "https://books.toscrape.com/catalogue/category/books/classics_6/index.html\n",
      "https://books.toscrape.com/catalogue/category/books/philosophy_7/index.html\n",
      "https://books.toscrape.com/catalogue/category/books/romance_8/index.html\n",
      "https://books.toscrape.com/catalogue/category/books/womens-fiction_9/index.html\n",
      "https://books.toscrape.com/catalogue/category/books/fiction_10/index.html\n",
      "https://books.toscrape.com/catalogue/category/books/childrens_11/index.html\n",
      "https://books.toscrape.com/catalogue/category/books/religion_12/index.html\n",
      "https://books.toscrape.com/catalogue/category/books/nonfiction_13/index.html\n",
      "https://books.toscrape.com/catalogue/category/books/music_14/index.html\n",
      "https://books.toscrape.com/catalogue/category/books/default_15/index.html\n",
      "https://books.toscrape.com/catalogue/category/books/science-fiction_16/index.html\n",
      "https://books.toscrape.com/catalogue/category/books/sports-and-games_17/index.html\n",
      "https://books.toscrape.com/catalogue/category/books/add-a-comment_18/index.html\n",
      "https://books.toscrape.com/catalogue/category/books/fantasy_19/index.html\n",
      "https://books.toscrape.com/catalogue/category/books/new-adult_20/index.html\n",
      "https://books.toscrape.com/catalogue/category/books/young-adult_21/index.html\n",
      "https://books.toscrape.com/catalogue/category/books/science_22/index.html\n",
      "https://books.toscrape.com/catalogue/category/books/poetry_23/index.html\n",
      "https://books.toscrape.com/catalogue/category/books/paranormal_24/index.html\n",
      "https://books.toscrape.com/catalogue/category/books/art_25/index.html\n",
      "https://books.toscrape.com/catalogue/category/books/psychology_26/index.html\n",
      "https://books.toscrape.com/catalogue/category/books/autobiography_27/index.html\n",
      "https://books.toscrape.com/catalogue/category/books/parenting_28/index.html\n",
      "https://books.toscrape.com/catalogue/category/books/adult-fiction_29/index.html\n",
      "https://books.toscrape.com/catalogue/category/books/humor_30/index.html\n",
      "https://books.toscrape.com/catalogue/category/books/horror_31/index.html\n",
      "https://books.toscrape.com/catalogue/category/books/history_32/index.html\n",
      "https://books.toscrape.com/catalogue/category/books/food-and-drink_33/index.html\n",
      "https://books.toscrape.com/catalogue/category/books/christian-fiction_34/index.html\n",
      "https://books.toscrape.com/catalogue/category/books/business_35/index.html\n",
      "https://books.toscrape.com/catalogue/category/books/biography_36/index.html\n",
      "https://books.toscrape.com/catalogue/category/books/thriller_37/index.html\n",
      "https://books.toscrape.com/catalogue/category/books/contemporary_38/index.html\n",
      "https://books.toscrape.com/catalogue/category/books/spirituality_39/index.html\n",
      "https://books.toscrape.com/catalogue/category/books/academic_40/index.html\n",
      "https://books.toscrape.com/catalogue/category/books/self-help_41/index.html\n",
      "https://books.toscrape.com/catalogue/category/books/historical_42/index.html\n",
      "https://books.toscrape.com/catalogue/category/books/christian_43/index.html\n",
      "https://books.toscrape.com/catalogue/category/books/suspense_44/index.html\n",
      "https://books.toscrape.com/catalogue/category/books/short-stories_45/index.html\n",
      "https://books.toscrape.com/catalogue/category/books/novels_46/index.html\n",
      "https://books.toscrape.com/catalogue/category/books/health_47/index.html\n",
      "https://books.toscrape.com/catalogue/category/books/politics_48/index.html\n",
      "https://books.toscrape.com/catalogue/category/books/cultural_49/index.html\n",
      "https://books.toscrape.com/catalogue/category/books/erotica_50/index.html\n",
      "https://books.toscrape.com/catalogue/category/books/crime_51/index.html\n"
     ]
    }
   ],
   "source": [
    "categories = soup.find(\"ul\", class_=\"nav nav-list\").find(\"ul\").find_all(\"a\")\n",
    "category_urls = [\"https://books.toscrape.com/\" + category[\"href\"] for category in categories]\n",
    "\n",
    "# Example output\n",
    "for category in category_urls:\n",
    "    print(category)"
   ]
  },
  {
   "cell_type": "markdown",
   "metadata": {
    "id": "tAq9izU8Cpyx"
   },
   "source": [
    "# Books in a given category\n",
    "\n",
    "Use. web scrapping and list comprehension to obtain the **absolute** url of each book to be scraped"
   ]
  },
  {
   "cell_type": "code",
   "execution_count": 18,
   "metadata": {
    "id": "gC6uP76bHwNv"
   },
   "outputs": [],
   "source": [
    "# Your code here"
   ]
  },
  {
   "cell_type": "code",
   "execution_count": 44,
   "metadata": {
    "id": "gC6uP76bHwNv"
   },
   "outputs": [
    {
     "name": "stdout",
     "output_type": "stream",
     "text": [
      "['https://books.toscrape.com/catalogue/its-only-the-himalayas_981/index.html', 'https://books.toscrape.com/catalogue/full-moon-over-noahs-ark-an-odyssey-to-mount-ararat-and-beyond_811/index.html', 'https://books.toscrape.com/catalogue/see-america-a-celebration-of-our-national-parks-treasured-sites_732/index.html', 'https://books.toscrape.com/catalogue/vagabonding-an-uncommon-guide-to-the-art-of-long-term-world-travel_552/index.html', 'https://books.toscrape.com/catalogue/under-the-tuscan-sun_504/index.html']\n"
     ]
    }
   ],
   "source": [
    "def get_book_urls(category_url):\n",
    "    book_urls = []\n",
    "    \n",
    "    while True:\n",
    "        response = requests.get(category_url)\n",
    "        soup = BeautifulSoup(response.content, \"html.parser\")\n",
    "        \n",
    "        books = soup.find_all(\"h3\")\n",
    "        for book in books:\n",
    "            book_url = book.find(\"a\")[\"href\"]\n",
    "            book_urls.append(\"https://books.toscrape.com/catalogue/\" + book_url.replace('../../../', ''))\n",
    "        \n",
    "        next_page = soup.find(\"li\", class_=\"next\")\n",
    "        if next_page:\n",
    "            category_url = \"https://books.toscrape.com/catalogue/\" + next_page.find(\"a\")[\"href\"]\n",
    "        else:\n",
    "            break\n",
    "    \n",
    "    return book_urls\n",
    "\n",
    "# Test on a single category\n",
    "book_urls = get_book_urls(category_urls[0])\n",
    "print(book_urls[:5])"
   ]
  },
  {
   "cell_type": "markdown",
   "metadata": {
    "id": "wLIh0a_LDJMo"
   },
   "source": [
    "# Book details\n",
    "\n",
    "Create a Python function that given a book_url as an input returns a dictionary with the following structure:\n",
    "\n",
    "```Python\n",
    "{\"Title\": title, \"Price\": price, \"Availability\": availability, \"Rating\": rating, \"Description\": description, \"UPC\": upc}\n",
    "```\n",
    "\n",
    "where `description` should contain the book's summary given in the Product description, and the values are the book's associated information."
   ]
  },
  {
   "cell_type": "code",
   "execution_count": null,
   "metadata": {
    "id": "5-uC7hz1LxCd"
   },
   "outputs": [],
   "source": [
    "# Your code here"
   ]
  },
  {
   "cell_type": "markdown",
   "metadata": {
    "id": "GvSqhX4UDxbb"
   },
   "source": [
    "# Collect and store all the information from the books in a Pandas DataFrame\n",
    "\n",
    "Start with the following dictionary:\n",
    "\n",
    "```python\n",
    "books_dict = {\"Title\": [], \"Price\": [], \"Availability\": [], \"Rating\": [], \"Description\": [], \"UPC\": [], \"Category\": [] }\n",
    "```\n",
    "\n",
    "Then, iterate over all the categories and all the books in a given category to collect any book information using the previous function. Fill the previous dictionary with the information about each book.\n",
    "\n",
    "Show the first five rows of the previous final Pandas DataFrame.\n",
    "\n",
    "Tip: You can use the function `tqdm` from the library `tqdm` to show a progress bar if in iterable of a for loop as shown below :wink: :\n",
    "\n",
    "```python\n",
    "from tqdm import tqdm\n",
    "\n",
    "for elem in tqdm(iterable):\n",
    "    # some code\n",
    "```\n",
    "\n",
    "\n",
    "\n"
   ]
  },
  {
   "cell_type": "code",
   "execution_count": 83,
   "metadata": {
    "colab": {
     "base_uri": "https://localhost:8080/",
     "height": 1000
    },
    "id": "apeImoCxStA5",
    "outputId": "20d2d37c-5cbe-4062-e407-80f77955a8d3"
   },
   "outputs": [],
   "source": [
    "from tqdm import tqdm"
   ]
  },
  {
   "cell_type": "code",
   "execution_count": 110,
   "metadata": {},
   "outputs": [
    {
     "data": {
      "text/plain": [
       "'Title: 1,000 Places to See Before You Die'"
      ]
     },
     "metadata": {},
     "output_type": "display_data"
    },
    {
     "data": {
      "text/plain": [
       "'Price: Â£26.08'"
      ]
     },
     "metadata": {},
     "output_type": "display_data"
    },
    {
     "data": {
      "text/plain": [
       "'Availability: In stock (1 available)'"
      ]
     },
     "metadata": {},
     "output_type": "display_data"
    },
    {
     "data": {
      "text/plain": [
       "'Rating: Five'"
      ]
     },
     "metadata": {},
     "output_type": "display_data"
    },
    {
     "data": {
      "text/plain": [
       "'Description: Around the'"
      ]
     },
     "metadata": {},
     "output_type": "display_data"
    },
    {
     "data": {
      "text/plain": [
       "'UPC: 228ba5e7577e1d49'"
      ]
     },
     "metadata": {},
     "output_type": "display_data"
    }
   ],
   "source": [
    "# Extract book details\n",
    "title = soup.h1.text\n",
    "price = soup.select_one('p.price_color').text\n",
    "availability = soup.select_one('p.instock.availability').text.strip()\n",
    "rating = soup.select_one('p.star-rating')['class'][1]\n",
    "description = soup.select('meta[name=\"description\"]')[0]['content'].strip()\n",
    "upc = soup.select_one('table.table.table-striped tr:nth-child(1) td').text\n",
    "\n",
    "# Display the extracted details\n",
    "display(f\"Title: {title}\")\n",
    "display(f\"Price: {price}\")\n",
    "display(f\"Availability: {availability}\")\n",
    "display(f\"Rating: {rating}\")\n",
    "display(f\"Description: {description[:10]}\")\n",
    "display(f\"UPC: {upc}\")"
   ]
  },
  {
   "cell_type": "code",
   "execution_count": 118,
   "metadata": {},
   "outputs": [
    {
     "data": {
      "text/html": [
       "<div>\n",
       "<style scoped>\n",
       "    .dataframe tbody tr th:only-of-type {\n",
       "        vertical-align: middle;\n",
       "    }\n",
       "\n",
       "    .dataframe tbody tr th {\n",
       "        vertical-align: top;\n",
       "    }\n",
       "\n",
       "    .dataframe thead th {\n",
       "        text-align: right;\n",
       "    }\n",
       "</style>\n",
       "<table border=\"1\" class=\"dataframe\">\n",
       "  <thead>\n",
       "    <tr style=\"text-align: right;\">\n",
       "      <th></th>\n",
       "      <th>Title</th>\n",
       "      <th>Price</th>\n",
       "      <th>Availability</th>\n",
       "      <th>Rating</th>\n",
       "      <th>Description</th>\n",
       "      <th>UPC</th>\n",
       "    </tr>\n",
       "  </thead>\n",
       "  <tbody>\n",
       "    <tr>\n",
       "      <th>0</th>\n",
       "      <td>1,000 Places to See Before You Die</td>\n",
       "      <td>Â£26.08</td>\n",
       "      <td>In stock (1 available)</td>\n",
       "      <td>Five</td>\n",
       "      <td>Around the World, continent by continent, here...</td>\n",
       "      <td>228ba5e7577e1d49</td>\n",
       "    </tr>\n",
       "    <tr>\n",
       "      <th>1</th>\n",
       "      <td>1,000 Places to See Before You Die</td>\n",
       "      <td>Â£26.08</td>\n",
       "      <td>In stock (1 available)</td>\n",
       "      <td>Five</td>\n",
       "      <td>Around the World, continent by continent, here...</td>\n",
       "      <td>228ba5e7577e1d49</td>\n",
       "    </tr>\n",
       "    <tr>\n",
       "      <th>2</th>\n",
       "      <td>1,000 Places to See Before You Die</td>\n",
       "      <td>Â£26.08</td>\n",
       "      <td>In stock (1 available)</td>\n",
       "      <td>Five</td>\n",
       "      <td>Around the World, continent by continent, here...</td>\n",
       "      <td>228ba5e7577e1d49</td>\n",
       "    </tr>\n",
       "    <tr>\n",
       "      <th>3</th>\n",
       "      <td>1,000 Places to See Before You Die</td>\n",
       "      <td>Â£26.08</td>\n",
       "      <td>In stock (1 available)</td>\n",
       "      <td>Five</td>\n",
       "      <td>Around the World, continent by continent, here...</td>\n",
       "      <td>228ba5e7577e1d49</td>\n",
       "    </tr>\n",
       "    <tr>\n",
       "      <th>4</th>\n",
       "      <td>1,000 Places to See Before You Die</td>\n",
       "      <td>Â£26.08</td>\n",
       "      <td>In stock (1 available)</td>\n",
       "      <td>Five</td>\n",
       "      <td>Around the World, continent by continent, here...</td>\n",
       "      <td>228ba5e7577e1d49</td>\n",
       "    </tr>\n",
       "  </tbody>\n",
       "</table>\n",
       "</div>"
      ],
      "text/plain": [
       "                                Title    Price            Availability Rating  \\\n",
       "0  1,000 Places to See Before You Die  Â£26.08  In stock (1 available)   Five   \n",
       "1  1,000 Places to See Before You Die  Â£26.08  In stock (1 available)   Five   \n",
       "2  1,000 Places to See Before You Die  Â£26.08  In stock (1 available)   Five   \n",
       "3  1,000 Places to See Before You Die  Â£26.08  In stock (1 available)   Five   \n",
       "4  1,000 Places to See Before You Die  Â£26.08  In stock (1 available)   Five   \n",
       "\n",
       "                                         Description               UPC  \n",
       "0  Around the World, continent by continent, here...  228ba5e7577e1d49  \n",
       "1  Around the World, continent by continent, here...  228ba5e7577e1d49  \n",
       "2  Around the World, continent by continent, here...  228ba5e7577e1d49  \n",
       "3  Around the World, continent by continent, here...  228ba5e7577e1d49  \n",
       "4  Around the World, continent by continent, here...  228ba5e7577e1d49  "
      ]
     },
     "metadata": {},
     "output_type": "display_data"
    }
   ],
   "source": [
    "# Create a list to hold all book details\n",
    "books_data = []\n",
    "\n",
    "# Loop through each book URL\n",
    "for book_url in book_urls:    \n",
    "    title = soup.h1.text\n",
    "    price = soup.select_one('p.price_color').text\n",
    "    availability = soup.select_one('p.instock.availability').text.strip()\n",
    "    rating = soup.select_one('p.star-rating')['class'][1]\n",
    "    description = soup.select('meta[name=\"description\"]')[0]['content'].strip()\n",
    "    upc = soup.select_one('table.table.table-striped tr:nth-child(1) td').text\n",
    "    \n",
    "    # Add the book details to the list\n",
    "    books_data.append({\"Title\": title, \"Price\": price, \"Availability\": availability, \"Rating\": rating, \"Description\": description, \"UPC\": upc})\n",
    "\n",
    "# Convert the list into a Pandas df\n",
    "books_df = pd.DataFrame(books_data)\n",
    "\n",
    "# Display the head 5 rows of the df\n",
    "display(books_df.head())"
   ]
  },
  {
   "cell_type": "code",
   "execution_count": null,
   "metadata": {},
   "outputs": [],
   "source": []
  }
 ],
 "metadata": {
  "colab": {
   "provenance": []
  },
  "kernelspec": {
   "display_name": "Python 3 (ipykernel)",
   "language": "python",
   "name": "python3"
  },
  "language_info": {
   "codemirror_mode": {
    "name": "ipython",
    "version": 3
   },
   "file_extension": ".py",
   "mimetype": "text/x-python",
   "name": "python",
   "nbconvert_exporter": "python",
   "pygments_lexer": "ipython3",
   "version": "3.12.4"
  }
 },
 "nbformat": 4,
 "nbformat_minor": 4
}
