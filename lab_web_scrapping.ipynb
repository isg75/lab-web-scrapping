{
 "cells": [
  {
   "cell_type": "markdown",
   "metadata": {
    "id": "Rq7Fx0T_DPsE"
   },
   "source": [
    "# Web Scrapping lab"
   ]
  },
  {
   "cell_type": "markdown",
   "metadata": {
    "id": "K3n7CJfCD2pK"
   },
   "source": [
    "In this lab you will scrappe this [website](https://books.toscrape.com/) of books.\n",
    "\n",
    "You have to create a Pandas DataFrame with all the books listed in the page. Each row of the DataFrame should contain information of each book. In particular, the DataFrmae must contain:\n",
    "\n",
    "* category\n",
    "* title\n",
    "* price\n",
    "* stock availability\n",
    "* star rating (number of stars)\n",
    "* description\n",
    "* UPC\n",
    "\n",
    "Happy scrapping!\n",
    "\n"
   ]
  },
  {
   "cell_type": "markdown",
   "metadata": {
    "id": "IaqLnJRLBqMS"
   },
   "source": [
    "# Server verification"
   ]
  },
  {
   "cell_type": "markdown",
   "metadata": {
    "id": "QNXuRli_BvJp"
   },
   "source": [
    "Load the needed libraries, and make sure thar you can obtain the correct status code."
   ]
  },
  {
   "cell_type": "code",
   "execution_count": 2,
   "metadata": {
    "colab": {
     "base_uri": "https://localhost:8080/"
    },
    "id": "szKOZm99Frlf",
    "outputId": "184b2f54-7eaa-4d31-b66f-f3f8311e80e6"
   },
   "outputs": [
    {
     "name": "stdout",
     "output_type": "stream",
     "text": [
      "200\n"
     ]
    }
   ],
   "source": [
    "# Your code here\n",
    "import requests\n",
    "from bs4 import BeautifulSoup\n",
    "\n",
    "base_url = 'http://books.toscrape.com/'\n",
    "response = requests.get(base_url)\n",
    "\n",
    "print(response.status_code)"
   ]
  },
  {
   "cell_type": "markdown",
   "metadata": {
    "id": "SSrTPTKnCD-N"
   },
   "source": [
    "# Book categories"
   ]
  },
  {
   "cell_type": "markdown",
   "metadata": {
    "id": "Yu5FjaMECISF"
   },
   "source": [
    "Create the code to collect the **relative urls** from the left panel to obtain a list with all the book categories."
   ]
  },
  {
   "cell_type": "code",
   "execution_count": 3,
   "metadata": {
    "colab": {
     "base_uri": "https://localhost:8080/"
    },
    "id": "Y12krHNrGPsu",
    "outputId": "8e1a4907-1b82-4f2d-f8a9-c7c10b6e6bed"
   },
   "outputs": [
    {
     "name": "stdout",
     "output_type": "stream",
     "text": [
      "['catalogue/category/books_1/index.html', 'catalogue/category/books/travel_2/index.html', 'catalogue/category/books/mystery_3/index.html', 'catalogue/category/books/historical-fiction_4/index.html', 'catalogue/category/books/sequential-art_5/index.html', 'catalogue/category/books/classics_6/index.html', 'catalogue/category/books/philosophy_7/index.html', 'catalogue/category/books/romance_8/index.html', 'catalogue/category/books/womens-fiction_9/index.html', 'catalogue/category/books/fiction_10/index.html', 'catalogue/category/books/childrens_11/index.html', 'catalogue/category/books/religion_12/index.html', 'catalogue/category/books/nonfiction_13/index.html', 'catalogue/category/books/music_14/index.html', 'catalogue/category/books/default_15/index.html', 'catalogue/category/books/science-fiction_16/index.html', 'catalogue/category/books/sports-and-games_17/index.html', 'catalogue/category/books/add-a-comment_18/index.html', 'catalogue/category/books/fantasy_19/index.html', 'catalogue/category/books/new-adult_20/index.html', 'catalogue/category/books/young-adult_21/index.html', 'catalogue/category/books/science_22/index.html', 'catalogue/category/books/poetry_23/index.html', 'catalogue/category/books/paranormal_24/index.html', 'catalogue/category/books/art_25/index.html', 'catalogue/category/books/psychology_26/index.html', 'catalogue/category/books/autobiography_27/index.html', 'catalogue/category/books/parenting_28/index.html', 'catalogue/category/books/adult-fiction_29/index.html', 'catalogue/category/books/humor_30/index.html', 'catalogue/category/books/horror_31/index.html', 'catalogue/category/books/history_32/index.html', 'catalogue/category/books/food-and-drink_33/index.html', 'catalogue/category/books/christian-fiction_34/index.html', 'catalogue/category/books/business_35/index.html', 'catalogue/category/books/biography_36/index.html', 'catalogue/category/books/thriller_37/index.html', 'catalogue/category/books/contemporary_38/index.html', 'catalogue/category/books/spirituality_39/index.html', 'catalogue/category/books/academic_40/index.html', 'catalogue/category/books/self-help_41/index.html', 'catalogue/category/books/historical_42/index.html', 'catalogue/category/books/christian_43/index.html', 'catalogue/category/books/suspense_44/index.html', 'catalogue/category/books/short-stories_45/index.html', 'catalogue/category/books/novels_46/index.html', 'catalogue/category/books/health_47/index.html', 'catalogue/category/books/politics_48/index.html', 'catalogue/category/books/cultural_49/index.html', 'catalogue/category/books/erotica_50/index.html', 'catalogue/category/books/crime_51/index.html']\n"
     ]
    }
   ],
   "source": [
    "# Your code here\n",
    "response = requests.get(base_url)\n",
    "soup = BeautifulSoup(response.text, 'html.parser')\n",
    "\n",
    "category_links = soup.select('.nav-list a')\n",
    "\n",
    "category_urls = [link.get('href') for link in category_links]\n",
    "print(category_urls)"
   ]
  },
  {
   "cell_type": "markdown",
   "metadata": {
    "id": "tAq9izU8Cpyx"
   },
   "source": [
    "# Books in a given category\n",
    "\n",
    "Use. web scrapping and list comprehension to obtain the **absolute** url of each book to be scraped"
   ]
  },
  {
   "cell_type": "code",
   "execution_count": 4,
   "metadata": {
    "id": "gC6uP76bHwNv"
   },
   "outputs": [
    {
     "name": "stdout",
     "output_type": "stream",
     "text": [
      "['http://books.toscrape.com/catalogue/../../../its-only-the-himalayas_981/index.html', 'http://books.toscrape.com/catalogue/../../../full-moon-over-noahs-ark-an-odyssey-to-mount-ararat-and-beyond_811/index.html', 'http://books.toscrape.com/catalogue/../../../see-america-a-celebration-of-our-national-parks-treasured-sites_732/index.html', 'http://books.toscrape.com/catalogue/../../../vagabonding-an-uncommon-guide-to-the-art-of-long-term-world-travel_552/index.html', 'http://books.toscrape.com/catalogue/../../../under-the-tuscan-sun_504/index.html', 'http://books.toscrape.com/catalogue/../../../a-summer-in-europe_458/index.html', 'http://books.toscrape.com/catalogue/../../../the-great-railway-bazaar_446/index.html', 'http://books.toscrape.com/catalogue/../../../a-year-in-provence-provence-1_421/index.html', 'http://books.toscrape.com/catalogue/../../../the-road-to-little-dribbling-adventures-of-an-american-in-britain-notes-from-a-small-island-2_277/index.html', 'http://books.toscrape.com/catalogue/../../../neither-here-nor-there-travels-in-europe_198/index.html', 'http://books.toscrape.com/catalogue/../../../1000-places-to-see-before-you-die_1/index.html']\n"
     ]
    }
   ],
   "source": [
    "# Your code here\n",
    "def get_book_urls(category_url):\n",
    "    response = requests.get(base_url + category_url)\n",
    "    soup = BeautifulSoup(response.text, 'html.parser')\n",
    "    book_links = soup.select('h3 a')\n",
    "    book_urls = [base_url + 'catalogue/' + link.get('href') for link in book_links]\n",
    "    return book_urls\n",
    "\n",
    "example_category_url = 'catalogue/category/books/travel_2/index.html'\n",
    "book_urls = get_book_urls(example_category_url)\n",
    "print(book_urls)"
   ]
  },
  {
   "cell_type": "markdown",
   "metadata": {
    "id": "wLIh0a_LDJMo"
   },
   "source": [
    "# Book details\n",
    "\n",
    "Create a Python function that given a book_url as an input returns a dictionary with the following structure:\n",
    "\n",
    "```Python\n",
    "{\"Title\": title, \"Price\": price, \"Availability\": availability, \"Rating\": rating, \"Description\": description, \"UPC\": upc}\n",
    "```\n",
    "\n",
    "where `description` should contain the book's summary given in the Product description, and the values are the book's associated information."
   ]
  },
  {
   "cell_type": "code",
   "execution_count": 5,
   "metadata": {
    "id": "5-uC7hz1LxCd"
   },
   "outputs": [
    {
     "name": "stdout",
     "output_type": "stream",
     "text": [
      "{'Title': 'A Light in the Attic', 'Price': 'Â£51.77', 'Availability': 'In stock (22 available)', 'Rating': 5, 'Description': \"It's hard to imagine a world without A Light in the Attic. This now-classic collection of poetry and drawings from Shel Silverstein celebrates its 20th anniversary with this special edition. Silverstein's humorous and creative verse can amuse the dowdiest of readers. Lemon-faced adults and fidgety kids sit still and read these rhythmic words and laugh and smile and love th It's hard to imagine a world without A Light in the Attic. This now-classic collection of poetry and drawings from Shel Silverstein celebrates its 20th anniversary with this special edition. Silverstein's humorous and creative verse can amuse the dowdiest of readers. Lemon-faced adults and fidgety kids sit still and read these rhythmic words and laugh and smile and love that Silverstein. Need proof of his genius? RockabyeRockabye baby, in the treetopDon't you know a treetopIs no safe place to rock?And who put you up there,And your cradle, too?Baby, I think someone down here'sGot it in for you. Shel, you never sounded so good. ...more\", 'UPC': 'a897fe39b1053632'}\n"
     ]
    },
    {
     "name": "stderr",
     "output_type": "stream",
     "text": [
      "/opt/anaconda3/lib/python3.12/site-packages/soupsieve/css_parser.py:856: FutureWarning: The pseudo class ':contains' is deprecated, ':-soup-contains' should be used moving forward.\n",
      "  warnings.warn(  # noqa: B028\n"
     ]
    }
   ],
   "source": [
    "# Your code here\n",
    "def get_book_details(book_url):\n",
    "    response = requests.get(book_url)\n",
    "    soup = BeautifulSoup(response.text, 'html.parser')\n",
    "\n",
    "    title = soup.h1.text\n",
    "    price = soup.select_one('.price_color').text\n",
    "    availability = soup.select_one('.instock.availability').text.strip()\n",
    "    rating = len(soup.select('p.star-rating')[0].get('class')[1])\n",
    "    description = soup.select_one('#product_description + p').text if soup.select_one('#product_description + p') else 'No description available'\n",
    "    upc = soup.select_one('th:contains(\"UPC\") + td').text\n",
    "\n",
    "    return {\n",
    "        \"Title\": title,\n",
    "        \"Price\": price,\n",
    "        \"Availability\": availability,\n",
    "        \"Rating\": rating,\n",
    "        \"Description\": description,\n",
    "        \"UPC\": upc\n",
    "    }\n",
    "\n",
    "example_book_url = 'http://books.toscrape.com/catalogue/a-light-in-the-attic_1000/index.html'\n",
    "book_details = get_book_details(example_book_url)\n",
    "print(book_details)"
   ]
  },
  {
   "cell_type": "markdown",
   "metadata": {
    "id": "GvSqhX4UDxbb"
   },
   "source": [
    "# Collect and store all the information from the books in a Pandas DataFrame\n",
    "\n",
    "Start with the following dictionary:\n",
    "\n",
    "```python\n",
    "books_dict = {\"Title\": [], \"Price\": [], \"Availability\": [], \"Rating\": [], \"Description\": [], \"UPC\": [], \"Category\": [] }\n",
    "```\n",
    "\n",
    "Then, iterate over all the categories and all the books in a given category to collect any book information using the previous function. Fill the previous dictionary with the information about each book.\n",
    "\n",
    "Show the first five rows of the previous final Pandas DataFrame.\n",
    "\n",
    "Tip: You can use the function `tqdm` from the library `tqdm` to show a progress bar if in iterable of a for loop as shown below :wink: :\n",
    "\n",
    "```python\n",
    "from tqdm import tqdm\n",
    "\n",
    "for elem in tqdm(iterable):\n",
    "    # some code\n",
    "```\n",
    "\n",
    "\n",
    "\n"
   ]
  },
  {
   "cell_type": "code",
   "execution_count": 6,
   "metadata": {
    "colab": {
     "base_uri": "https://localhost:8080/",
     "height": 1000
    },
    "id": "apeImoCxStA5",
    "outputId": "20d2d37c-5cbe-4062-e407-80f77955a8d3"
   },
   "outputs": [],
   "source": [
    "import pandas as pd\n",
    "from tqdm import tqdm\n",
    "\n",
    "books_dict = {\"Title\": [], \"Price\": [], \"Availability\": [], \"Rating\": [], \"Description\": [], \"UPC\": [], \"Category\": []}\n",
    "\n",
    "for category_url in tqdm(category_urls):\n",
    "    book_urls = get_book_urls(category_url)\n",
    "    for book_url in book_urls:\n",
    "        details = get_book_details(book_url)\n",
    "        details['Category'] = category_url.split('/')[-2]  \n",
    "        for key in books_dict.keys():\n",
    "            books_dict[key].append(details[key])\n",
    "            \n",
    "books_df = pd.DataFrame(books_dict)\n",
    "print(books_df.head())"
   ]
  }
 ],
 "metadata": {
  "colab": {
   "provenance": []
  },
  "kernelspec": {
   "display_name": "Python 3 (ipykernel)",
   "language": "python",
   "name": "python3"
  },
  "language_info": {
   "codemirror_mode": {
    "name": "ipython",
    "version": 3
   },
   "file_extension": ".py",
   "mimetype": "text/x-python",
   "name": "python",
   "nbconvert_exporter": "python",
   "pygments_lexer": "ipython3",
   "version": "3.12.4"
  }
 },
 "nbformat": 4,
 "nbformat_minor": 4
}
