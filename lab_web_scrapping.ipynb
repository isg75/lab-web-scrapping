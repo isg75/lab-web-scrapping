{
 "cells": [
  {
   "cell_type": "markdown",
   "metadata": {
    "id": "Rq7Fx0T_DPsE"
   },
   "source": [
    "# Web Scrapping lab"
   ]
  },
  {
   "cell_type": "markdown",
   "metadata": {
    "id": "K3n7CJfCD2pK"
   },
   "source": [
    "In this lab you will scrappe this [website](https://books.toscrape.com/) of books.\n",
    "\n",
    "You have to create a Pandas DataFrame with all the books listed in the page. Each row of the DataFrame should contain information of each book. In particular, the DataFrmae must contain:\n",
    "\n",
    "* category\n",
    "* title\n",
    "* price\n",
    "* stock availability\n",
    "* star rating (number of stars)\n",
    "* description\n",
    "* UPC\n",
    "\n",
    "Happy scrapping!\n",
    "\n"
   ]
  },
  {
   "cell_type": "markdown",
   "metadata": {
    "id": "IaqLnJRLBqMS"
   },
   "source": [
    "# Server verification"
   ]
  },
  {
   "cell_type": "markdown",
   "metadata": {
    "id": "QNXuRli_BvJp"
   },
   "source": [
    "Load the needed libraries, and make sure thar you can obtain the correct status code."
   ]
  },
  {
   "cell_type": "code",
   "execution_count": 13,
   "metadata": {
    "colab": {
     "base_uri": "https://localhost:8080/"
    },
    "id": "szKOZm99Frlf",
    "outputId": "184b2f54-7eaa-4d31-b66f-f3f8311e80e6"
   },
   "outputs": [
    {
     "data": {
      "text/plain": [
       "<Response [200]>"
      ]
     },
     "execution_count": 13,
     "metadata": {},
     "output_type": "execute_result"
    }
   ],
   "source": [
    "import requests\n",
    "from bs4 import BeautifulSoup\n",
    "import pandas as pd\n",
    "\n",
    "# Step 1: Send a GET request to the website\n",
    "url = \"https://books.toscrape.com/\"\n",
    "response = requests.get(url)\n",
    "\n",
    "response"
   ]
  },
  {
   "cell_type": "code",
   "execution_count": 13,
   "metadata": {},
   "outputs": [],
   "source": [
    "# Step 2: Parse the HTML content\n",
    "soup = BeautifulSoup(response.content, 'html.parser')\n"
   ]
  },
  {
   "cell_type": "markdown",
   "metadata": {
    "id": "SSrTPTKnCD-N"
   },
   "source": [
    "# Book categories"
   ]
  },
  {
   "cell_type": "markdown",
   "metadata": {
    "id": "Yu5FjaMECISF"
   },
   "source": [
    "Create the code to collect the **relative urls** from the left panel to obtain a list with all the book categories."
   ]
  },
  {
   "cell_type": "code",
   "execution_count": 20,
   "metadata": {},
   "outputs": [
    {
     "name": "stdout",
     "output_type": "stream",
     "text": [
      "Category: Books, URL: catalogue/category/books_1/index.html\n",
      "Category: Travel, URL: catalogue/category/books/travel_2/index.html\n",
      "Category: Mystery, URL: catalogue/category/books/mystery_3/index.html\n",
      "Category: Historical Fiction, URL: catalogue/category/books/historical-fiction_4/index.html\n",
      "Category: Sequential Art, URL: catalogue/category/books/sequential-art_5/index.html\n",
      "Category: Classics, URL: catalogue/category/books/classics_6/index.html\n",
      "Category: Philosophy, URL: catalogue/category/books/philosophy_7/index.html\n",
      "Category: Romance, URL: catalogue/category/books/romance_8/index.html\n",
      "Category: Womens Fiction, URL: catalogue/category/books/womens-fiction_9/index.html\n",
      "Category: Fiction, URL: catalogue/category/books/fiction_10/index.html\n",
      "Category: Childrens, URL: catalogue/category/books/childrens_11/index.html\n",
      "Category: Religion, URL: catalogue/category/books/religion_12/index.html\n",
      "Category: Nonfiction, URL: catalogue/category/books/nonfiction_13/index.html\n",
      "Category: Music, URL: catalogue/category/books/music_14/index.html\n",
      "Category: Default, URL: catalogue/category/books/default_15/index.html\n",
      "Category: Science Fiction, URL: catalogue/category/books/science-fiction_16/index.html\n",
      "Category: Sports and Games, URL: catalogue/category/books/sports-and-games_17/index.html\n",
      "Category: Add a comment, URL: catalogue/category/books/add-a-comment_18/index.html\n",
      "Category: Fantasy, URL: catalogue/category/books/fantasy_19/index.html\n",
      "Category: New Adult, URL: catalogue/category/books/new-adult_20/index.html\n",
      "Category: Young Adult, URL: catalogue/category/books/young-adult_21/index.html\n",
      "Category: Science, URL: catalogue/category/books/science_22/index.html\n",
      "Category: Poetry, URL: catalogue/category/books/poetry_23/index.html\n",
      "Category: Paranormal, URL: catalogue/category/books/paranormal_24/index.html\n",
      "Category: Art, URL: catalogue/category/books/art_25/index.html\n",
      "Category: Psychology, URL: catalogue/category/books/psychology_26/index.html\n",
      "Category: Autobiography, URL: catalogue/category/books/autobiography_27/index.html\n",
      "Category: Parenting, URL: catalogue/category/books/parenting_28/index.html\n",
      "Category: Adult Fiction, URL: catalogue/category/books/adult-fiction_29/index.html\n",
      "Category: Humor, URL: catalogue/category/books/humor_30/index.html\n",
      "Category: Horror, URL: catalogue/category/books/horror_31/index.html\n",
      "Category: History, URL: catalogue/category/books/history_32/index.html\n",
      "Category: Food and Drink, URL: catalogue/category/books/food-and-drink_33/index.html\n",
      "Category: Christian Fiction, URL: catalogue/category/books/christian-fiction_34/index.html\n",
      "Category: Business, URL: catalogue/category/books/business_35/index.html\n",
      "Category: Biography, URL: catalogue/category/books/biography_36/index.html\n",
      "Category: Thriller, URL: catalogue/category/books/thriller_37/index.html\n",
      "Category: Contemporary, URL: catalogue/category/books/contemporary_38/index.html\n",
      "Category: Spirituality, URL: catalogue/category/books/spirituality_39/index.html\n",
      "Category: Academic, URL: catalogue/category/books/academic_40/index.html\n",
      "Category: Self Help, URL: catalogue/category/books/self-help_41/index.html\n",
      "Category: Historical, URL: catalogue/category/books/historical_42/index.html\n",
      "Category: Christian, URL: catalogue/category/books/christian_43/index.html\n",
      "Category: Suspense, URL: catalogue/category/books/suspense_44/index.html\n",
      "Category: Short Stories, URL: catalogue/category/books/short-stories_45/index.html\n",
      "Category: Novels, URL: catalogue/category/books/novels_46/index.html\n",
      "Category: Health, URL: catalogue/category/books/health_47/index.html\n",
      "Category: Politics, URL: catalogue/category/books/politics_48/index.html\n",
      "Category: Cultural, URL: catalogue/category/books/cultural_49/index.html\n",
      "Category: Erotica, URL: catalogue/category/books/erotica_50/index.html\n",
      "Category: Crime, URL: catalogue/category/books/crime_51/index.html\n"
     ]
    }
   ],
   "source": [
    "# Step 3: Find the left panel with categories\n",
    "category_section = soup.find('ul', class_='nav-list')\n",
    "\n",
    "# Step 4: Extract the relative URLs of the book categories\n",
    "categories = category_section.find_all('a')\n",
    "\n",
    "# Step 5: Create a list of categories with relative URLs\n",
    "category_urls = []\n",
    "for category in categories:\n",
    "    category_name = category.text.strip()\n",
    "    relative_url = category['href']\n",
    "    category_urls.append((category_name, relative_url))\n",
    "\n",
    "# Display the list of categories and their URLs\n",
    "for category in category_urls:\n",
    "    print(f\"Category: {category[0]}, URL: {category[1]}\")"
   ]
  },
  {
   "cell_type": "markdown",
   "metadata": {
    "id": "tAq9izU8Cpyx"
   },
   "source": [
    "# Books in a given category\n",
    "\n",
    "Use. web scrapping and list comprehension to obtain the **absolute** url of each book to be scraped"
   ]
  },
  {
   "cell_type": "code",
   "execution_count": 5,
   "metadata": {
    "id": "gC6uP76bHwNv"
   },
   "outputs": [
    {
     "name": "stdout",
     "output_type": "stream",
     "text": [
      "https://books.toscrape.com/catalogue/its-only-the-himalayas_981/index.html\n",
      "https://books.toscrape.com/catalogue/full-moon-over-noahs-ark-an-odyssey-to-mount-ararat-and-beyond_811/index.html\n",
      "https://books.toscrape.com/catalogue/see-america-a-celebration-of-our-national-parks-treasured-sites_732/index.html\n",
      "https://books.toscrape.com/catalogue/vagabonding-an-uncommon-guide-to-the-art-of-long-term-world-travel_552/index.html\n",
      "https://books.toscrape.com/catalogue/under-the-tuscan-sun_504/index.html\n",
      "https://books.toscrape.com/catalogue/a-summer-in-europe_458/index.html\n",
      "https://books.toscrape.com/catalogue/the-great-railway-bazaar_446/index.html\n",
      "https://books.toscrape.com/catalogue/a-year-in-provence-provence-1_421/index.html\n",
      "https://books.toscrape.com/catalogue/the-road-to-little-dribbling-adventures-of-an-american-in-britain-notes-from-a-small-island-2_277/index.html\n",
      "https://books.toscrape.com/catalogue/neither-here-nor-there-travels-in-europe_198/index.html\n",
      "https://books.toscrape.com/catalogue/1000-places-to-see-before-you-die_1/index.html\n"
     ]
    }
   ],
   "source": [
    "# Base URL\n",
    "base_url = \"https://books.toscrape.com/\"\n",
    "\n",
    "# Step 1: Request the category page\n",
    "category_url = \"https://books.toscrape.com/catalogue/category/books/travel_2/index.html\"\n",
    "response = requests.get(category_url)\n",
    "\n",
    "# Step 2: Parse the HTML content\n",
    "soup = BeautifulSoup(response.content, 'html.parser')\n",
    "\n",
    "# Step 3: Find all the book URLs\n",
    "books = soup.find_all('article', class_='product_pod')\n",
    "\n",
    "# Step 4: Use list comprehension to build absolute URLs\n",
    "book_urls = [base_url + book.h3.a['href'].replace('../../../', 'catalogue/') for book in books]\n",
    "\n",
    "# Display the absolute URLs\n",
    "for url in book_urls:\n",
    "    print(url)"
   ]
  },
  {
   "cell_type": "markdown",
   "metadata": {
    "id": "wLIh0a_LDJMo"
   },
   "source": [
    "# Book details\n",
    "\n",
    "Create a Python function that given a book_url as an input returns a dictionary with the following structure:\n",
    "\n",
    "```Python\n",
    "{\"Title\": title, \"Price\": price, \"Availability\": availability, \"Rating\": rating, \"Description\": description, \"UPC\": upc}\n",
    "```\n",
    "\n",
    "where `description` should contain the book's summary given in the Product description, and the values are the book's associated information."
   ]
  },
  {
   "cell_type": "code",
   "execution_count": 11,
   "metadata": {
    "id": "5-uC7hz1LxCd"
   },
   "outputs": [
    {
     "name": "stdout",
     "output_type": "stream",
     "text": [
      "{'Title': \"It's Only the Himalayas\", 'Price': '£45.17', 'Availability': 'In stock (19 available)', 'Rating': 'Two', 'Description': '“Wherever you go, whatever you do, just . . . don’t do anything stupid.” —My MotherDuring her yearlong adventure backpacking from South Africa to Singapore, S. Bedford definitely did a few things her mother might classify as \"stupid.\" She swam with great white sharks in South Africa, ran from lions', 'UPC': 'a22124811bfa8350'}\n"
     ]
    }
   ],
   "source": [
    "def scrape_book_details(book_url):\n",
    "    # Step 1: Send a request to the book page\n",
    "    response = requests.get(book_url)\n",
    "    soup = BeautifulSoup(response.content, 'html.parser')\n",
    "    \n",
    "    # Step 2: Extract book details\n",
    "    title = soup.find('h1').text\n",
    "    price = soup.find('p', class_='price_color').text\n",
    "    availability = soup.find('p', class_='instock availability').text.strip()\n",
    "    \n",
    "    # Extract rating (as a class name that represents the rating)\n",
    "    rating = soup.find('p', class_='star-rating')['class'][1]\n",
    "    \n",
    "    # Extract description from the Product Description section\n",
    "    description = soup.find('meta', {'name': 'description'})['content'].strip()\n",
    "    description = ' '.join(description.split()[:50])  # Limit description to first 50 words\n",
    "    \n",
    "    # Extract UPC from the table of product information\n",
    "    table = soup.find('table', class_='table table-striped')\n",
    "    upc = table.find('td').text\n",
    "\n",
    "    # Step 3: Create a dictionary with the extracted data\n",
    "    book_details = {\n",
    "        \"Title\": title,\n",
    "        \"Price\": price,\n",
    "        \"Availability\": availability,\n",
    "        \"Rating\": rating,\n",
    "        \"Description\": description,\n",
    "        \"UPC\": upc\n",
    "    }\n",
    "    \n",
    "    return book_details\n",
    "\n",
    "# Example Usage:\n",
    "book_url = \"https://books.toscrape.com/catalogue/its-only-the-himalayas_981/index.html\"\n",
    "details = scrape_book_details(book_url)\n",
    "print(details)"
   ]
  },
  {
   "cell_type": "markdown",
   "metadata": {
    "id": "GvSqhX4UDxbb"
   },
   "source": [
    "# Collect and store all the information from the books in a Pandas DataFrame\n",
    "\n",
    "Start with the following dictionary:\n",
    "\n",
    "```python\n",
    "books_dict = {\"Title\": [], \"Price\": [], \"Availability\": [], \"Rating\": [], \"Description\": [], \"UPC\": [], \"Category\": [] }\n",
    "```\n",
    "\n",
    "Then, iterate over all the categories and all the books in a given category to collect any book information using the previous function. Fill the previous dictionary with the information about each book.\n",
    "\n",
    "Show the first five rows of the previous final Pandas DataFrame.\n",
    "\n",
    "Tip: You can use the function `tqdm` from the library `tqdm` to show a progress bar if in iterable of a for loop as shown below :wink: :\n",
    "\n",
    "```python\n",
    "from tqdm import tqdm\n",
    "\n",
    "for elem in tqdm(iterable):\n",
    "    # some code\n",
    "```\n",
    "\n",
    "\n",
    "\n"
   ]
  },
  {
   "cell_type": "code",
   "execution_count": 17,
   "metadata": {
    "colab": {
     "base_uri": "https://localhost:8080/",
     "height": 1000
    },
    "id": "apeImoCxStA5",
    "outputId": "20d2d37c-5cbe-4062-e407-80f77955a8d3"
   },
   "outputs": [
    {
     "name": "stderr",
     "output_type": "stream",
     "text": [
      "100%|███████████████████████████████████████████| 51/51 [03:12<00:00,  3.77s/it]"
     ]
    },
    {
     "name": "stdout",
     "output_type": "stream",
     "text": [
      "           Title Price Availability Rating                Description  UPC  \\\n",
      "0  404 Not Found   N/A          N/A    N/A  No description available.  N/A   \n",
      "1  404 Not Found   N/A          N/A    N/A  No description available.  N/A   \n",
      "2  404 Not Found   N/A          N/A    N/A  No description available.  N/A   \n",
      "3  404 Not Found   N/A          N/A    N/A  No description available.  N/A   \n",
      "4  404 Not Found   N/A          N/A    N/A  No description available.  N/A   \n",
      "\n",
      "  Category  \n",
      "0    Books  \n",
      "1    Books  \n",
      "2    Books  \n",
      "3    Books  \n",
      "4    Books  \n"
     ]
    },
    {
     "name": "stderr",
     "output_type": "stream",
     "text": [
      "\n"
     ]
    }
   ],
   "source": [
    "from tqdm import tqdm\n",
    "# Step 1: Initialize the books dictionary\n",
    "books_dict = {\n",
    "    \"Title\": [], \n",
    "    \"Price\": [], \n",
    "    \"Availability\": [], \n",
    "    \"Rating\": [], \n",
    "    \"Description\": [], \n",
    "    \"UPC\": [], \n",
    "    \"Category\": []\n",
    "}\n",
    "\n",
    "# Function to scrape book details with error handling\n",
    "def scrape_book_details(book_url):\n",
    "    response = requests.get(book_url)\n",
    "    soup = BeautifulSoup(response.content, 'html.parser')\n",
    "    \n",
    "    title = soup.find('h1').text if soup.find('h1') else \"N/A\"\n",
    "    price = soup.find('p', class_='price_color').text if soup.find('p', class_='price_color') else \"N/A\"\n",
    "    availability = soup.find('p', class_='instock availability').text.strip() if soup.find('p', class_='instock availability') else \"N/A\"\n",
    "    rating_tag = soup.find('p', class_='star-rating')\n",
    "    rating = rating_tag['class'][1] if rating_tag else \"N/A\"\n",
    "    description_tag = soup.find('meta', {'name': 'description'})\n",
    "    description = description_tag['content'].strip()[:150] + '...' if description_tag else \"No description available.\"\n",
    "    table = soup.find('table', class_='table table-striped')\n",
    "    upc = table.find('td').text if table and table.find('td') else \"N/A\"\n",
    "\n",
    "    return {\n",
    "        \"Title\": title,\n",
    "        \"Price\": price,\n",
    "        \"Availability\": availability,\n",
    "        \"Rating\": rating,\n",
    "        \"Description\": description,\n",
    "        \"UPC\": upc\n",
    "    }\n",
    "\n",
    "# Base URL for the website\n",
    "base_url = \"https://books.toscrape.com/\"\n",
    "\n",
    "# Step 2: Scrape category URLs\n",
    "response = requests.get(base_url)\n",
    "soup = BeautifulSoup(response.content, 'html.parser')\n",
    "category_section = soup.find('ul', class_='nav-list')\n",
    "categories = category_section.find_all('a')\n",
    "category_urls = [(cat.text.strip(), base_url + cat['href'].replace('../', '')) for cat in categories]\n",
    "\n",
    "# Step 3: Iterate over all categories and books\n",
    "for category_name, category_url in tqdm(category_urls):\n",
    "    # Get the category page\n",
    "    category_response = requests.get(category_url)\n",
    "    category_soup = BeautifulSoup(category_response.content, 'html.parser')\n",
    "    \n",
    "    # Find all books in the category\n",
    "    books = category_soup.find_all('article', class_='product_pod')\n",
    "    book_urls = [base_url + book.h3.a['href'].replace('../../../', 'catalogue/') for book in books]\n",
    "    \n",
    "    # Scrape details for each book\n",
    "    for book_url in book_urls:\n",
    "        try:\n",
    "            book_details = scrape_book_details(book_url)\n",
    "            book_details[\"Category\"] = category_name  # Add category to book details\n",
    "            \n",
    "            # Append data to books_dict\n",
    "            for key in books_dict:\n",
    "                books_dict[key].append(book_details[key])\n",
    "        except Exception as e:\n",
    "            print(f\"Error scraping {book_url}: {e}\")\n",
    "\n",
    "# Step 4: Create a Pandas DataFrame and display the first 5 rows\n",
    "books_df = pd.DataFrame(books_dict)"
   ]
  },
  {
   "cell_type": "code",
   "execution_count": 19,
   "metadata": {},
   "outputs": [
    {
     "data": {
      "text/html": [
       "<div>\n",
       "<style scoped>\n",
       "    .dataframe tbody tr th:only-of-type {\n",
       "        vertical-align: middle;\n",
       "    }\n",
       "\n",
       "    .dataframe tbody tr th {\n",
       "        vertical-align: top;\n",
       "    }\n",
       "\n",
       "    .dataframe thead th {\n",
       "        text-align: right;\n",
       "    }\n",
       "</style>\n",
       "<table border=\"1\" class=\"dataframe\">\n",
       "  <thead>\n",
       "    <tr style=\"text-align: right;\">\n",
       "      <th></th>\n",
       "      <th>Title</th>\n",
       "      <th>Price</th>\n",
       "      <th>Availability</th>\n",
       "      <th>Rating</th>\n",
       "      <th>Description</th>\n",
       "      <th>UPC</th>\n",
       "      <th>Category</th>\n",
       "    </tr>\n",
       "  </thead>\n",
       "  <tbody>\n",
       "    <tr>\n",
       "      <th>0</th>\n",
       "      <td>404 Not Found</td>\n",
       "      <td>N/A</td>\n",
       "      <td>N/A</td>\n",
       "      <td>N/A</td>\n",
       "      <td>No description available.</td>\n",
       "      <td>N/A</td>\n",
       "      <td>Books</td>\n",
       "    </tr>\n",
       "    <tr>\n",
       "      <th>1</th>\n",
       "      <td>404 Not Found</td>\n",
       "      <td>N/A</td>\n",
       "      <td>N/A</td>\n",
       "      <td>N/A</td>\n",
       "      <td>No description available.</td>\n",
       "      <td>N/A</td>\n",
       "      <td>Books</td>\n",
       "    </tr>\n",
       "    <tr>\n",
       "      <th>2</th>\n",
       "      <td>404 Not Found</td>\n",
       "      <td>N/A</td>\n",
       "      <td>N/A</td>\n",
       "      <td>N/A</td>\n",
       "      <td>No description available.</td>\n",
       "      <td>N/A</td>\n",
       "      <td>Books</td>\n",
       "    </tr>\n",
       "    <tr>\n",
       "      <th>3</th>\n",
       "      <td>404 Not Found</td>\n",
       "      <td>N/A</td>\n",
       "      <td>N/A</td>\n",
       "      <td>N/A</td>\n",
       "      <td>No description available.</td>\n",
       "      <td>N/A</td>\n",
       "      <td>Books</td>\n",
       "    </tr>\n",
       "    <tr>\n",
       "      <th>4</th>\n",
       "      <td>404 Not Found</td>\n",
       "      <td>N/A</td>\n",
       "      <td>N/A</td>\n",
       "      <td>N/A</td>\n",
       "      <td>No description available.</td>\n",
       "      <td>N/A</td>\n",
       "      <td>Books</td>\n",
       "    </tr>\n",
       "  </tbody>\n",
       "</table>\n",
       "</div>"
      ],
      "text/plain": [
       "           Title Price Availability Rating                Description  UPC  \\\n",
       "0  404 Not Found   N/A          N/A    N/A  No description available.  N/A   \n",
       "1  404 Not Found   N/A          N/A    N/A  No description available.  N/A   \n",
       "2  404 Not Found   N/A          N/A    N/A  No description available.  N/A   \n",
       "3  404 Not Found   N/A          N/A    N/A  No description available.  N/A   \n",
       "4  404 Not Found   N/A          N/A    N/A  No description available.  N/A   \n",
       "\n",
       "  Category  \n",
       "0    Books  \n",
       "1    Books  \n",
       "2    Books  \n",
       "3    Books  \n",
       "4    Books  "
      ]
     },
     "execution_count": 19,
     "metadata": {},
     "output_type": "execute_result"
    }
   ],
   "source": [
    "books_df.head()"
   ]
  },
  {
   "cell_type": "code",
   "execution_count": null,
   "metadata": {},
   "outputs": [],
   "source": []
  }
 ],
 "metadata": {
  "colab": {
   "provenance": []
  },
  "kernelspec": {
   "display_name": "Python 3 (ipykernel)",
   "language": "python",
   "name": "python3"
  },
  "language_info": {
   "codemirror_mode": {
    "name": "ipython",
    "version": 3
   },
   "file_extension": ".py",
   "mimetype": "text/x-python",
   "name": "python",
   "nbconvert_exporter": "python",
   "pygments_lexer": "ipython3",
   "version": "3.12.4"
  }
 },
 "nbformat": 4,
 "nbformat_minor": 4
}
